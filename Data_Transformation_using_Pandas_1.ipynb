{
 "cells": [
  {
   "cell_type": "code",
   "execution_count": null,
   "metadata": {},
   "outputs": [],
   "source": [
    "# Topics to complete-\n",
    "# (1) Statistical Functions\n",
    "# (2) Data Transformations"
   ]
  },
  {
   "cell_type": "code",
   "execution_count": null,
   "metadata": {},
   "outputs": [],
   "source": [
    "# pandas => enables all functions - MS Excel"
   ]
  },
  {
   "cell_type": "code",
   "execution_count": 5,
   "metadata": {},
   "outputs": [],
   "source": [
    "# Importing important libraries\n",
    "import pandas as pd\n",
    "import numpy as np"
   ]
  },
  {
   "cell_type": "code",
   "execution_count": null,
   "metadata": {},
   "outputs": [],
   "source": [
    "# Fundamental difference between\n",
    "# python list - different data types - str, int, list, dict....\n",
    "# numpy array - homogenous - same - str\n"
   ]
  },
  {
   "cell_type": "code",
   "execution_count": null,
   "metadata": {},
   "outputs": [],
   "source": []
  },
  {
   "cell_type": "code",
   "execution_count": 38,
   "metadata": {},
   "outputs": [],
   "source": [
    "# Load or import dataset\n",
    "\n",
    "# Import or read octane.csv\n",
    "# read_csv function in pandas\n",
    "df = pd.read_csv('Octane.csv')"
   ]
  },
  {
   "cell_type": "code",
   "execution_count": 39,
   "metadata": {},
   "outputs": [
    {
     "data": {
      "text/html": [
       "<div>\n",
       "<style scoped>\n",
       "    .dataframe tbody tr th:only-of-type {\n",
       "        vertical-align: middle;\n",
       "    }\n",
       "\n",
       "    .dataframe tbody tr th {\n",
       "        vertical-align: top;\n",
       "    }\n",
       "\n",
       "    .dataframe thead th {\n",
       "        text-align: right;\n",
       "    }\n",
       "</style>\n",
       "<table border=\"1\" class=\"dataframe\">\n",
       "  <thead>\n",
       "    <tr style=\"text-align: right;\">\n",
       "      <th></th>\n",
       "      <th>Sample</th>\n",
       "      <th>Material1</th>\n",
       "      <th>Material2</th>\n",
       "      <th>Material3</th>\n",
       "      <th>Condition</th>\n",
       "      <th>Octane</th>\n",
       "    </tr>\n",
       "  </thead>\n",
       "  <tbody>\n",
       "    <tr>\n",
       "      <th>0</th>\n",
       "      <td>1</td>\n",
       "      <td>55.33</td>\n",
       "      <td>1.72</td>\n",
       "      <td>54</td>\n",
       "      <td>1.66219</td>\n",
       "      <td>92.19</td>\n",
       "    </tr>\n",
       "    <tr>\n",
       "      <th>1</th>\n",
       "      <td>2</td>\n",
       "      <td>59.13</td>\n",
       "      <td>1.20</td>\n",
       "      <td>53</td>\n",
       "      <td>1.58399</td>\n",
       "      <td>92.74</td>\n",
       "    </tr>\n",
       "    <tr>\n",
       "      <th>2</th>\n",
       "      <td>3</td>\n",
       "      <td>57.39</td>\n",
       "      <td>1.42</td>\n",
       "      <td>55</td>\n",
       "      <td>1.61731</td>\n",
       "      <td>91.88</td>\n",
       "    </tr>\n",
       "    <tr>\n",
       "      <th>3</th>\n",
       "      <td>4</td>\n",
       "      <td>56.43</td>\n",
       "      <td>1.78</td>\n",
       "      <td>55</td>\n",
       "      <td>1.66228</td>\n",
       "      <td>92.80</td>\n",
       "    </tr>\n",
       "    <tr>\n",
       "      <th>4</th>\n",
       "      <td>5</td>\n",
       "      <td>55.98</td>\n",
       "      <td>1.58</td>\n",
       "      <td>54</td>\n",
       "      <td>1.63195</td>\n",
       "      <td>92.56</td>\n",
       "    </tr>\n",
       "  </tbody>\n",
       "</table>\n",
       "</div>"
      ],
      "text/plain": [
       "   Sample  Material1  Material2  Material3  Condition  Octane\n",
       "0       1      55.33       1.72         54    1.66219   92.19\n",
       "1       2      59.13       1.20         53    1.58399   92.74\n",
       "2       3      57.39       1.42         55    1.61731   91.88\n",
       "3       4      56.43       1.78         55    1.66228   92.80\n",
       "4       5      55.98       1.58         54    1.63195   92.56"
      ]
     },
     "execution_count": 39,
     "metadata": {},
     "output_type": "execute_result"
    }
   ],
   "source": [
    "df.head()"
   ]
  },
  {
   "cell_type": "code",
   "execution_count": null,
   "metadata": {},
   "outputs": [],
   "source": [
    "# Tell the number of null values in each column\n"
   ]
  },
  {
   "cell_type": "code",
   "execution_count": 10,
   "metadata": {},
   "outputs": [
    {
     "data": {
      "text/plain": [
       "Sample       0\n",
       "Material1    0\n",
       "Material2    0\n",
       "Material3    0\n",
       "Condition    0\n",
       "Octane       0\n",
       "dtype: int64"
      ]
     },
     "execution_count": 10,
     "metadata": {},
     "output_type": "execute_result"
    }
   ],
   "source": [
    "df.isnull().sum()"
   ]
  },
  {
   "cell_type": "code",
   "execution_count": 11,
   "metadata": {},
   "outputs": [
    {
     "name": "stdout",
     "output_type": "stream",
     "text": [
      "<class 'pandas.core.frame.DataFrame'>\n",
      "RangeIndex: 82 entries, 0 to 81\n",
      "Data columns (total 6 columns):\n",
      " #   Column     Non-Null Count  Dtype  \n",
      "---  ------     --------------  -----  \n",
      " 0   Sample     82 non-null     int64  \n",
      " 1   Material1  82 non-null     float64\n",
      " 2   Material2  82 non-null     float64\n",
      " 3   Material3  82 non-null     int64  \n",
      " 4   Condition  82 non-null     float64\n",
      " 5   Octane     82 non-null     float64\n",
      "dtypes: float64(4), int64(2)\n",
      "memory usage: 4.0 KB\n"
     ]
    }
   ],
   "source": [
    "# Schema of dataframe\n",
    "df.info()"
   ]
  },
  {
   "cell_type": "code",
   "execution_count": null,
   "metadata": {},
   "outputs": [],
   "source": [
    "# Caluclate the mean of each column in df\n",
    "# assign each mean to its separate variable\n",
    "# Wrtie a function for this - takes a dataframe and the column \n",
    "# and returns its mean\n",
    "\n",
    "mat_2_mean\n",
    "sample_mean\n",
    "\n"
   ]
  },
  {
   "cell_type": "code",
   "execution_count": 13,
   "metadata": {},
   "outputs": [],
   "source": [
    "mat_1_mean = df['Material1'].mean()"
   ]
  },
  {
   "cell_type": "code",
   "execution_count": 14,
   "metadata": {},
   "outputs": [
    {
     "data": {
      "text/plain": [
       "60.170609756097555"
      ]
     },
     "execution_count": 14,
     "metadata": {},
     "output_type": "execute_result"
    }
   ],
   "source": [
    "mat_1_mean"
   ]
  },
  {
   "cell_type": "code",
   "execution_count": 43,
   "metadata": {},
   "outputs": [],
   "source": [
    "def col_mean(df, col):\n",
    "    result = None\n",
    "    df_cols = df.columns\n",
    "    if col in df_cols:\n",
    "        result = df[col].mean()\n",
    "    \n",
    "    return result"
   ]
  },
  {
   "cell_type": "code",
   "execution_count": null,
   "metadata": {},
   "outputs": [],
   "source": [
    "def col_mean(df, col):\n",
    "    result = None\n",
    "    df_cols = df.columns\n",
    "    if col in df_cols:\n",
    "        result = df[col].mean()\n",
    "    else:\n",
    "        return result"
   ]
  },
  {
   "cell_type": "code",
   "execution_count": 44,
   "metadata": {},
   "outputs": [
    {
     "data": {
      "text/plain": [
       "Index(['Sample', 'Material1', 'Material2', 'Material3', 'Condition', 'Octane'], dtype='object')"
      ]
     },
     "execution_count": 44,
     "metadata": {},
     "output_type": "execute_result"
    }
   ],
   "source": [
    "df.columns"
   ]
  },
  {
   "cell_type": "code",
   "execution_count": null,
   "metadata": {},
   "outputs": [],
   "source": [
    "col_mean(df, 'xyz')"
   ]
  },
  {
   "cell_type": "code",
   "execution_count": 45,
   "metadata": {},
   "outputs": [
    {
     "ename": "KeyError",
     "evalue": "'xyz'",
     "output_type": "error",
     "traceback": [
      "\u001b[0;31m---------------------------------------------------------------------------\u001b[0m",
      "\u001b[0;31mKeyError\u001b[0m                                  Traceback (most recent call last)",
      "File \u001b[0;32m/opt/homebrew/Caskroom/miniforge/base/envs/conda_data_science/lib/python3.9/site-packages/pandas/core/indexes/base.py:3621\u001b[0m, in \u001b[0;36mIndex.get_loc\u001b[0;34m(self, key, method, tolerance)\u001b[0m\n\u001b[1;32m   3620\u001b[0m \u001b[38;5;28;01mtry\u001b[39;00m:\n\u001b[0;32m-> 3621\u001b[0m     \u001b[38;5;28;01mreturn\u001b[39;00m \u001b[38;5;28;43mself\u001b[39;49m\u001b[38;5;241;43m.\u001b[39;49m\u001b[43m_engine\u001b[49m\u001b[38;5;241;43m.\u001b[39;49m\u001b[43mget_loc\u001b[49m\u001b[43m(\u001b[49m\u001b[43mcasted_key\u001b[49m\u001b[43m)\u001b[49m\n\u001b[1;32m   3622\u001b[0m \u001b[38;5;28;01mexcept\u001b[39;00m \u001b[38;5;167;01mKeyError\u001b[39;00m \u001b[38;5;28;01mas\u001b[39;00m err:\n",
      "File \u001b[0;32m/opt/homebrew/Caskroom/miniforge/base/envs/conda_data_science/lib/python3.9/site-packages/pandas/_libs/index.pyx:136\u001b[0m, in \u001b[0;36mpandas._libs.index.IndexEngine.get_loc\u001b[0;34m()\u001b[0m\n",
      "File \u001b[0;32m/opt/homebrew/Caskroom/miniforge/base/envs/conda_data_science/lib/python3.9/site-packages/pandas/_libs/index.pyx:163\u001b[0m, in \u001b[0;36mpandas._libs.index.IndexEngine.get_loc\u001b[0;34m()\u001b[0m\n",
      "File \u001b[0;32mpandas/_libs/hashtable_class_helper.pxi:5198\u001b[0m, in \u001b[0;36mpandas._libs.hashtable.PyObjectHashTable.get_item\u001b[0;34m()\u001b[0m\n",
      "File \u001b[0;32mpandas/_libs/hashtable_class_helper.pxi:5206\u001b[0m, in \u001b[0;36mpandas._libs.hashtable.PyObjectHashTable.get_item\u001b[0;34m()\u001b[0m\n",
      "\u001b[0;31mKeyError\u001b[0m: 'xyz'",
      "\nThe above exception was the direct cause of the following exception:\n",
      "\u001b[0;31mKeyError\u001b[0m                                  Traceback (most recent call last)",
      "Input \u001b[0;32mIn [45]\u001b[0m, in \u001b[0;36m<cell line: 1>\u001b[0;34m()\u001b[0m\n\u001b[0;32m----> 1\u001b[0m \u001b[43mdf\u001b[49m\u001b[43m[\u001b[49m\u001b[38;5;124;43m'\u001b[39;49m\u001b[38;5;124;43mxyz\u001b[39;49m\u001b[38;5;124;43m'\u001b[39;49m\u001b[43m]\u001b[49m\n",
      "File \u001b[0;32m/opt/homebrew/Caskroom/miniforge/base/envs/conda_data_science/lib/python3.9/site-packages/pandas/core/frame.py:3505\u001b[0m, in \u001b[0;36mDataFrame.__getitem__\u001b[0;34m(self, key)\u001b[0m\n\u001b[1;32m   3503\u001b[0m \u001b[38;5;28;01mif\u001b[39;00m \u001b[38;5;28mself\u001b[39m\u001b[38;5;241m.\u001b[39mcolumns\u001b[38;5;241m.\u001b[39mnlevels \u001b[38;5;241m>\u001b[39m \u001b[38;5;241m1\u001b[39m:\n\u001b[1;32m   3504\u001b[0m     \u001b[38;5;28;01mreturn\u001b[39;00m \u001b[38;5;28mself\u001b[39m\u001b[38;5;241m.\u001b[39m_getitem_multilevel(key)\n\u001b[0;32m-> 3505\u001b[0m indexer \u001b[38;5;241m=\u001b[39m \u001b[38;5;28;43mself\u001b[39;49m\u001b[38;5;241;43m.\u001b[39;49m\u001b[43mcolumns\u001b[49m\u001b[38;5;241;43m.\u001b[39;49m\u001b[43mget_loc\u001b[49m\u001b[43m(\u001b[49m\u001b[43mkey\u001b[49m\u001b[43m)\u001b[49m\n\u001b[1;32m   3506\u001b[0m \u001b[38;5;28;01mif\u001b[39;00m is_integer(indexer):\n\u001b[1;32m   3507\u001b[0m     indexer \u001b[38;5;241m=\u001b[39m [indexer]\n",
      "File \u001b[0;32m/opt/homebrew/Caskroom/miniforge/base/envs/conda_data_science/lib/python3.9/site-packages/pandas/core/indexes/base.py:3623\u001b[0m, in \u001b[0;36mIndex.get_loc\u001b[0;34m(self, key, method, tolerance)\u001b[0m\n\u001b[1;32m   3621\u001b[0m     \u001b[38;5;28;01mreturn\u001b[39;00m \u001b[38;5;28mself\u001b[39m\u001b[38;5;241m.\u001b[39m_engine\u001b[38;5;241m.\u001b[39mget_loc(casted_key)\n\u001b[1;32m   3622\u001b[0m \u001b[38;5;28;01mexcept\u001b[39;00m \u001b[38;5;167;01mKeyError\u001b[39;00m \u001b[38;5;28;01mas\u001b[39;00m err:\n\u001b[0;32m-> 3623\u001b[0m     \u001b[38;5;28;01mraise\u001b[39;00m \u001b[38;5;167;01mKeyError\u001b[39;00m(key) \u001b[38;5;28;01mfrom\u001b[39;00m \u001b[38;5;21;01merr\u001b[39;00m\n\u001b[1;32m   3624\u001b[0m \u001b[38;5;28;01mexcept\u001b[39;00m \u001b[38;5;167;01mTypeError\u001b[39;00m:\n\u001b[1;32m   3625\u001b[0m     \u001b[38;5;66;03m# If we have a listlike key, _check_indexing_error will raise\u001b[39;00m\n\u001b[1;32m   3626\u001b[0m     \u001b[38;5;66;03m#  InvalidIndexError. Otherwise we fall through and re-raise\u001b[39;00m\n\u001b[1;32m   3627\u001b[0m     \u001b[38;5;66;03m#  the TypeError.\u001b[39;00m\n\u001b[1;32m   3628\u001b[0m     \u001b[38;5;28mself\u001b[39m\u001b[38;5;241m.\u001b[39m_check_indexing_error(key)\n",
      "\u001b[0;31mKeyError\u001b[0m: 'xyz'"
     ]
    }
   ],
   "source": [
    "df['xyz']"
   ]
  },
  {
   "cell_type": "code",
   "execution_count": null,
   "metadata": {},
   "outputs": [],
   "source": []
  },
  {
   "cell_type": "code",
   "execution_count": null,
   "metadata": {},
   "outputs": [],
   "source": []
  },
  {
   "cell_type": "code",
   "execution_count": 20,
   "metadata": {},
   "outputs": [],
   "source": [
    "data = df.columns"
   ]
  },
  {
   "cell_type": "code",
   "execution_count": 33,
   "metadata": {},
   "outputs": [],
   "source": [
    "def input_mean(data):\n",
    "    print(data)\n",
    "    for i in data:\n",
    "        df[i] = df[i].mean()"
   ]
  },
  {
   "cell_type": "code",
   "execution_count": 40,
   "metadata": {},
   "outputs": [
    {
     "data": {
      "text/html": [
       "<div>\n",
       "<style scoped>\n",
       "    .dataframe tbody tr th:only-of-type {\n",
       "        vertical-align: middle;\n",
       "    }\n",
       "\n",
       "    .dataframe tbody tr th {\n",
       "        vertical-align: top;\n",
       "    }\n",
       "\n",
       "    .dataframe thead th {\n",
       "        text-align: right;\n",
       "    }\n",
       "</style>\n",
       "<table border=\"1\" class=\"dataframe\">\n",
       "  <thead>\n",
       "    <tr style=\"text-align: right;\">\n",
       "      <th></th>\n",
       "      <th>Sample</th>\n",
       "      <th>Material1</th>\n",
       "      <th>Material2</th>\n",
       "      <th>Material3</th>\n",
       "      <th>Condition</th>\n",
       "      <th>Octane</th>\n",
       "    </tr>\n",
       "  </thead>\n",
       "  <tbody>\n",
       "    <tr>\n",
       "      <th>0</th>\n",
       "      <td>1</td>\n",
       "      <td>55.33</td>\n",
       "      <td>1.72</td>\n",
       "      <td>54</td>\n",
       "      <td>1.66219</td>\n",
       "      <td>92.19</td>\n",
       "    </tr>\n",
       "    <tr>\n",
       "      <th>1</th>\n",
       "      <td>2</td>\n",
       "      <td>59.13</td>\n",
       "      <td>1.20</td>\n",
       "      <td>53</td>\n",
       "      <td>1.58399</td>\n",
       "      <td>92.74</td>\n",
       "    </tr>\n",
       "    <tr>\n",
       "      <th>2</th>\n",
       "      <td>3</td>\n",
       "      <td>57.39</td>\n",
       "      <td>1.42</td>\n",
       "      <td>55</td>\n",
       "      <td>1.61731</td>\n",
       "      <td>91.88</td>\n",
       "    </tr>\n",
       "    <tr>\n",
       "      <th>3</th>\n",
       "      <td>4</td>\n",
       "      <td>56.43</td>\n",
       "      <td>1.78</td>\n",
       "      <td>55</td>\n",
       "      <td>1.66228</td>\n",
       "      <td>92.80</td>\n",
       "    </tr>\n",
       "    <tr>\n",
       "      <th>4</th>\n",
       "      <td>5</td>\n",
       "      <td>55.98</td>\n",
       "      <td>1.58</td>\n",
       "      <td>54</td>\n",
       "      <td>1.63195</td>\n",
       "      <td>92.56</td>\n",
       "    </tr>\n",
       "    <tr>\n",
       "      <th>...</th>\n",
       "      <td>...</td>\n",
       "      <td>...</td>\n",
       "      <td>...</td>\n",
       "      <td>...</td>\n",
       "      <td>...</td>\n",
       "      <td>...</td>\n",
       "    </tr>\n",
       "    <tr>\n",
       "      <th>77</th>\n",
       "      <td>78</td>\n",
       "      <td>67.60</td>\n",
       "      <td>1.84</td>\n",
       "      <td>55</td>\n",
       "      <td>1.64758</td>\n",
       "      <td>91.86</td>\n",
       "    </tr>\n",
       "    <tr>\n",
       "      <th>78</th>\n",
       "      <td>79</td>\n",
       "      <td>64.81</td>\n",
       "      <td>2.24</td>\n",
       "      <td>54</td>\n",
       "      <td>1.69592</td>\n",
       "      <td>91.61</td>\n",
       "    </tr>\n",
       "    <tr>\n",
       "      <th>79</th>\n",
       "      <td>80</td>\n",
       "      <td>63.13</td>\n",
       "      <td>1.60</td>\n",
       "      <td>52</td>\n",
       "      <td>1.66118</td>\n",
       "      <td>92.17</td>\n",
       "    </tr>\n",
       "    <tr>\n",
       "      <th>80</th>\n",
       "      <td>81</td>\n",
       "      <td>63.48</td>\n",
       "      <td>3.46</td>\n",
       "      <td>52</td>\n",
       "      <td>1.48216</td>\n",
       "      <td>91.56</td>\n",
       "    </tr>\n",
       "    <tr>\n",
       "      <th>81</th>\n",
       "      <td>82</td>\n",
       "      <td>62.25</td>\n",
       "      <td>3.56</td>\n",
       "      <td>50</td>\n",
       "      <td>1.49734</td>\n",
       "      <td>92.16</td>\n",
       "    </tr>\n",
       "  </tbody>\n",
       "</table>\n",
       "<p>82 rows × 6 columns</p>\n",
       "</div>"
      ],
      "text/plain": [
       "    Sample  Material1  Material2  Material3  Condition  Octane\n",
       "0        1      55.33       1.72         54    1.66219   92.19\n",
       "1        2      59.13       1.20         53    1.58399   92.74\n",
       "2        3      57.39       1.42         55    1.61731   91.88\n",
       "3        4      56.43       1.78         55    1.66228   92.80\n",
       "4        5      55.98       1.58         54    1.63195   92.56\n",
       "..     ...        ...        ...        ...        ...     ...\n",
       "77      78      67.60       1.84         55    1.64758   91.86\n",
       "78      79      64.81       2.24         54    1.69592   91.61\n",
       "79      80      63.13       1.60         52    1.66118   92.17\n",
       "80      81      63.48       3.46         52    1.48216   91.56\n",
       "81      82      62.25       3.56         50    1.49734   92.16\n",
       "\n",
       "[82 rows x 6 columns]"
      ]
     },
     "execution_count": 40,
     "metadata": {},
     "output_type": "execute_result"
    }
   ],
   "source": [
    "df"
   ]
  },
  {
   "cell_type": "code",
   "execution_count": null,
   "metadata": {},
   "outputs": [],
   "source": []
  },
  {
   "cell_type": "code",
   "execution_count": 36,
   "metadata": {},
   "outputs": [],
   "source": [
    "df1 = df"
   ]
  },
  {
   "cell_type": "code",
   "execution_count": 37,
   "metadata": {},
   "outputs": [
    {
     "name": "stdout",
     "output_type": "stream",
     "text": [
      "    Sample  Material1  Material2  Material3  Condition     Octane\n",
      "0     41.5   60.17061   1.663659  55.463415   1.626571  91.849878\n",
      "1     41.5   60.17061   1.663659  55.463415   1.626571  91.849878\n",
      "2     41.5   60.17061   1.663659  55.463415   1.626571  91.849878\n",
      "3     41.5   60.17061   1.663659  55.463415   1.626571  91.849878\n",
      "4     41.5   60.17061   1.663659  55.463415   1.626571  91.849878\n",
      "..     ...        ...        ...        ...        ...        ...\n",
      "77    41.5   60.17061   1.663659  55.463415   1.626571  91.849878\n",
      "78    41.5   60.17061   1.663659  55.463415   1.626571  91.849878\n",
      "79    41.5   60.17061   1.663659  55.463415   1.626571  91.849878\n",
      "80    41.5   60.17061   1.663659  55.463415   1.626571  91.849878\n",
      "81    41.5   60.17061   1.663659  55.463415   1.626571  91.849878\n",
      "\n",
      "[82 rows x 6 columns]\n"
     ]
    }
   ],
   "source": [
    "input_mean(df1)"
   ]
  },
  {
   "cell_type": "code",
   "execution_count": 42,
   "metadata": {},
   "outputs": [
    {
     "data": {
      "text/html": [
       "<div>\n",
       "<style scoped>\n",
       "    .dataframe tbody tr th:only-of-type {\n",
       "        vertical-align: middle;\n",
       "    }\n",
       "\n",
       "    .dataframe tbody tr th {\n",
       "        vertical-align: top;\n",
       "    }\n",
       "\n",
       "    .dataframe thead th {\n",
       "        text-align: right;\n",
       "    }\n",
       "</style>\n",
       "<table border=\"1\" class=\"dataframe\">\n",
       "  <thead>\n",
       "    <tr style=\"text-align: right;\">\n",
       "      <th></th>\n",
       "      <th>Sample</th>\n",
       "      <th>Material1</th>\n",
       "      <th>Material2</th>\n",
       "      <th>Material3</th>\n",
       "      <th>Condition</th>\n",
       "      <th>Octane</th>\n",
       "    </tr>\n",
       "  </thead>\n",
       "  <tbody>\n",
       "    <tr>\n",
       "      <th>0</th>\n",
       "      <td>41.5</td>\n",
       "      <td>60.17061</td>\n",
       "      <td>1.663659</td>\n",
       "      <td>55.463415</td>\n",
       "      <td>1.626571</td>\n",
       "      <td>91.849878</td>\n",
       "    </tr>\n",
       "    <tr>\n",
       "      <th>1</th>\n",
       "      <td>41.5</td>\n",
       "      <td>60.17061</td>\n",
       "      <td>1.663659</td>\n",
       "      <td>55.463415</td>\n",
       "      <td>1.626571</td>\n",
       "      <td>91.849878</td>\n",
       "    </tr>\n",
       "    <tr>\n",
       "      <th>2</th>\n",
       "      <td>41.5</td>\n",
       "      <td>60.17061</td>\n",
       "      <td>1.663659</td>\n",
       "      <td>55.463415</td>\n",
       "      <td>1.626571</td>\n",
       "      <td>91.849878</td>\n",
       "    </tr>\n",
       "    <tr>\n",
       "      <th>3</th>\n",
       "      <td>41.5</td>\n",
       "      <td>60.17061</td>\n",
       "      <td>1.663659</td>\n",
       "      <td>55.463415</td>\n",
       "      <td>1.626571</td>\n",
       "      <td>91.849878</td>\n",
       "    </tr>\n",
       "    <tr>\n",
       "      <th>4</th>\n",
       "      <td>41.5</td>\n",
       "      <td>60.17061</td>\n",
       "      <td>1.663659</td>\n",
       "      <td>55.463415</td>\n",
       "      <td>1.626571</td>\n",
       "      <td>91.849878</td>\n",
       "    </tr>\n",
       "    <tr>\n",
       "      <th>...</th>\n",
       "      <td>...</td>\n",
       "      <td>...</td>\n",
       "      <td>...</td>\n",
       "      <td>...</td>\n",
       "      <td>...</td>\n",
       "      <td>...</td>\n",
       "    </tr>\n",
       "    <tr>\n",
       "      <th>77</th>\n",
       "      <td>41.5</td>\n",
       "      <td>60.17061</td>\n",
       "      <td>1.663659</td>\n",
       "      <td>55.463415</td>\n",
       "      <td>1.626571</td>\n",
       "      <td>91.849878</td>\n",
       "    </tr>\n",
       "    <tr>\n",
       "      <th>78</th>\n",
       "      <td>41.5</td>\n",
       "      <td>60.17061</td>\n",
       "      <td>1.663659</td>\n",
       "      <td>55.463415</td>\n",
       "      <td>1.626571</td>\n",
       "      <td>91.849878</td>\n",
       "    </tr>\n",
       "    <tr>\n",
       "      <th>79</th>\n",
       "      <td>41.5</td>\n",
       "      <td>60.17061</td>\n",
       "      <td>1.663659</td>\n",
       "      <td>55.463415</td>\n",
       "      <td>1.626571</td>\n",
       "      <td>91.849878</td>\n",
       "    </tr>\n",
       "    <tr>\n",
       "      <th>80</th>\n",
       "      <td>41.5</td>\n",
       "      <td>60.17061</td>\n",
       "      <td>1.663659</td>\n",
       "      <td>55.463415</td>\n",
       "      <td>1.626571</td>\n",
       "      <td>91.849878</td>\n",
       "    </tr>\n",
       "    <tr>\n",
       "      <th>81</th>\n",
       "      <td>41.5</td>\n",
       "      <td>60.17061</td>\n",
       "      <td>1.663659</td>\n",
       "      <td>55.463415</td>\n",
       "      <td>1.626571</td>\n",
       "      <td>91.849878</td>\n",
       "    </tr>\n",
       "  </tbody>\n",
       "</table>\n",
       "<p>82 rows × 6 columns</p>\n",
       "</div>"
      ],
      "text/plain": [
       "    Sample  Material1  Material2  Material3  Condition     Octane\n",
       "0     41.5   60.17061   1.663659  55.463415   1.626571  91.849878\n",
       "1     41.5   60.17061   1.663659  55.463415   1.626571  91.849878\n",
       "2     41.5   60.17061   1.663659  55.463415   1.626571  91.849878\n",
       "3     41.5   60.17061   1.663659  55.463415   1.626571  91.849878\n",
       "4     41.5   60.17061   1.663659  55.463415   1.626571  91.849878\n",
       "..     ...        ...        ...        ...        ...        ...\n",
       "77    41.5   60.17061   1.663659  55.463415   1.626571  91.849878\n",
       "78    41.5   60.17061   1.663659  55.463415   1.626571  91.849878\n",
       "79    41.5   60.17061   1.663659  55.463415   1.626571  91.849878\n",
       "80    41.5   60.17061   1.663659  55.463415   1.626571  91.849878\n",
       "81    41.5   60.17061   1.663659  55.463415   1.626571  91.849878\n",
       "\n",
       "[82 rows x 6 columns]"
      ]
     },
     "execution_count": 42,
     "metadata": {},
     "output_type": "execute_result"
    }
   ],
   "source": [
    "df1"
   ]
  },
  {
   "cell_type": "code",
   "execution_count": null,
   "metadata": {},
   "outputs": [],
   "source": []
  },
  {
   "cell_type": "code",
   "execution_count": null,
   "metadata": {},
   "outputs": [],
   "source": []
  },
  {
   "cell_type": "code",
   "execution_count": null,
   "metadata": {},
   "outputs": [],
   "source": []
  },
  {
   "cell_type": "code",
   "execution_count": 22,
   "metadata": {},
   "outputs": [
    {
     "name": "stdout",
     "output_type": "stream",
     "text": [
      "60.170609756097555\n"
     ]
    }
   ],
   "source": [
    "mat_1_mean = col_mean(df, 'Material1')"
   ]
  },
  {
   "cell_type": "code",
   "execution_count": 24,
   "metadata": {},
   "outputs": [
    {
     "name": "stdout",
     "output_type": "stream",
     "text": [
      "None\n"
     ]
    }
   ],
   "source": [
    "print(mat_1_mean)"
   ]
  },
  {
   "cell_type": "code",
   "execution_count": null,
   "metadata": {},
   "outputs": [],
   "source": [
    "\n",
    "\n",
    "\n",
    "\n",
    "\n",
    "\n",
    "\n",
    "\n",
    "\n",
    "\n"
   ]
  },
  {
   "cell_type": "code",
   "execution_count": 18,
   "metadata": {
    "scrolled": true
   },
   "outputs": [
    {
     "ename": "AttributeError",
     "evalue": "'DataFrame' object has no attribute 'col'",
     "output_type": "error",
     "traceback": [
      "\u001b[0;31m---------------------------------------------------------------------------\u001b[0m",
      "\u001b[0;31mAttributeError\u001b[0m                            Traceback (most recent call last)",
      "Input \u001b[0;32mIn [18]\u001b[0m, in \u001b[0;36m<cell line: 1>\u001b[0;34m()\u001b[0m\n\u001b[0;32m----> 1\u001b[0m \u001b[43mcol_mean\u001b[49m\u001b[43m(\u001b[49m\u001b[43mdf\u001b[49m\u001b[43m,\u001b[49m\u001b[43m \u001b[49m\u001b[43mcol\u001b[49m\u001b[38;5;241;43m=\u001b[39;49m\u001b[38;5;124;43m'\u001b[39;49m\u001b[38;5;124;43mMaterial1\u001b[39;49m\u001b[38;5;124;43m'\u001b[39;49m\u001b[43m)\u001b[49m\n",
      "Input \u001b[0;32mIn [17]\u001b[0m, in \u001b[0;36mcol_mean\u001b[0;34m(df, col)\u001b[0m\n\u001b[1;32m      2\u001b[0m \u001b[38;5;28;01mdef\u001b[39;00m \u001b[38;5;21mcol_mean\u001b[39m(df, col):\n\u001b[0;32m----> 4\u001b[0m     \u001b[38;5;28;01mreturn\u001b[39;00m \u001b[43mdf\u001b[49m\u001b[38;5;241;43m.\u001b[39;49m\u001b[43mcol\u001b[49m\u001b[38;5;241m.\u001b[39mmean\n",
      "File \u001b[0;32m/opt/homebrew/Caskroom/miniforge/base/envs/conda_data_science/lib/python3.9/site-packages/pandas/core/generic.py:5575\u001b[0m, in \u001b[0;36mNDFrame.__getattr__\u001b[0;34m(self, name)\u001b[0m\n\u001b[1;32m   5568\u001b[0m \u001b[38;5;28;01mif\u001b[39;00m (\n\u001b[1;32m   5569\u001b[0m     name \u001b[38;5;129;01mnot\u001b[39;00m \u001b[38;5;129;01min\u001b[39;00m \u001b[38;5;28mself\u001b[39m\u001b[38;5;241m.\u001b[39m_internal_names_set\n\u001b[1;32m   5570\u001b[0m     \u001b[38;5;129;01mand\u001b[39;00m name \u001b[38;5;129;01mnot\u001b[39;00m \u001b[38;5;129;01min\u001b[39;00m \u001b[38;5;28mself\u001b[39m\u001b[38;5;241m.\u001b[39m_metadata\n\u001b[1;32m   5571\u001b[0m     \u001b[38;5;129;01mand\u001b[39;00m name \u001b[38;5;129;01mnot\u001b[39;00m \u001b[38;5;129;01min\u001b[39;00m \u001b[38;5;28mself\u001b[39m\u001b[38;5;241m.\u001b[39m_accessors\n\u001b[1;32m   5572\u001b[0m     \u001b[38;5;129;01mand\u001b[39;00m \u001b[38;5;28mself\u001b[39m\u001b[38;5;241m.\u001b[39m_info_axis\u001b[38;5;241m.\u001b[39m_can_hold_identifiers_and_holds_name(name)\n\u001b[1;32m   5573\u001b[0m ):\n\u001b[1;32m   5574\u001b[0m     \u001b[38;5;28;01mreturn\u001b[39;00m \u001b[38;5;28mself\u001b[39m[name]\n\u001b[0;32m-> 5575\u001b[0m \u001b[38;5;28;01mreturn\u001b[39;00m \u001b[38;5;28;43mobject\u001b[39;49m\u001b[38;5;241;43m.\u001b[39;49m\u001b[38;5;21;43m__getattribute__\u001b[39;49m\u001b[43m(\u001b[49m\u001b[38;5;28;43mself\u001b[39;49m\u001b[43m,\u001b[49m\u001b[43m \u001b[49m\u001b[43mname\u001b[49m\u001b[43m)\u001b[49m\n",
      "\u001b[0;31mAttributeError\u001b[0m: 'DataFrame' object has no attribute 'col'"
     ]
    }
   ],
   "source": [
    "col_mean(df, col='Material1')"
   ]
  },
  {
   "cell_type": "code",
   "execution_count": 12,
   "metadata": {},
   "outputs": [
    {
     "data": {
      "text/plain": [
       "Sample       41.500000\n",
       "Material1    60.170610\n",
       "Material2     1.663659\n",
       "Material3    55.463415\n",
       "Condition     1.626571\n",
       "Octane       91.849878\n",
       "dtype: float64"
      ]
     },
     "execution_count": 12,
     "metadata": {},
     "output_type": "execute_result"
    }
   ],
   "source": [
    "df.mean()\n"
   ]
  },
  {
   "cell_type": "code",
   "execution_count": null,
   "metadata": {},
   "outputs": [],
   "source": []
  },
  {
   "cell_type": "code",
   "execution_count": 2,
   "metadata": {},
   "outputs": [
    {
     "ename": "NameError",
     "evalue": "name 'pd' is not defined",
     "output_type": "error",
     "traceback": [
      "\u001b[0;31m---------------------------------------------------------------------------\u001b[0m",
      "\u001b[0;31mNameError\u001b[0m                                 Traceback (most recent call last)",
      "Input \u001b[0;32mIn [2]\u001b[0m, in \u001b[0;36m<cell line: 2>\u001b[0;34m()\u001b[0m\n\u001b[1;32m      1\u001b[0m \u001b[38;5;66;03m# Importing the dataset\u001b[39;00m\n\u001b[0;32m----> 2\u001b[0m df \u001b[38;5;241m=\u001b[39m \u001b[43mpd\u001b[49m\u001b[38;5;241m.\u001b[39mread_csv(\u001b[38;5;124m'\u001b[39m\u001b[38;5;124mOctane.csv\u001b[39m\u001b[38;5;124m'\u001b[39m)\n\u001b[1;32m      3\u001b[0m df\u001b[38;5;241m.\u001b[39mhead()\n",
      "\u001b[0;31mNameError\u001b[0m: name 'pd' is not defined"
     ]
    }
   ],
   "source": [
    "# Importing the dataset\n",
    "df = pd.read_csv('Octane.csv')\n",
    "df.head()"
   ]
  },
  {
   "cell_type": "code",
   "execution_count": 46,
   "metadata": {},
   "outputs": [
    {
     "name": "stdout",
     "output_type": "stream",
     "text": [
      "Mean value for Material 1 is :  60.170609756097555\n",
      "Mean value for Material 2 is :  1.663658536585366\n",
      "Mean value for Material 3 is :  55.46341463414634\n",
      "Mean value for Condition is :  1.6265713414634146\n",
      "Mean value for Octane is :  91.84987804878048\n"
     ]
    }
   ],
   "source": [
    "# Calculating mean for Material1, Material2, Material3, Condition and Octane columns\n",
    "m1_mean = df['Material1'].mean()\n",
    "m2_mean = df['Material2'].mean()\n",
    "m3_mean = df['Material3'].mean()\n",
    "cond_mean = df['Condition'].mean()\n",
    "octane_mean = df['Octane'].mean()\n",
    "print('Mean value for Material 1 is : ', m1_mean)\n",
    "print('Mean value for Material 2 is : ', m2_mean)\n",
    "print('Mean value for Material 3 is : ', m3_mean)\n",
    "print('Mean value for Condition is : ', cond_mean)\n",
    "print('Mean value for Octane is : ', octane_mean)"
   ]
  },
  {
   "cell_type": "code",
   "execution_count": null,
   "metadata": {},
   "outputs": [],
   "source": [
    "# Function that takes a df and col\n",
    "# Checks iof given col is present in df\n",
    "# if present returns median\n",
    "# if not returns null\n",
    "\n",
    "def col_median(df, col):\n",
    "    <fill this>\n",
    "    return <something>"
   ]
  },
  {
   "cell_type": "code",
   "execution_count": null,
   "metadata": {},
   "outputs": [],
   "source": [
    "def col_median(df, col):\n",
    "    result = None\n",
    "    df_cols = df.columns\n",
    "    if col in df_cols:\n",
    "        result = df[col].median()\n",
    "    else:\n",
    "        return result"
   ]
  },
  {
   "cell_type": "code",
   "execution_count": null,
   "metadata": {},
   "outputs": [],
   "source": []
  },
  {
   "cell_type": "code",
   "execution_count": null,
   "metadata": {},
   "outputs": [],
   "source": []
  },
  {
   "cell_type": "code",
   "execution_count": null,
   "metadata": {},
   "outputs": [],
   "source": []
  },
  {
   "cell_type": "code",
   "execution_count": 4,
   "metadata": {},
   "outputs": [
    {
     "name": "stdout",
     "output_type": "stream",
     "text": [
      "Median value for Material 1 is :  62.695\n",
      "Median value for Material 2 is :  1.28\n",
      "Median value for Material 3 is :  56.0\n",
      "Median value for Condition is :  1.6035750000000002\n",
      "Median value for Octane is :  91.735\n"
     ]
    }
   ],
   "source": [
    "# Calculating median for Material1, Material2, Material3, Condition and Octane columns\n",
    "m1_mdn = df['Material1'].median()\n",
    "m2_mdn = df['Material2'].median()\n",
    "m3_mdn = df['Material3'].median()\n",
    "cond_mdn = df['Condition'].median()\n",
    "octane_mdn = df['Octane'].median()\n",
    "print('Median value for Material 1 is : ', m1_mdn)\n",
    "print('Median value for Material 2 is : ', m2_mdn)\n",
    "print('Median value for Material 3 is : ', m3_mdn)\n",
    "print('Median value for Condition is : ', cond_mdn)\n",
    "print('Median value for Octane is : ', octane_mdn)"
   ]
  },
  {
   "cell_type": "code",
   "execution_count": 5,
   "metadata": {},
   "outputs": [
    {
     "name": "stdout",
     "output_type": "stream",
     "text": [
      "Mode value for Material 1 is :  0      4.23\n",
      "1      5.53\n",
      "2     17.11\n",
      "3     44.64\n",
      "4     44.66\n",
      "      ...  \n",
      "77    72.30\n",
      "78    72.66\n",
      "79    73.13\n",
      "80    73.74\n",
      "81    75.54\n",
      "Length: 82, dtype: float64\n",
      "Mode value for Material 2 is :  0    0.0\n",
      "dtype: float64\n",
      "Mode value for Material 3 is :  0    55\n",
      "dtype: int64\n",
      "Mode value for Condition is :  0     1.19975\n",
      "1     1.20817\n",
      "2     1.26174\n",
      "3     1.28802\n",
      "4     1.29842\n",
      "       ...   \n",
      "77    2.08081\n",
      "78    2.14314\n",
      "79    2.17070\n",
      "80    2.17140\n",
      "81    2.31909\n",
      "Length: 82, dtype: float64\n",
      "Mode value for Octane is :  0    91.56\n",
      "1    91.61\n",
      "2    92.16\n",
      "dtype: float64\n"
     ]
    }
   ],
   "source": [
    "# Calculating mode for Material1, Material2, Material3, Condition and Octane columns\n",
    "m1_mde = df['Material1'].mode()\n",
    "m2_mde = df['Material2'].mode()\n",
    "m3_mde = df['Material3'].mode()\n",
    "cond_mde = df['Condition'].mode()\n",
    "octane_mde = df['Octane'].mode()\n",
    "print('Mode value for Material 1 is : ', m1_mde)\n",
    "print('Mode value for Material 2 is : ', m2_mde)\n",
    "print('Mode value for Material 3 is : ', m3_mde)\n",
    "print('Mode value for Condition is : ', cond_mde)\n",
    "print('Mode value for Octane is : ', octane_mde)"
   ]
  },
  {
   "cell_type": "code",
   "execution_count": 47,
   "metadata": {},
   "outputs": [
    {
     "data": {
      "text/html": [
       "<div>\n",
       "<style scoped>\n",
       "    .dataframe tbody tr th:only-of-type {\n",
       "        vertical-align: middle;\n",
       "    }\n",
       "\n",
       "    .dataframe tbody tr th {\n",
       "        vertical-align: top;\n",
       "    }\n",
       "\n",
       "    .dataframe thead th {\n",
       "        text-align: right;\n",
       "    }\n",
       "</style>\n",
       "<table border=\"1\" class=\"dataframe\">\n",
       "  <thead>\n",
       "    <tr style=\"text-align: right;\">\n",
       "      <th></th>\n",
       "      <th>Sample</th>\n",
       "      <th>Material1</th>\n",
       "      <th>Material2</th>\n",
       "      <th>Material3</th>\n",
       "      <th>Condition</th>\n",
       "      <th>Octane</th>\n",
       "    </tr>\n",
       "  </thead>\n",
       "  <tbody>\n",
       "    <tr>\n",
       "      <th>0</th>\n",
       "      <td>1</td>\n",
       "      <td>55.33</td>\n",
       "      <td>1.72</td>\n",
       "      <td>54</td>\n",
       "      <td>1.66219</td>\n",
       "      <td>92.19</td>\n",
       "    </tr>\n",
       "    <tr>\n",
       "      <th>1</th>\n",
       "      <td>2</td>\n",
       "      <td>59.13</td>\n",
       "      <td>1.20</td>\n",
       "      <td>53</td>\n",
       "      <td>1.58399</td>\n",
       "      <td>92.74</td>\n",
       "    </tr>\n",
       "    <tr>\n",
       "      <th>2</th>\n",
       "      <td>3</td>\n",
       "      <td>57.39</td>\n",
       "      <td>1.42</td>\n",
       "      <td>55</td>\n",
       "      <td>1.61731</td>\n",
       "      <td>91.88</td>\n",
       "    </tr>\n",
       "    <tr>\n",
       "      <th>3</th>\n",
       "      <td>4</td>\n",
       "      <td>56.43</td>\n",
       "      <td>1.78</td>\n",
       "      <td>55</td>\n",
       "      <td>1.66228</td>\n",
       "      <td>92.80</td>\n",
       "    </tr>\n",
       "    <tr>\n",
       "      <th>4</th>\n",
       "      <td>5</td>\n",
       "      <td>55.98</td>\n",
       "      <td>1.58</td>\n",
       "      <td>54</td>\n",
       "      <td>1.63195</td>\n",
       "      <td>92.56</td>\n",
       "    </tr>\n",
       "    <tr>\n",
       "      <th>...</th>\n",
       "      <td>...</td>\n",
       "      <td>...</td>\n",
       "      <td>...</td>\n",
       "      <td>...</td>\n",
       "      <td>...</td>\n",
       "      <td>...</td>\n",
       "    </tr>\n",
       "    <tr>\n",
       "      <th>77</th>\n",
       "      <td>78</td>\n",
       "      <td>67.60</td>\n",
       "      <td>1.84</td>\n",
       "      <td>55</td>\n",
       "      <td>1.64758</td>\n",
       "      <td>91.86</td>\n",
       "    </tr>\n",
       "    <tr>\n",
       "      <th>78</th>\n",
       "      <td>79</td>\n",
       "      <td>64.81</td>\n",
       "      <td>2.24</td>\n",
       "      <td>54</td>\n",
       "      <td>1.69592</td>\n",
       "      <td>91.61</td>\n",
       "    </tr>\n",
       "    <tr>\n",
       "      <th>79</th>\n",
       "      <td>80</td>\n",
       "      <td>63.13</td>\n",
       "      <td>1.60</td>\n",
       "      <td>52</td>\n",
       "      <td>1.66118</td>\n",
       "      <td>92.17</td>\n",
       "    </tr>\n",
       "    <tr>\n",
       "      <th>80</th>\n",
       "      <td>81</td>\n",
       "      <td>63.48</td>\n",
       "      <td>3.46</td>\n",
       "      <td>52</td>\n",
       "      <td>1.48216</td>\n",
       "      <td>91.56</td>\n",
       "    </tr>\n",
       "    <tr>\n",
       "      <th>81</th>\n",
       "      <td>82</td>\n",
       "      <td>62.25</td>\n",
       "      <td>3.56</td>\n",
       "      <td>50</td>\n",
       "      <td>1.49734</td>\n",
       "      <td>92.16</td>\n",
       "    </tr>\n",
       "  </tbody>\n",
       "</table>\n",
       "<p>82 rows × 6 columns</p>\n",
       "</div>"
      ],
      "text/plain": [
       "    Sample  Material1  Material2  Material3  Condition  Octane\n",
       "0        1      55.33       1.72         54    1.66219   92.19\n",
       "1        2      59.13       1.20         53    1.58399   92.74\n",
       "2        3      57.39       1.42         55    1.61731   91.88\n",
       "3        4      56.43       1.78         55    1.66228   92.80\n",
       "4        5      55.98       1.58         54    1.63195   92.56\n",
       "..     ...        ...        ...        ...        ...     ...\n",
       "77      78      67.60       1.84         55    1.64758   91.86\n",
       "78      79      64.81       2.24         54    1.69592   91.61\n",
       "79      80      63.13       1.60         52    1.66118   92.17\n",
       "80      81      63.48       3.46         52    1.48216   91.56\n",
       "81      82      62.25       3.56         50    1.49734   92.16\n",
       "\n",
       "[82 rows x 6 columns]"
      ]
     },
     "execution_count": 47,
     "metadata": {},
     "output_type": "execute_result"
    }
   ],
   "source": [
    "df"
   ]
  },
  {
   "cell_type": "code",
   "execution_count": 48,
   "metadata": {},
   "outputs": [
    {
     "data": {
      "text/plain": [
       "75.54"
      ]
     },
     "execution_count": 48,
     "metadata": {},
     "output_type": "execute_result"
    }
   ],
   "source": [
    "df['Material1'].max()"
   ]
  },
  {
   "cell_type": "code",
   "execution_count": 50,
   "metadata": {},
   "outputs": [
    {
     "data": {
      "text/plain": [
       "4.23"
      ]
     },
     "execution_count": 50,
     "metadata": {},
     "output_type": "execute_result"
    }
   ],
   "source": [
    "df['Material1'].min()"
   ]
  },
  {
   "cell_type": "code",
   "execution_count": null,
   "metadata": {},
   "outputs": [],
   "source": [
    "# Calculate the range for every column\n",
    "# Round it to first decimal\n",
    "# function to do this\n",
    "\n",
    "# function takes df and col, returns range\n",
    "\n",
    "def col_range(df, col):\n",
    "    \n",
    "    df_cols = df.columns\n",
    "    if col in df_cols:\n",
    "        col_max = df[col].max()\n",
    "        col_min = df[col].min()\n",
    "        return col_max - col_min\n",
    "    return None"
   ]
  },
  {
   "cell_type": "code",
   "execution_count": null,
   "metadata": {},
   "outputs": [],
   "source": [
    "# mean = \"50+42+45+100\"/\"1+1+1+1\"\n"
   ]
  },
  {
   "cell_type": "code",
   "execution_count": null,
   "metadata": {},
   "outputs": [],
   "source": [
    "# What is Range?\n",
    "\n",
    "\n"
   ]
  },
  {
   "cell_type": "code",
   "execution_count": 58,
   "metadata": {},
   "outputs": [],
   "source": [
    "# Return Interquartile Range\n",
    "# What is IQR?\n",
    "# Use df.quantile()\n",
    "# Write a function that takes df, col and returns its IQR\n",
    "\n",
    "def IQR(df, col):\n",
    "    \n",
    "    df_cols = df.columns\n",
    "    if col in df_cols:\n",
    "        col_q3 = df[col].quantile(0.75)\n",
    "        col_q1 = df[col].quantile(0.25)\n",
    "        return col_q3 - col_q1\n",
    "    return None\n",
    "\n",
    "\n"
   ]
  },
  {
   "cell_type": "code",
   "execution_count": 56,
   "metadata": {},
   "outputs": [
    {
     "data": {
      "text/plain": [
       "21.25"
      ]
     },
     "execution_count": 56,
     "metadata": {},
     "output_type": "execute_result"
    }
   ],
   "source": [
    "df['Sample'].quantile(0.25)"
   ]
  },
  {
   "cell_type": "code",
   "execution_count": 57,
   "metadata": {},
   "outputs": [
    {
     "data": {
      "text/plain": [
       "61.75"
      ]
     },
     "execution_count": 57,
     "metadata": {},
     "output_type": "execute_result"
    }
   ],
   "source": [
    "df['Sample'].quantile(0.75)"
   ]
  },
  {
   "cell_type": "code",
   "execution_count": 53,
   "metadata": {},
   "outputs": [
    {
     "data": {
      "text/plain": [
       "Sample       41.500000\n",
       "Material1    62.695000\n",
       "Material2     1.280000\n",
       "Material3    56.000000\n",
       "Condition     1.603575\n",
       "Octane       91.735000\n",
       "dtype: float64"
      ]
     },
     "execution_count": 53,
     "metadata": {},
     "output_type": "execute_result"
    }
   ],
   "source": [
    "df.median()"
   ]
  },
  {
   "cell_type": "code",
   "execution_count": null,
   "metadata": {},
   "outputs": [],
   "source": []
  },
  {
   "cell_type": "code",
   "execution_count": 6,
   "metadata": {},
   "outputs": [
    {
     "name": "stdout",
     "output_type": "stream",
     "text": [
      "Count for Material 1 is :  82\n",
      "Count for Material 2 is :  82\n",
      "Count for Material 3 is :  82\n",
      "Count for Condition is :  82\n",
      "Count for Octane is :  82\n"
     ]
    }
   ],
   "source": [
    "# Calculating count() for Material1, Material2, Material3, Condition and Octane columns\n",
    "m1_cnt = df['Material1'].count()\n",
    "m2_cnt = df['Material2'].count()\n",
    "m3_cnt = df['Material3'].count()\n",
    "cond_cnt = df['Condition'].count()\n",
    "octane_cnt = df['Octane'].count()\n",
    "print('Count for Material 1 is : ', m1_cnt)\n",
    "print('Count for Material 2 is : ', m2_cnt)\n",
    "print('Count for Material 3 is : ', m3_cnt)\n",
    "print('Count for Condition is : ', cond_cnt)\n",
    "print('Count for Octane is : ', octane_cnt)"
   ]
  },
  {
   "cell_type": "code",
   "execution_count": 7,
   "metadata": {},
   "outputs": [
    {
     "name": "stdout",
     "output_type": "stream",
     "text": [
      "(82, 6)\n"
     ]
    }
   ],
   "source": [
    "# Printing the shape of df\n",
    "print(df.shape)"
   ]
  },
  {
   "cell_type": "code",
   "execution_count": null,
   "metadata": {},
   "outputs": [],
   "source": [
    "# unique() : gives you unique values.\n",
    "# nunique() : gives you number of rows with unique values."
   ]
  },
  {
   "cell_type": "code",
   "execution_count": 8,
   "metadata": {},
   "outputs": [
    {
     "name": "stdout",
     "output_type": "stream",
     "text": [
      "Standard Deviation for Material 1 is :  12.43739992552937\n",
      "Standard Deviation for Material 2 is :  1.9019518968064713\n",
      "Standard Deviation for Material 3 is :  5.377582921059387\n",
      "Standard Deviation for Condition is :  0.2197298227524435\n",
      "Standard Deviation for Octane is :  1.4011243226995749\n"
     ]
    }
   ],
   "source": [
    "# Calculating standard deviation for Material1, Material2, Material3, Condition and Octane columns\n",
    "m1_std = df['Material1'].std()\n",
    "m2_std = df['Material2'].std()\n",
    "m3_std = df['Material3'].std()\n",
    "cond_std = df['Condition'].std()\n",
    "octane_std = df['Octane'].std()\n",
    "print('Standard Deviation for Material 1 is : ', m1_std)\n",
    "print('Standard Deviation for Material 2 is : ', m2_std)\n",
    "print('Standard Deviation for Material 3 is : ', m3_std)\n",
    "print('Standard Deviation for Condition is : ', cond_std)\n",
    "print('Standard Deviation for Octane is : ', octane_std)"
   ]
  },
  {
   "cell_type": "code",
   "execution_count": 9,
   "metadata": {},
   "outputs": [
    {
     "name": "stdout",
     "output_type": "stream",
     "text": [
      "Minimum for Material 1 is :  4.23\n",
      "Minimum for Material 2 is :  0.0\n",
      "Minimum for Material 3 is :  40\n",
      "Minimum for Condition is :  1.19975\n",
      "Minimum for Octane is :  89.66\n"
     ]
    }
   ],
   "source": [
    "# Calculating minimum for Material1, Material2, Material3, Condition and Octane columns\n",
    "m1_min = df['Material1'].min()\n",
    "m2_min = df['Material2'].min()\n",
    "m3_min = df['Material3'].min()\n",
    "cond_min = df['Condition'].min()\n",
    "octane_min = df['Octane'].min()\n",
    "print('Minimum for Material 1 is : ', m1_min)\n",
    "print('Minimum for Material 2 is : ', m2_min)\n",
    "print('Minimum for Material 3 is : ', m3_min)\n",
    "print('Minimum for Condition is : ', cond_min)\n",
    "print('Minimum for Octane is : ', octane_min)"
   ]
  },
  {
   "cell_type": "code",
   "execution_count": 10,
   "metadata": {},
   "outputs": [
    {
     "name": "stdout",
     "output_type": "stream",
     "text": [
      "Maximum for Material 1 is :  75.54\n",
      "Maximum for Material 2 is :  10.76\n",
      "Maximum for Material 3 is :  64\n",
      "Maximum for Condition is :  2.31909\n",
      "Maximum for Octane is :  97.61\n"
     ]
    }
   ],
   "source": [
    "# Calculating maximum for Material1, Material2, Material3, Condition and Octane columns\n",
    "m1_max = df['Material1'].max()\n",
    "m2_max = df['Material2'].max()\n",
    "m3_max = df['Material3'].max()\n",
    "cond_max = df['Condition'].max()\n",
    "octane_max = df['Octane'].max()\n",
    "print('Maximum for Material 1 is : ', m1_max)\n",
    "print('Maximum for Material 2 is : ', m2_max)\n",
    "print('Maximum for Material 3 is : ', m3_max)\n",
    "print('Maximum for Condition is : ', cond_max)\n",
    "print('Maximum for Octane is : ', octane_max)"
   ]
  },
  {
   "cell_type": "code",
   "execution_count": 13,
   "metadata": {},
   "outputs": [
    {
     "data": {
      "text/html": [
       "<div>\n",
       "<style scoped>\n",
       "    .dataframe tbody tr th:only-of-type {\n",
       "        vertical-align: middle;\n",
       "    }\n",
       "\n",
       "    .dataframe tbody tr th {\n",
       "        vertical-align: top;\n",
       "    }\n",
       "\n",
       "    .dataframe thead th {\n",
       "        text-align: right;\n",
       "    }\n",
       "</style>\n",
       "<table border=\"1\" class=\"dataframe\">\n",
       "  <thead>\n",
       "    <tr style=\"text-align: right;\">\n",
       "      <th></th>\n",
       "      <th>Sample</th>\n",
       "      <th>Material1</th>\n",
       "      <th>Material2</th>\n",
       "      <th>Material3</th>\n",
       "      <th>Condition</th>\n",
       "      <th>Octane</th>\n",
       "    </tr>\n",
       "  </thead>\n",
       "  <tbody>\n",
       "    <tr>\n",
       "      <th>count</th>\n",
       "      <td>82.000000</td>\n",
       "      <td>82.00000</td>\n",
       "      <td>82.000000</td>\n",
       "      <td>82.000000</td>\n",
       "      <td>82.000000</td>\n",
       "      <td>82.000000</td>\n",
       "    </tr>\n",
       "    <tr>\n",
       "      <th>mean</th>\n",
       "      <td>41.500000</td>\n",
       "      <td>60.17061</td>\n",
       "      <td>1.663659</td>\n",
       "      <td>55.463415</td>\n",
       "      <td>1.626571</td>\n",
       "      <td>91.849878</td>\n",
       "    </tr>\n",
       "    <tr>\n",
       "      <th>std</th>\n",
       "      <td>23.815261</td>\n",
       "      <td>12.43740</td>\n",
       "      <td>1.901952</td>\n",
       "      <td>5.377583</td>\n",
       "      <td>0.219730</td>\n",
       "      <td>1.401124</td>\n",
       "    </tr>\n",
       "    <tr>\n",
       "      <th>min</th>\n",
       "      <td>1.000000</td>\n",
       "      <td>4.23000</td>\n",
       "      <td>0.000000</td>\n",
       "      <td>40.000000</td>\n",
       "      <td>1.199750</td>\n",
       "      <td>89.660000</td>\n",
       "    </tr>\n",
       "    <tr>\n",
       "      <th>25%</th>\n",
       "      <td>21.250000</td>\n",
       "      <td>55.38000</td>\n",
       "      <td>0.105000</td>\n",
       "      <td>54.000000</td>\n",
       "      <td>1.518095</td>\n",
       "      <td>90.847500</td>\n",
       "    </tr>\n",
       "    <tr>\n",
       "      <th>50%</th>\n",
       "      <td>41.500000</td>\n",
       "      <td>62.69500</td>\n",
       "      <td>1.280000</td>\n",
       "      <td>56.000000</td>\n",
       "      <td>1.603575</td>\n",
       "      <td>91.735000</td>\n",
       "    </tr>\n",
       "    <tr>\n",
       "      <th>75%</th>\n",
       "      <td>61.750000</td>\n",
       "      <td>67.78000</td>\n",
       "      <td>2.277500</td>\n",
       "      <td>59.750000</td>\n",
       "      <td>1.722818</td>\n",
       "      <td>92.467500</td>\n",
       "    </tr>\n",
       "    <tr>\n",
       "      <th>max</th>\n",
       "      <td>82.000000</td>\n",
       "      <td>75.54000</td>\n",
       "      <td>10.760000</td>\n",
       "      <td>64.000000</td>\n",
       "      <td>2.319090</td>\n",
       "      <td>97.610000</td>\n",
       "    </tr>\n",
       "  </tbody>\n",
       "</table>\n",
       "</div>"
      ],
      "text/plain": [
       "          Sample  Material1  Material2  Material3  Condition     Octane\n",
       "count  82.000000   82.00000  82.000000  82.000000  82.000000  82.000000\n",
       "mean   41.500000   60.17061   1.663659  55.463415   1.626571  91.849878\n",
       "std    23.815261   12.43740   1.901952   5.377583   0.219730   1.401124\n",
       "min     1.000000    4.23000   0.000000  40.000000   1.199750  89.660000\n",
       "25%    21.250000   55.38000   0.105000  54.000000   1.518095  90.847500\n",
       "50%    41.500000   62.69500   1.280000  56.000000   1.603575  91.735000\n",
       "75%    61.750000   67.78000   2.277500  59.750000   1.722818  92.467500\n",
       "max    82.000000   75.54000  10.760000  64.000000   2.319090  97.610000"
      ]
     },
     "execution_count": 13,
     "metadata": {},
     "output_type": "execute_result"
    }
   ],
   "source": [
    "# Getting all the statistical parameters in one command\n",
    "df.describe()"
   ]
  },
  {
   "cell_type": "code",
   "execution_count": null,
   "metadata": {},
   "outputs": [],
   "source": [
    "# Data Transformations"
   ]
  },
  {
   "cell_type": "code",
   "execution_count": 60,
   "metadata": {},
   "outputs": [
    {
     "data": {
      "text/html": [
       "<div>\n",
       "<style scoped>\n",
       "    .dataframe tbody tr th:only-of-type {\n",
       "        vertical-align: middle;\n",
       "    }\n",
       "\n",
       "    .dataframe tbody tr th {\n",
       "        vertical-align: top;\n",
       "    }\n",
       "\n",
       "    .dataframe thead th {\n",
       "        text-align: right;\n",
       "    }\n",
       "</style>\n",
       "<table border=\"1\" class=\"dataframe\">\n",
       "  <thead>\n",
       "    <tr style=\"text-align: right;\">\n",
       "      <th></th>\n",
       "      <th>Age</th>\n",
       "      <th>Gender</th>\n",
       "      <th>Grade</th>\n",
       "      <th>Employed</th>\n",
       "    </tr>\n",
       "    <tr>\n",
       "      <th>Student_id</th>\n",
       "      <th></th>\n",
       "      <th></th>\n",
       "      <th></th>\n",
       "      <th></th>\n",
       "    </tr>\n",
       "  </thead>\n",
       "  <tbody>\n",
       "    <tr>\n",
       "      <th>1</th>\n",
       "      <td>19</td>\n",
       "      <td>Male</td>\n",
       "      <td>1st Class</td>\n",
       "      <td>yes</td>\n",
       "    </tr>\n",
       "    <tr>\n",
       "      <th>2</th>\n",
       "      <td>20</td>\n",
       "      <td>Female</td>\n",
       "      <td>2nd Class</td>\n",
       "      <td>no</td>\n",
       "    </tr>\n",
       "    <tr>\n",
       "      <th>3</th>\n",
       "      <td>18</td>\n",
       "      <td>Male</td>\n",
       "      <td>1st Class</td>\n",
       "      <td>no</td>\n",
       "    </tr>\n",
       "    <tr>\n",
       "      <th>4</th>\n",
       "      <td>21</td>\n",
       "      <td>Female</td>\n",
       "      <td>2nd Class</td>\n",
       "      <td>no</td>\n",
       "    </tr>\n",
       "    <tr>\n",
       "      <th>5</th>\n",
       "      <td>19</td>\n",
       "      <td>Male</td>\n",
       "      <td>1st Class</td>\n",
       "      <td>no</td>\n",
       "    </tr>\n",
       "  </tbody>\n",
       "</table>\n",
       "</div>"
      ],
      "text/plain": [
       "            Age  Gender      Grade Employed\n",
       "Student_id                                 \n",
       "1            19    Male  1st Class      yes\n",
       "2            20  Female  2nd Class       no\n",
       "3            18    Male  1st Class       no\n",
       "4            21  Female  2nd Class       no\n",
       "5            19    Male  1st Class       no"
      ]
     },
     "execution_count": 60,
     "metadata": {},
     "output_type": "execute_result"
    }
   ],
   "source": [
    "# Importing new dataset\n",
    "df = pd.read_csv('https://raw.githubusercontent.com/TrainingByPackt/Data-Science-with-Python/master/Chapter01/Data/student.csv',index_col=0)\n",
    "df.head()"
   ]
  },
  {
   "cell_type": "code",
   "execution_count": null,
   "metadata": {},
   "outputs": [],
   "source": [
    "# Skewed distribution\n",
    "\n",
    "# Types of skewed distribution\n",
    "\n"
   ]
  },
  {
   "cell_type": "code",
   "execution_count": null,
   "metadata": {},
   "outputs": [],
   "source": []
  },
  {
   "cell_type": "code",
   "execution_count": null,
   "metadata": {},
   "outputs": [],
   "source": []
  },
  {
   "cell_type": "code",
   "execution_count": null,
   "metadata": {},
   "outputs": [],
   "source": []
  },
  {
   "cell_type": "code",
   "execution_count": 61,
   "metadata": {},
   "outputs": [
    {
     "data": {
      "text/html": [
       "<div>\n",
       "<style scoped>\n",
       "    .dataframe tbody tr th:only-of-type {\n",
       "        vertical-align: middle;\n",
       "    }\n",
       "\n",
       "    .dataframe tbody tr th {\n",
       "        vertical-align: top;\n",
       "    }\n",
       "\n",
       "    .dataframe thead th {\n",
       "        text-align: right;\n",
       "    }\n",
       "</style>\n",
       "<table border=\"1\" class=\"dataframe\">\n",
       "  <thead>\n",
       "    <tr style=\"text-align: right;\">\n",
       "      <th></th>\n",
       "      <th>Age</th>\n",
       "    </tr>\n",
       "    <tr>\n",
       "      <th>Student_id</th>\n",
       "      <th></th>\n",
       "    </tr>\n",
       "  </thead>\n",
       "  <tbody>\n",
       "    <tr>\n",
       "      <th>1</th>\n",
       "      <td>19</td>\n",
       "    </tr>\n",
       "    <tr>\n",
       "      <th>2</th>\n",
       "      <td>20</td>\n",
       "    </tr>\n",
       "    <tr>\n",
       "      <th>3</th>\n",
       "      <td>18</td>\n",
       "    </tr>\n",
       "    <tr>\n",
       "      <th>4</th>\n",
       "      <td>21</td>\n",
       "    </tr>\n",
       "    <tr>\n",
       "      <th>5</th>\n",
       "      <td>19</td>\n",
       "    </tr>\n",
       "  </tbody>\n",
       "</table>\n",
       "</div>"
      ],
      "text/plain": [
       "            Age\n",
       "Student_id     \n",
       "1            19\n",
       "2            20\n",
       "3            18\n",
       "4            21\n",
       "5            19"
      ]
     },
     "execution_count": 61,
     "metadata": {},
     "output_type": "execute_result"
    }
   ],
   "source": [
    "# Command to include and exclude columns of numeric data type\n",
    "df_numeric = df.select_dtypes(include = [np.number])\n",
    "df_numeric.head()"
   ]
  },
  {
   "cell_type": "code",
   "execution_count": 62,
   "metadata": {},
   "outputs": [
    {
     "data": {
      "text/html": [
       "<div>\n",
       "<style scoped>\n",
       "    .dataframe tbody tr th:only-of-type {\n",
       "        vertical-align: middle;\n",
       "    }\n",
       "\n",
       "    .dataframe tbody tr th {\n",
       "        vertical-align: top;\n",
       "    }\n",
       "\n",
       "    .dataframe thead th {\n",
       "        text-align: right;\n",
       "    }\n",
       "</style>\n",
       "<table border=\"1\" class=\"dataframe\">\n",
       "  <thead>\n",
       "    <tr style=\"text-align: right;\">\n",
       "      <th></th>\n",
       "      <th>Gender</th>\n",
       "      <th>Grade</th>\n",
       "      <th>Employed</th>\n",
       "    </tr>\n",
       "    <tr>\n",
       "      <th>Student_id</th>\n",
       "      <th></th>\n",
       "      <th></th>\n",
       "      <th></th>\n",
       "    </tr>\n",
       "  </thead>\n",
       "  <tbody>\n",
       "    <tr>\n",
       "      <th>1</th>\n",
       "      <td>Male</td>\n",
       "      <td>1st Class</td>\n",
       "      <td>yes</td>\n",
       "    </tr>\n",
       "    <tr>\n",
       "      <th>2</th>\n",
       "      <td>Female</td>\n",
       "      <td>2nd Class</td>\n",
       "      <td>no</td>\n",
       "    </tr>\n",
       "    <tr>\n",
       "      <th>3</th>\n",
       "      <td>Male</td>\n",
       "      <td>1st Class</td>\n",
       "      <td>no</td>\n",
       "    </tr>\n",
       "    <tr>\n",
       "      <th>4</th>\n",
       "      <td>Female</td>\n",
       "      <td>2nd Class</td>\n",
       "      <td>no</td>\n",
       "    </tr>\n",
       "    <tr>\n",
       "      <th>5</th>\n",
       "      <td>Male</td>\n",
       "      <td>1st Class</td>\n",
       "      <td>no</td>\n",
       "    </tr>\n",
       "  </tbody>\n",
       "</table>\n",
       "</div>"
      ],
      "text/plain": [
       "            Gender      Grade Employed\n",
       "Student_id                            \n",
       "1             Male  1st Class      yes\n",
       "2           Female  2nd Class       no\n",
       "3             Male  1st Class       no\n",
       "4           Female  2nd Class       no\n",
       "5             Male  1st Class       no"
      ]
     },
     "execution_count": 62,
     "metadata": {},
     "output_type": "execute_result"
    }
   ],
   "source": [
    "# Command to include and exclude columns of numeric data type\n",
    "df_categorical = df.select_dtypes(exclude = [np.number])\n",
    "df_categorical.head()"
   ]
  },
  {
   "cell_type": "code",
   "execution_count": 28,
   "metadata": {},
   "outputs": [
    {
     "name": "stdout",
     "output_type": "stream",
     "text": [
      "['1st Class' '2nd Class' '3rd Class']\n"
     ]
    }
   ],
   "source": [
    "# Getting unique values from Material 3 column\n",
    "print(df['Grade'].unique())"
   ]
  },
  {
   "cell_type": "code",
   "execution_count": 29,
   "metadata": {},
   "outputs": [
    {
     "name": "stdout",
     "output_type": "stream",
     "text": [
      "3\n"
     ]
    }
   ],
   "source": [
    "# Getting number of unique values from Material 3 column\n",
    "print(df['Grade'].nunique())"
   ]
  },
  {
   "cell_type": "code",
   "execution_count": 30,
   "metadata": {},
   "outputs": [
    {
     "data": {
      "text/plain": [
       "2nd Class    80\n",
       "3rd Class    80\n",
       "1st Class    72\n",
       "Name: Grade, dtype: int64"
      ]
     },
     "execution_count": 30,
     "metadata": {},
     "output_type": "execute_result"
    }
   ],
   "source": [
    "# Getting the proportion of categories from categorical columns\n",
    "df['Grade'].value_counts()"
   ]
  },
  {
   "cell_type": "code",
   "execution_count": 31,
   "metadata": {},
   "outputs": [
    {
     "data": {
      "text/plain": [
       "Male      136\n",
       "Female     96\n",
       "Name: Gender, dtype: int64"
      ]
     },
     "execution_count": 31,
     "metadata": {},
     "output_type": "execute_result"
    }
   ],
   "source": [
    "# Getting the proportion of categories from categorical columns\n",
    "df['Gender'].value_counts()"
   ]
  },
  {
   "cell_type": "code",
   "execution_count": 33,
   "metadata": {},
   "outputs": [
    {
     "data": {
      "text/plain": [
       "no     133\n",
       "yes     99\n",
       "Name: Employed, dtype: int64"
      ]
     },
     "execution_count": 33,
     "metadata": {},
     "output_type": "execute_result"
    }
   ],
   "source": [
    "# Getting the proportion of categories from categorical columns\n",
    "df['Employed'].value_counts()"
   ]
  },
  {
   "cell_type": "code",
   "execution_count": 63,
   "metadata": {},
   "outputs": [
    {
     "data": {
      "text/html": [
       "<div>\n",
       "<style scoped>\n",
       "    .dataframe tbody tr th:only-of-type {\n",
       "        vertical-align: middle;\n",
       "    }\n",
       "\n",
       "    .dataframe tbody tr th {\n",
       "        vertical-align: top;\n",
       "    }\n",
       "\n",
       "    .dataframe thead th {\n",
       "        text-align: right;\n",
       "    }\n",
       "</style>\n",
       "<table border=\"1\" class=\"dataframe\">\n",
       "  <thead>\n",
       "    <tr style=\"text-align: right;\">\n",
       "      <th></th>\n",
       "      <th>Age</th>\n",
       "      <th>Gender</th>\n",
       "      <th>Grade</th>\n",
       "      <th>Employed</th>\n",
       "    </tr>\n",
       "    <tr>\n",
       "      <th>Student_id</th>\n",
       "      <th></th>\n",
       "      <th></th>\n",
       "      <th></th>\n",
       "      <th></th>\n",
       "    </tr>\n",
       "  </thead>\n",
       "  <tbody>\n",
       "    <tr>\n",
       "      <th>1</th>\n",
       "      <td>19</td>\n",
       "      <td>Male</td>\n",
       "      <td>1st Class</td>\n",
       "      <td>yes</td>\n",
       "    </tr>\n",
       "    <tr>\n",
       "      <th>2</th>\n",
       "      <td>20</td>\n",
       "      <td>Female</td>\n",
       "      <td>2nd Class</td>\n",
       "      <td>no</td>\n",
       "    </tr>\n",
       "    <tr>\n",
       "      <th>3</th>\n",
       "      <td>18</td>\n",
       "      <td>Male</td>\n",
       "      <td>1st Class</td>\n",
       "      <td>no</td>\n",
       "    </tr>\n",
       "    <tr>\n",
       "      <th>4</th>\n",
       "      <td>21</td>\n",
       "      <td>Female</td>\n",
       "      <td>2nd Class</td>\n",
       "      <td>no</td>\n",
       "    </tr>\n",
       "    <tr>\n",
       "      <th>5</th>\n",
       "      <td>19</td>\n",
       "      <td>Male</td>\n",
       "      <td>1st Class</td>\n",
       "      <td>no</td>\n",
       "    </tr>\n",
       "    <tr>\n",
       "      <th>...</th>\n",
       "      <td>...</td>\n",
       "      <td>...</td>\n",
       "      <td>...</td>\n",
       "      <td>...</td>\n",
       "    </tr>\n",
       "    <tr>\n",
       "      <th>228</th>\n",
       "      <td>21</td>\n",
       "      <td>Female</td>\n",
       "      <td>1st Class</td>\n",
       "      <td>no</td>\n",
       "    </tr>\n",
       "    <tr>\n",
       "      <th>229</th>\n",
       "      <td>20</td>\n",
       "      <td>Male</td>\n",
       "      <td>2nd Class</td>\n",
       "      <td>no</td>\n",
       "    </tr>\n",
       "    <tr>\n",
       "      <th>230</th>\n",
       "      <td>20</td>\n",
       "      <td>Male</td>\n",
       "      <td>3rd Class</td>\n",
       "      <td>yes</td>\n",
       "    </tr>\n",
       "    <tr>\n",
       "      <th>231</th>\n",
       "      <td>19</td>\n",
       "      <td>Female</td>\n",
       "      <td>1st Class</td>\n",
       "      <td>yes</td>\n",
       "    </tr>\n",
       "    <tr>\n",
       "      <th>232</th>\n",
       "      <td>20</td>\n",
       "      <td>Male</td>\n",
       "      <td>3rd Class</td>\n",
       "      <td>yes</td>\n",
       "    </tr>\n",
       "  </tbody>\n",
       "</table>\n",
       "<p>232 rows × 4 columns</p>\n",
       "</div>"
      ],
      "text/plain": [
       "            Age  Gender      Grade Employed\n",
       "Student_id                                 \n",
       "1            19    Male  1st Class      yes\n",
       "2            20  Female  2nd Class       no\n",
       "3            18    Male  1st Class       no\n",
       "4            21  Female  2nd Class       no\n",
       "5            19    Male  1st Class       no\n",
       "...         ...     ...        ...      ...\n",
       "228          21  Female  1st Class       no\n",
       "229          20    Male  2nd Class       no\n",
       "230          20    Male  3rd Class      yes\n",
       "231          19  Female  1st Class      yes\n",
       "232          20    Male  3rd Class      yes\n",
       "\n",
       "[232 rows x 4 columns]"
      ]
     },
     "execution_count": 63,
     "metadata": {},
     "output_type": "execute_result"
    }
   ],
   "source": [
    "df"
   ]
  },
  {
   "cell_type": "code",
   "execution_count": 65,
   "metadata": {},
   "outputs": [],
   "source": [
    "# List all possible unique values for Gender, Grade, Employed\n",
    "\n",
    "# Write it as a function\n",
    "\n",
    "def col_unique(df, col):\n",
    "    result=None \n",
    "    if col in df.columns: \n",
    "        return(df[col].unique()) \n",
    "    return(result)"
   ]
  },
  {
   "cell_type": "code",
   "execution_count": 66,
   "metadata": {},
   "outputs": [
    {
     "data": {
      "text/plain": [
       "array(['Male', 'Female'], dtype=object)"
      ]
     },
     "execution_count": 66,
     "metadata": {},
     "output_type": "execute_result"
    }
   ],
   "source": [
    "df['Gender'].unique()"
   ]
  },
  {
   "cell_type": "code",
   "execution_count": 67,
   "metadata": {},
   "outputs": [
    {
     "data": {
      "text/plain": [
       "array(['Male', 'Female'], dtype=object)"
      ]
     },
     "execution_count": 67,
     "metadata": {},
     "output_type": "execute_result"
    }
   ],
   "source": [
    "col_unique(df, 'Gender')"
   ]
  },
  {
   "cell_type": "code",
   "execution_count": 68,
   "metadata": {},
   "outputs": [
    {
     "data": {
      "text/plain": [
       "array(['1st Class', '2nd Class', '3rd Class'], dtype=object)"
      ]
     },
     "execution_count": 68,
     "metadata": {},
     "output_type": "execute_result"
    }
   ],
   "source": [
    "col_unique(df, 'Grade')"
   ]
  },
  {
   "cell_type": "code",
   "execution_count": 69,
   "metadata": {},
   "outputs": [],
   "source": [
    "# Replace these with a numerical value\n",
    "# Gender - Male with 0, Female with 1 - and create a new column - \n",
    "# Gender_OHE\n",
    "\n",
    "\n",
    "# Grade - 1st Class - 1 | 2nd Class - 2 | 3rd Class - 3 - \n",
    "# - create a new column - Grade_Label and assign it\n",
    "\n"
   ]
  },
  {
   "cell_type": "code",
   "execution_count": null,
   "metadata": {},
   "outputs": [],
   "source": [
    "df.replace()"
   ]
  },
  {
   "cell_type": "code",
   "execution_count": null,
   "metadata": {},
   "outputs": [],
   "source": []
  },
  {
   "cell_type": "code",
   "execution_count": null,
   "metadata": {},
   "outputs": [],
   "source": []
  },
  {
   "cell_type": "code",
   "execution_count": 72,
   "metadata": {},
   "outputs": [
    {
     "data": {
      "text/plain": [
       "Student_id\n",
       "1      0\n",
       "2      1\n",
       "3      0\n",
       "4      1\n",
       "5      0\n",
       "      ..\n",
       "228    1\n",
       "229    0\n",
       "230    0\n",
       "231    1\n",
       "232    0\n",
       "Name: gender_OHE, Length: 232, dtype: int64"
      ]
     },
     "execution_count": 72,
     "metadata": {},
     "output_type": "execute_result"
    }
   ],
   "source": [
    "df[\"gender_OHE\"]=df[\"Gender\"].replace(to_replace=[\"Male\",\"Female\"], value=[0,1]) \n",
    "df[\"gender_OHE\"]\n",
    "\n",
    "\n",
    "\n"
   ]
  },
  {
   "cell_type": "code",
   "execution_count": 73,
   "metadata": {},
   "outputs": [
    {
     "data": {
      "text/html": [
       "<div>\n",
       "<style scoped>\n",
       "    .dataframe tbody tr th:only-of-type {\n",
       "        vertical-align: middle;\n",
       "    }\n",
       "\n",
       "    .dataframe tbody tr th {\n",
       "        vertical-align: top;\n",
       "    }\n",
       "\n",
       "    .dataframe thead th {\n",
       "        text-align: right;\n",
       "    }\n",
       "</style>\n",
       "<table border=\"1\" class=\"dataframe\">\n",
       "  <thead>\n",
       "    <tr style=\"text-align: right;\">\n",
       "      <th></th>\n",
       "      <th>Age</th>\n",
       "      <th>Gender</th>\n",
       "      <th>Grade</th>\n",
       "      <th>Employed</th>\n",
       "      <th>gender_OHE</th>\n",
       "    </tr>\n",
       "    <tr>\n",
       "      <th>Student_id</th>\n",
       "      <th></th>\n",
       "      <th></th>\n",
       "      <th></th>\n",
       "      <th></th>\n",
       "      <th></th>\n",
       "    </tr>\n",
       "  </thead>\n",
       "  <tbody>\n",
       "    <tr>\n",
       "      <th>1</th>\n",
       "      <td>19</td>\n",
       "      <td>Male</td>\n",
       "      <td>1st Class</td>\n",
       "      <td>yes</td>\n",
       "      <td>0</td>\n",
       "    </tr>\n",
       "    <tr>\n",
       "      <th>2</th>\n",
       "      <td>20</td>\n",
       "      <td>Female</td>\n",
       "      <td>2nd Class</td>\n",
       "      <td>no</td>\n",
       "      <td>1</td>\n",
       "    </tr>\n",
       "    <tr>\n",
       "      <th>3</th>\n",
       "      <td>18</td>\n",
       "      <td>Male</td>\n",
       "      <td>1st Class</td>\n",
       "      <td>no</td>\n",
       "      <td>0</td>\n",
       "    </tr>\n",
       "    <tr>\n",
       "      <th>4</th>\n",
       "      <td>21</td>\n",
       "      <td>Female</td>\n",
       "      <td>2nd Class</td>\n",
       "      <td>no</td>\n",
       "      <td>1</td>\n",
       "    </tr>\n",
       "    <tr>\n",
       "      <th>5</th>\n",
       "      <td>19</td>\n",
       "      <td>Male</td>\n",
       "      <td>1st Class</td>\n",
       "      <td>no</td>\n",
       "      <td>0</td>\n",
       "    </tr>\n",
       "    <tr>\n",
       "      <th>...</th>\n",
       "      <td>...</td>\n",
       "      <td>...</td>\n",
       "      <td>...</td>\n",
       "      <td>...</td>\n",
       "      <td>...</td>\n",
       "    </tr>\n",
       "    <tr>\n",
       "      <th>228</th>\n",
       "      <td>21</td>\n",
       "      <td>Female</td>\n",
       "      <td>1st Class</td>\n",
       "      <td>no</td>\n",
       "      <td>1</td>\n",
       "    </tr>\n",
       "    <tr>\n",
       "      <th>229</th>\n",
       "      <td>20</td>\n",
       "      <td>Male</td>\n",
       "      <td>2nd Class</td>\n",
       "      <td>no</td>\n",
       "      <td>0</td>\n",
       "    </tr>\n",
       "    <tr>\n",
       "      <th>230</th>\n",
       "      <td>20</td>\n",
       "      <td>Male</td>\n",
       "      <td>3rd Class</td>\n",
       "      <td>yes</td>\n",
       "      <td>0</td>\n",
       "    </tr>\n",
       "    <tr>\n",
       "      <th>231</th>\n",
       "      <td>19</td>\n",
       "      <td>Female</td>\n",
       "      <td>1st Class</td>\n",
       "      <td>yes</td>\n",
       "      <td>1</td>\n",
       "    </tr>\n",
       "    <tr>\n",
       "      <th>232</th>\n",
       "      <td>20</td>\n",
       "      <td>Male</td>\n",
       "      <td>3rd Class</td>\n",
       "      <td>yes</td>\n",
       "      <td>0</td>\n",
       "    </tr>\n",
       "  </tbody>\n",
       "</table>\n",
       "<p>232 rows × 5 columns</p>\n",
       "</div>"
      ],
      "text/plain": [
       "            Age  Gender      Grade Employed  gender_OHE\n",
       "Student_id                                             \n",
       "1            19    Male  1st Class      yes           0\n",
       "2            20  Female  2nd Class       no           1\n",
       "3            18    Male  1st Class       no           0\n",
       "4            21  Female  2nd Class       no           1\n",
       "5            19    Male  1st Class       no           0\n",
       "...         ...     ...        ...      ...         ...\n",
       "228          21  Female  1st Class       no           1\n",
       "229          20    Male  2nd Class       no           0\n",
       "230          20    Male  3rd Class      yes           0\n",
       "231          19  Female  1st Class      yes           1\n",
       "232          20    Male  3rd Class      yes           0\n",
       "\n",
       "[232 rows x 5 columns]"
      ]
     },
     "execution_count": 73,
     "metadata": {},
     "output_type": "execute_result"
    }
   ],
   "source": [
    "df"
   ]
  },
  {
   "cell_type": "code",
   "execution_count": null,
   "metadata": {},
   "outputs": [],
   "source": [
    "# Add a new column - gender_OHE\n",
    "# Every row of this column will be \n",
    "# dependent on value of Gender\n",
    "\n",
    "# if value of Gender == Male: value of gender_OHE = 0\n",
    "# if value of Gender == Female: value of gender_OHE = 1\n",
    "\n"
   ]
  },
  {
   "cell_type": "code",
   "execution_count": 82,
   "metadata": {},
   "outputs": [
    {
     "data": {
      "text/plain": [
       "Student_id\n",
       "1           Male\n",
       "2         Female\n",
       "3           Male\n",
       "4         Female\n",
       "5           Male\n",
       "           ...  \n",
       "230         Male\n",
       "231       Female\n",
       "232         Male\n",
       "Male         NaN\n",
       "Female       NaN\n",
       "Name: Gender, Length: 234, dtype: object"
      ]
     },
     "execution_count": 82,
     "metadata": {},
     "output_type": "execute_result"
    }
   ],
   "source": [
    "df['Gender']"
   ]
  },
  {
   "cell_type": "code",
   "execution_count": 77,
   "metadata": {},
   "outputs": [],
   "source": [
    "df['gender_OHE'] = None"
   ]
  },
  {
   "cell_type": "code",
   "execution_count": 80,
   "metadata": {},
   "outputs": [],
   "source": [
    "\n",
    "for i in df['Gender']:\n",
    "    if i == 'Male':\n",
    "        df.loc[row_idx, 'gender_OHE'] = 0\n",
    "    else:\n",
    "        df.loc[row_idx, 'gender_OHE'] = 1\n",
    "        \n",
    "            \n",
    "        \n",
    "        "
   ]
  },
  {
   "cell_type": "code",
   "execution_count": 90,
   "metadata": {},
   "outputs": [
    {
     "data": {
      "text/plain": [
       "234"
      ]
     },
     "execution_count": 90,
     "metadata": {},
     "output_type": "execute_result"
    }
   ],
   "source": [
    "len(df)"
   ]
  },
  {
   "cell_type": "code",
   "execution_count": null,
   "metadata": {},
   "outputs": [],
   "source": [
    "# Using row index explicitly\n",
    "for row_idx in range(len(df)):\n",
    "    print(row_idx)\n",
    "    if df.loc[row_idx, 'Gender'] == 'Male':\n",
    "        df.loc[row_idx, 'gender_OHE'] = 0\n",
    "    else:\n",
    "        df.loc[row_idx, 'gender_OHE'] = 1\n",
    "    "
   ]
  },
  {
   "cell_type": "code",
   "execution_count": 89,
   "metadata": {},
   "outputs": [
    {
     "name": "stdout",
     "output_type": "stream",
     "text": [
      "1\n",
      "2\n",
      "3\n",
      "4\n",
      "5\n",
      "6\n",
      "7\n",
      "8\n",
      "9\n",
      "10\n",
      "11\n",
      "12\n",
      "13\n",
      "14\n",
      "15\n",
      "16\n",
      "17\n",
      "18\n",
      "19\n",
      "20\n",
      "21\n",
      "22\n",
      "23\n",
      "24\n",
      "25\n",
      "26\n",
      "27\n",
      "28\n",
      "29\n",
      "30\n",
      "31\n",
      "32\n",
      "33\n",
      "34\n",
      "35\n",
      "36\n",
      "37\n",
      "38\n",
      "39\n",
      "40\n",
      "41\n",
      "42\n",
      "43\n",
      "44\n",
      "45\n",
      "46\n",
      "47\n",
      "48\n",
      "49\n",
      "50\n",
      "51\n",
      "52\n",
      "53\n",
      "54\n",
      "55\n",
      "56\n",
      "57\n",
      "58\n",
      "59\n",
      "60\n",
      "61\n",
      "62\n",
      "63\n",
      "64\n",
      "65\n",
      "66\n",
      "67\n",
      "68\n",
      "69\n",
      "70\n",
      "71\n",
      "72\n",
      "73\n",
      "74\n",
      "75\n",
      "76\n",
      "77\n",
      "78\n",
      "79\n",
      "80\n",
      "81\n",
      "82\n",
      "83\n",
      "84\n",
      "85\n",
      "86\n",
      "87\n",
      "88\n",
      "89\n",
      "90\n",
      "91\n",
      "92\n",
      "93\n",
      "94\n",
      "95\n",
      "96\n",
      "97\n",
      "98\n",
      "99\n",
      "100\n",
      "101\n",
      "102\n",
      "103\n",
      "104\n",
      "105\n",
      "106\n",
      "107\n",
      "108\n",
      "109\n",
      "110\n",
      "111\n",
      "112\n",
      "113\n",
      "114\n",
      "115\n",
      "116\n",
      "117\n",
      "118\n",
      "119\n",
      "120\n",
      "121\n",
      "122\n",
      "123\n",
      "124\n",
      "125\n",
      "126\n",
      "127\n",
      "128\n",
      "129\n",
      "130\n",
      "131\n",
      "132\n",
      "133\n",
      "134\n",
      "135\n",
      "136\n",
      "137\n",
      "138\n",
      "139\n",
      "140\n",
      "141\n",
      "142\n",
      "143\n",
      "144\n",
      "145\n",
      "146\n",
      "147\n",
      "148\n",
      "149\n",
      "150\n",
      "151\n",
      "152\n",
      "153\n",
      "154\n",
      "155\n",
      "156\n",
      "157\n",
      "158\n",
      "159\n",
      "160\n",
      "161\n",
      "162\n",
      "163\n",
      "164\n",
      "165\n",
      "166\n",
      "167\n",
      "168\n",
      "169\n",
      "170\n",
      "171\n",
      "172\n",
      "173\n",
      "174\n",
      "175\n",
      "176\n",
      "177\n",
      "178\n",
      "179\n",
      "180\n",
      "181\n",
      "182\n",
      "183\n",
      "184\n",
      "185\n",
      "186\n",
      "187\n",
      "188\n",
      "189\n",
      "190\n",
      "191\n",
      "192\n",
      "193\n",
      "194\n",
      "195\n",
      "196\n",
      "197\n",
      "198\n",
      "199\n",
      "200\n",
      "201\n",
      "202\n",
      "203\n",
      "204\n",
      "205\n",
      "206\n",
      "207\n",
      "208\n",
      "209\n",
      "210\n",
      "211\n",
      "212\n",
      "213\n",
      "214\n",
      "215\n",
      "216\n",
      "217\n",
      "218\n",
      "219\n",
      "220\n",
      "221\n",
      "222\n",
      "223\n",
      "224\n",
      "225\n",
      "226\n",
      "227\n",
      "228\n",
      "229\n",
      "230\n",
      "231\n",
      "232\n",
      "Male\n",
      "Female\n"
     ]
    }
   ],
   "source": [
    "# Using row index explicitly\n",
    "for row_idx in df.index:\n",
    "    print(row_idx)\n",
    "    if df.loc[row_idx, 'Gender'] == 'Male':\n",
    "        df.loc[row_idx, 'gender_OHE'] = 0\n",
    "    else:\n",
    "        df.loc[row_idx, 'gender_OHE'] = 1\n",
    "    "
   ]
  },
  {
   "cell_type": "code",
   "execution_count": null,
   "metadata": {},
   "outputs": [],
   "source": []
  },
  {
   "cell_type": "code",
   "execution_count": null,
   "metadata": {},
   "outputs": [],
   "source": []
  },
  {
   "cell_type": "code",
   "execution_count": 88,
   "metadata": {},
   "outputs": [
    {
     "data": {
      "text/plain": [
       "Index([       1,        2,        3,        4,        5,        6,        7,\n",
       "              8,        9,       10,\n",
       "       ...\n",
       "            225,      226,      227,      228,      229,      230,      231,\n",
       "            232,   'Male', 'Female'],\n",
       "      dtype='object', name='Student_id', length=234)"
      ]
     },
     "execution_count": 88,
     "metadata": {},
     "output_type": "execute_result"
    }
   ],
   "source": [
    "df.index"
   ]
  },
  {
   "cell_type": "code",
   "execution_count": 86,
   "metadata": {
    "scrolled": true
   },
   "outputs": [
    {
     "data": {
      "text/plain": [
       "Index([       1,        2,        3,        4,        5,        6,        7,\n",
       "              8,        9,       10,\n",
       "       ...\n",
       "            225,      226,      227,      228,      229,      230,      231,\n",
       "            232,   'Male', 'Female'],\n",
       "      dtype='object', name='Student_id', length=234)"
      ]
     },
     "execution_count": 86,
     "metadata": {},
     "output_type": "execute_result"
    }
   ],
   "source": [
    "df.index"
   ]
  },
  {
   "cell_type": "code",
   "execution_count": 84,
   "metadata": {},
   "outputs": [
    {
     "name": "stdout",
     "output_type": "stream",
     "text": [
      "Male\n",
      "Female\n",
      "Male\n",
      "Female\n",
      "Male\n",
      "Male\n",
      "Female\n",
      "Male\n",
      "Female\n",
      "Male\n",
      "Female\n",
      "Male\n",
      "Male\n",
      "Female\n",
      "Male\n",
      "Female\n",
      "Male\n",
      "Female\n",
      "Male\n",
      "Male\n",
      "Female\n",
      "Male\n",
      "Female\n",
      "Male\n",
      "Female\n",
      "Male\n",
      "Male\n",
      "Female\n",
      "Male\n",
      "Male\n",
      "Female\n",
      "Male\n",
      "Female\n",
      "Male\n",
      "Male\n",
      "Female\n",
      "Male\n",
      "Female\n",
      "Male\n",
      "Female\n",
      "Male\n",
      "Male\n",
      "Female\n",
      "Male\n",
      "Female\n",
      "Male\n",
      "Female\n",
      "Male\n",
      "Male\n",
      "Female\n",
      "Male\n",
      "Female\n",
      "Male\n",
      "Female\n",
      "Male\n",
      "Male\n",
      "Female\n",
      "Male\n",
      "Male\n",
      "Female\n",
      "Male\n",
      "Female\n",
      "Male\n",
      "Male\n",
      "Female\n",
      "Male\n",
      "Female\n",
      "Male\n",
      "Female\n",
      "Male\n",
      "Male\n",
      "Female\n",
      "Male\n",
      "Female\n",
      "Male\n",
      "Female\n",
      "Male\n",
      "Male\n",
      "Female\n",
      "Male\n",
      "Female\n",
      "Male\n",
      "Female\n",
      "Male\n",
      "Male\n",
      "Female\n",
      "Male\n",
      "Male\n",
      "Female\n",
      "Male\n",
      "Female\n",
      "Male\n",
      "Male\n",
      "Female\n",
      "Male\n",
      "Female\n",
      "Male\n",
      "Female\n",
      "Male\n",
      "Male\n",
      "Female\n",
      "Male\n",
      "Female\n",
      "Male\n",
      "Female\n",
      "Male\n",
      "Male\n",
      "Female\n",
      "Male\n",
      "Female\n",
      "Male\n",
      "Female\n",
      "Male\n",
      "Male\n",
      "Female\n",
      "Male\n",
      "Male\n",
      "Female\n",
      "Male\n",
      "Female\n",
      "Male\n",
      "Male\n",
      "Female\n",
      "Male\n",
      "Female\n",
      "Male\n",
      "Female\n",
      "Male\n",
      "Male\n",
      "Female\n",
      "Male\n",
      "Female\n",
      "Male\n",
      "Female\n",
      "Male\n",
      "Male\n",
      "Female\n",
      "Male\n",
      "Female\n",
      "Male\n",
      "Female\n",
      "Male\n",
      "Male\n",
      "Female\n",
      "Male\n",
      "Male\n",
      "Female\n",
      "Male\n",
      "Female\n",
      "Male\n",
      "Male\n",
      "Female\n",
      "Male\n",
      "Female\n",
      "Male\n",
      "Female\n",
      "Male\n",
      "Male\n",
      "Female\n",
      "Male\n",
      "Female\n",
      "Male\n",
      "Female\n",
      "Male\n",
      "Male\n",
      "Female\n",
      "Male\n",
      "Female\n",
      "Male\n",
      "Female\n",
      "Male\n",
      "Male\n",
      "Female\n",
      "Male\n",
      "Male\n",
      "Female\n",
      "Male\n",
      "Female\n",
      "Male\n",
      "Male\n",
      "Female\n",
      "Male\n",
      "Female\n",
      "Male\n",
      "Female\n",
      "Male\n",
      "Male\n",
      "Female\n",
      "Male\n",
      "Female\n",
      "Male\n",
      "Female\n",
      "Male\n",
      "Male\n",
      "Female\n",
      "Male\n",
      "Female\n",
      "Male\n",
      "Female\n",
      "Male\n",
      "Male\n",
      "Female\n",
      "Male\n",
      "Male\n",
      "Female\n",
      "Male\n",
      "Female\n",
      "Male\n",
      "Male\n",
      "Female\n",
      "Male\n",
      "Female\n",
      "Male\n",
      "Female\n",
      "Male\n",
      "Male\n",
      "Female\n",
      "Male\n",
      "Female\n",
      "Male\n",
      "Female\n",
      "Male\n",
      "Male\n",
      "Female\n",
      "Male\n",
      "Female\n",
      "Male\n",
      "Female\n",
      "Male\n",
      "Male\n",
      "Female\n",
      "Male\n",
      "nan\n",
      "nan\n"
     ]
    }
   ],
   "source": [
    "for i in df['Gender']:\n",
    "    print(i)"
   ]
  },
  {
   "cell_type": "code",
   "execution_count": null,
   "metadata": {},
   "outputs": [],
   "source": []
  },
  {
   "cell_type": "code",
   "execution_count": null,
   "metadata": {},
   "outputs": [],
   "source": []
  },
  {
   "cell_type": "code",
   "execution_count": 76,
   "metadata": {},
   "outputs": [],
   "source": [
    "df.drop('gender_OHE', inplace=True, axis=1)"
   ]
  },
  {
   "cell_type": "code",
   "execution_count": null,
   "metadata": {},
   "outputs": [],
   "source": []
  },
  {
   "cell_type": "code",
   "execution_count": null,
   "metadata": {},
   "outputs": [],
   "source": []
  },
  {
   "cell_type": "code",
   "execution_count": null,
   "metadata": {},
   "outputs": [],
   "source": []
  },
  {
   "cell_type": "code",
   "execution_count": 35,
   "metadata": {},
   "outputs": [
    {
     "data": {
      "text/html": [
       "<div>\n",
       "<style scoped>\n",
       "    .dataframe tbody tr th:only-of-type {\n",
       "        vertical-align: middle;\n",
       "    }\n",
       "\n",
       "    .dataframe tbody tr th {\n",
       "        vertical-align: top;\n",
       "    }\n",
       "\n",
       "    .dataframe thead th {\n",
       "        text-align: right;\n",
       "    }\n",
       "</style>\n",
       "<table border=\"1\" class=\"dataframe\">\n",
       "  <thead>\n",
       "    <tr style=\"text-align: right;\">\n",
       "      <th></th>\n",
       "      <th>Age</th>\n",
       "      <th>Gender</th>\n",
       "      <th>Grade</th>\n",
       "      <th>Employed</th>\n",
       "    </tr>\n",
       "    <tr>\n",
       "      <th>Student_id</th>\n",
       "      <th></th>\n",
       "      <th></th>\n",
       "      <th></th>\n",
       "      <th></th>\n",
       "    </tr>\n",
       "  </thead>\n",
       "  <tbody>\n",
       "    <tr>\n",
       "      <th>1</th>\n",
       "      <td>19</td>\n",
       "      <td>0</td>\n",
       "      <td>1</td>\n",
       "      <td>1</td>\n",
       "    </tr>\n",
       "    <tr>\n",
       "      <th>2</th>\n",
       "      <td>20</td>\n",
       "      <td>1</td>\n",
       "      <td>2</td>\n",
       "      <td>0</td>\n",
       "    </tr>\n",
       "    <tr>\n",
       "      <th>3</th>\n",
       "      <td>18</td>\n",
       "      <td>0</td>\n",
       "      <td>1</td>\n",
       "      <td>0</td>\n",
       "    </tr>\n",
       "    <tr>\n",
       "      <th>4</th>\n",
       "      <td>21</td>\n",
       "      <td>1</td>\n",
       "      <td>2</td>\n",
       "      <td>0</td>\n",
       "    </tr>\n",
       "    <tr>\n",
       "      <th>5</th>\n",
       "      <td>19</td>\n",
       "      <td>0</td>\n",
       "      <td>1</td>\n",
       "      <td>0</td>\n",
       "    </tr>\n",
       "  </tbody>\n",
       "</table>\n",
       "</div>"
      ],
      "text/plain": [
       "            Age  Gender  Grade  Employed\n",
       "Student_id                              \n",
       "1            19       0      1         1\n",
       "2            20       1      2         0\n",
       "3            18       0      1         0\n",
       "4            21       1      2         0\n",
       "5            19       0      1         0"
      ]
     },
     "execution_count": 35,
     "metadata": {},
     "output_type": "execute_result"
    }
   ],
   "source": [
    "# Replacing some values\n",
    "df['Gender'].replace({'Male' : 0, 'Female' : 1}, inplace = True)\n",
    "df['Employed'].replace({'no' : 0, 'yes' : 1}, inplace = True)\n",
    "df['Grade'].replace({'1st Class' : 1, '2nd Class' : 2, '3rd Class' : 3}, inplace = True)\n",
    "df.head()"
   ]
  },
  {
   "cell_type": "code",
   "execution_count": 91,
   "metadata": {},
   "outputs": [
    {
     "data": {
      "text/html": [
       "<div>\n",
       "<style scoped>\n",
       "    .dataframe tbody tr th:only-of-type {\n",
       "        vertical-align: middle;\n",
       "    }\n",
       "\n",
       "    .dataframe tbody tr th {\n",
       "        vertical-align: top;\n",
       "    }\n",
       "\n",
       "    .dataframe thead th {\n",
       "        text-align: right;\n",
       "    }\n",
       "</style>\n",
       "<table border=\"1\" class=\"dataframe\">\n",
       "  <thead>\n",
       "    <tr style=\"text-align: right;\">\n",
       "      <th></th>\n",
       "      <th>a</th>\n",
       "      <th>b</th>\n",
       "      <th>c</th>\n",
       "    </tr>\n",
       "  </thead>\n",
       "  <tbody>\n",
       "    <tr>\n",
       "      <th>0</th>\n",
       "      <td>1</td>\n",
       "      <td>2</td>\n",
       "      <td>3</td>\n",
       "    </tr>\n",
       "    <tr>\n",
       "      <th>1</th>\n",
       "      <td>4</td>\n",
       "      <td>5</td>\n",
       "      <td>6</td>\n",
       "    </tr>\n",
       "    <tr>\n",
       "      <th>2</th>\n",
       "      <td>7</td>\n",
       "      <td>8</td>\n",
       "      <td>9</td>\n",
       "    </tr>\n",
       "  </tbody>\n",
       "</table>\n",
       "</div>"
      ],
      "text/plain": [
       "   a  b  c\n",
       "0  1  2  3\n",
       "1  4  5  6\n",
       "2  7  8  9"
      ]
     },
     "execution_count": 91,
     "metadata": {},
     "output_type": "execute_result"
    }
   ],
   "source": [
    "# Basic Data Transformation\n",
    "df = pd.DataFrame(np.array([[1,2,3],[4,5,6],[7,8,9]]), columns = ['a','b','c'])\n",
    "df.head()"
   ]
  },
  {
   "cell_type": "code",
   "execution_count": null,
   "metadata": {},
   "outputs": [],
   "source": [
    "def name_of_function(argument_of_function): \n",
    "    return result"
   ]
  },
  {
   "cell_type": "code",
   "execution_count": null,
   "metadata": {},
   "outputs": [],
   "source": [
    "# Take x and return x squared - Named Function\n",
    "\n",
    "def x_squared(x): return x * x\n",
    "lambda x: x * x"
   ]
  },
  {
   "cell_type": "code",
   "execution_count": null,
   "metadata": {},
   "outputs": [],
   "source": [
    "# \n",
    "lambda <x_squared_not_needed> <arg_x_needed>: <return_not_needed> <result>"
   ]
  },
  {
   "cell_type": "code",
   "execution_count": null,
   "metadata": {},
   "outputs": [],
   "source": [
    "lambda x: x * x"
   ]
  },
  {
   "cell_type": "code",
   "execution_count": null,
   "metadata": {},
   "outputs": [],
   "source": []
  },
  {
   "cell_type": "code",
   "execution_count": null,
   "metadata": {},
   "outputs": [],
   "source": []
  },
  {
   "cell_type": "code",
   "execution_count": 37,
   "metadata": {
    "scrolled": true
   },
   "outputs": [
    {
     "data": {
      "text/html": [
       "<div>\n",
       "<style scoped>\n",
       "    .dataframe tbody tr th:only-of-type {\n",
       "        vertical-align: middle;\n",
       "    }\n",
       "\n",
       "    .dataframe tbody tr th {\n",
       "        vertical-align: top;\n",
       "    }\n",
       "\n",
       "    .dataframe thead th {\n",
       "        text-align: right;\n",
       "    }\n",
       "</style>\n",
       "<table border=\"1\" class=\"dataframe\">\n",
       "  <thead>\n",
       "    <tr style=\"text-align: right;\">\n",
       "      <th></th>\n",
       "      <th>a</th>\n",
       "      <th>b</th>\n",
       "      <th>c</th>\n",
       "    </tr>\n",
       "  </thead>\n",
       "  <tbody>\n",
       "    <tr>\n",
       "      <th>0</th>\n",
       "      <td>10</td>\n",
       "      <td>20</td>\n",
       "      <td>30</td>\n",
       "    </tr>\n",
       "    <tr>\n",
       "      <th>1</th>\n",
       "      <td>40</td>\n",
       "      <td>50</td>\n",
       "      <td>60</td>\n",
       "    </tr>\n",
       "    <tr>\n",
       "      <th>2</th>\n",
       "      <td>70</td>\n",
       "      <td>80</td>\n",
       "      <td>90</td>\n",
       "    </tr>\n",
       "  </tbody>\n",
       "</table>\n",
       "</div>"
      ],
      "text/plain": [
       "    a   b   c\n",
       "0  10  20  30\n",
       "1  40  50  60\n",
       "2  70  80  90"
      ]
     },
     "execution_count": 37,
     "metadata": {},
     "output_type": "execute_result"
    }
   ],
   "source": [
    "# Applying a small transformation\n",
    "df.transform(func = lambda x : x*10)"
   ]
  },
  {
   "cell_type": "code",
   "execution_count": null,
   "metadata": {},
   "outputs": [],
   "source": [
    "lambda x : np.log(x)"
   ]
  },
  {
   "cell_type": "code",
   "execution_count": null,
   "metadata": {},
   "outputs": [],
   "source": []
  },
  {
   "cell_type": "code",
   "execution_count": null,
   "metadata": {},
   "outputs": [],
   "source": []
  },
  {
   "cell_type": "code",
   "execution_count": null,
   "metadata": {},
   "outputs": [],
   "source": []
  },
  {
   "cell_type": "code",
   "execution_count": null,
   "metadata": {},
   "outputs": [],
   "source": []
  },
  {
   "cell_type": "code",
   "execution_count": null,
   "metadata": {},
   "outputs": [],
   "source": []
  },
  {
   "cell_type": "code",
   "execution_count": 39,
   "metadata": {
    "scrolled": true
   },
   "outputs": [
    {
     "data": {
      "text/html": [
       "<div>\n",
       "<style scoped>\n",
       "    .dataframe tbody tr th:only-of-type {\n",
       "        vertical-align: middle;\n",
       "    }\n",
       "\n",
       "    .dataframe tbody tr th {\n",
       "        vertical-align: top;\n",
       "    }\n",
       "\n",
       "    .dataframe thead th {\n",
       "        text-align: right;\n",
       "    }\n",
       "</style>\n",
       "<table border=\"1\" class=\"dataframe\">\n",
       "  <thead>\n",
       "    <tr style=\"text-align: right;\">\n",
       "      <th></th>\n",
       "      <th>a</th>\n",
       "      <th>b</th>\n",
       "      <th>c</th>\n",
       "    </tr>\n",
       "  </thead>\n",
       "  <tbody>\n",
       "    <tr>\n",
       "      <th>0</th>\n",
       "      <td>0.000000</td>\n",
       "      <td>0.693147</td>\n",
       "      <td>1.098612</td>\n",
       "    </tr>\n",
       "    <tr>\n",
       "      <th>1</th>\n",
       "      <td>1.386294</td>\n",
       "      <td>1.609438</td>\n",
       "      <td>1.791759</td>\n",
       "    </tr>\n",
       "    <tr>\n",
       "      <th>2</th>\n",
       "      <td>1.945910</td>\n",
       "      <td>2.079442</td>\n",
       "      <td>2.197225</td>\n",
       "    </tr>\n",
       "  </tbody>\n",
       "</table>\n",
       "</div>"
      ],
      "text/plain": [
       "          a         b         c\n",
       "0  0.000000  0.693147  1.098612\n",
       "1  1.386294  1.609438  1.791759\n",
       "2  1.945910  2.079442  2.197225"
      ]
     },
     "execution_count": 39,
     "metadata": {},
     "output_type": "execute_result"
    }
   ],
   "source": [
    "# Applying a small transformation\n",
    "df.transform(func = lambda x : np.log(x))"
   ]
  },
  {
   "cell_type": "code",
   "execution_count": 92,
   "metadata": {},
   "outputs": [
    {
     "data": {
      "text/html": [
       "<div>\n",
       "<style scoped>\n",
       "    .dataframe tbody tr th:only-of-type {\n",
       "        vertical-align: middle;\n",
       "    }\n",
       "\n",
       "    .dataframe tbody tr th {\n",
       "        vertical-align: top;\n",
       "    }\n",
       "\n",
       "    .dataframe thead th {\n",
       "        text-align: right;\n",
       "    }\n",
       "</style>\n",
       "<table border=\"1\" class=\"dataframe\">\n",
       "  <thead>\n",
       "    <tr style=\"text-align: right;\">\n",
       "      <th></th>\n",
       "      <th>a</th>\n",
       "      <th>b</th>\n",
       "      <th>c</th>\n",
       "    </tr>\n",
       "  </thead>\n",
       "  <tbody>\n",
       "    <tr>\n",
       "      <th>0</th>\n",
       "      <td>2.718282</td>\n",
       "      <td>7.389056</td>\n",
       "      <td>20.085537</td>\n",
       "    </tr>\n",
       "    <tr>\n",
       "      <th>1</th>\n",
       "      <td>54.598150</td>\n",
       "      <td>148.413159</td>\n",
       "      <td>403.428793</td>\n",
       "    </tr>\n",
       "    <tr>\n",
       "      <th>2</th>\n",
       "      <td>1096.633158</td>\n",
       "      <td>2980.957987</td>\n",
       "      <td>8103.083928</td>\n",
       "    </tr>\n",
       "  </tbody>\n",
       "</table>\n",
       "</div>"
      ],
      "text/plain": [
       "             a            b            c\n",
       "0     2.718282     7.389056    20.085537\n",
       "1    54.598150   148.413159   403.428793\n",
       "2  1096.633158  2980.957987  8103.083928"
      ]
     },
     "execution_count": 92,
     "metadata": {},
     "output_type": "execute_result"
    }
   ],
   "source": [
    "# Applying a small transformation\n",
    "df.transform(func = lambda x : np.exp(x))"
   ]
  },
  {
   "cell_type": "code",
   "execution_count": null,
   "metadata": {},
   "outputs": [],
   "source": []
  }
 ],
 "metadata": {
  "kernelspec": {
   "display_name": "Python 3 (ipykernel)",
   "language": "python",
   "name": "python3"
  },
  "language_info": {
   "codemirror_mode": {
    "name": "ipython",
    "version": 3
   },
   "file_extension": ".py",
   "mimetype": "text/x-python",
   "name": "python",
   "nbconvert_exporter": "python",
   "pygments_lexer": "ipython3",
   "version": "3.9.1"
  }
 },
 "nbformat": 4,
 "nbformat_minor": 4
}
