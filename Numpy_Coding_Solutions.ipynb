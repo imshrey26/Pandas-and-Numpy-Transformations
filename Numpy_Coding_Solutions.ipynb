{
 "cells": [
  {
   "cell_type": "code",
   "execution_count": 1,
   "metadata": {},
   "outputs": [
    {
     "name": "stdout",
     "output_type": "stream",
     "text": [
      "Requirement already satisfied: numpy in /Users/pranavjaipurkar/opt/anaconda3/lib/python3.8/site-packages (1.18.5)\r\n"
     ]
    }
   ],
   "source": [
    "# Command for installing numpy\n",
    "!pip install numpy"
   ]
  },
  {
   "cell_type": "code",
   "execution_count": 2,
   "metadata": {},
   "outputs": [],
   "source": [
    "## Importing Numpy package\n",
    "import numpy as np"
   ]
  },
  {
   "cell_type": "code",
   "execution_count": 3,
   "metadata": {},
   "outputs": [],
   "source": [
    "np_weight = np.array([45,56,78,87,98])"
   ]
  },
  {
   "cell_type": "code",
   "execution_count": 4,
   "metadata": {},
   "outputs": [
    {
     "data": {
      "text/plain": [
       "array([45, 56, 78, 87, 98])"
      ]
     },
     "execution_count": 4,
     "metadata": {},
     "output_type": "execute_result"
    }
   ],
   "source": [
    "np_weight"
   ]
  },
  {
   "cell_type": "code",
   "execution_count": 5,
   "metadata": {},
   "outputs": [],
   "source": [
    "list_we=[45,56,78,87,98]"
   ]
  },
  {
   "cell_type": "code",
   "execution_count": 6,
   "metadata": {},
   "outputs": [
    {
     "data": {
      "text/plain": [
       "numpy.ndarray"
      ]
     },
     "execution_count": 6,
     "metadata": {},
     "output_type": "execute_result"
    }
   ],
   "source": [
    "type(np_weight)"
   ]
  },
  {
   "cell_type": "code",
   "execution_count": 7,
   "metadata": {},
   "outputs": [
    {
     "data": {
      "text/plain": [
       "[45, 56, 78, 87, 98]"
      ]
     },
     "execution_count": 7,
     "metadata": {},
     "output_type": "execute_result"
    }
   ],
   "source": [
    "list_we"
   ]
  },
  {
   "cell_type": "code",
   "execution_count": 8,
   "metadata": {},
   "outputs": [
    {
     "data": {
      "text/plain": [
       "list"
      ]
     },
     "execution_count": 8,
     "metadata": {},
     "output_type": "execute_result"
    }
   ],
   "source": [
    "type(list_we)"
   ]
  },
  {
   "cell_type": "code",
   "execution_count": 9,
   "metadata": {},
   "outputs": [],
   "source": [
    "# Difference between Numpy Arrays and Python Lists :\n",
    "# (1) Less Memory Space Required\n",
    "# (2) Faster Computation"
   ]
  },
  {
   "cell_type": "code",
   "execution_count": 10,
   "metadata": {},
   "outputs": [
    {
     "name": "stdout",
     "output_type": "stream",
     "text": [
      "python list took : 147.78900146484375\n",
      "numpy array took : 22.31597900390625\n"
     ]
    }
   ],
   "source": [
    "import numpy as np\n",
    "import time\n",
    "size = 1000000  #Size of array \n",
    "\n",
    "### Declare python list\n",
    "L1 = range(size)\n",
    "L2 = range(size)\n",
    "\n",
    "# declare two arrays\n",
    "a1 = np.arange(size)  \n",
    "a2 = np.arange(size)\n",
    "\n",
    "## list\n",
    "start = time.time()\n",
    "result = [(x+y) for x,y in zip(L1 , L2)]\n",
    "print(\"python list took :\" ,(time.time()-start)*1000)\n",
    "\n",
    "## numpy array\n",
    "start = time.time()\n",
    "result = a1 + a2\n",
    "print(\"numpy array took :\" ,(time.time() - start)*1000)"
   ]
  },
  {
   "cell_type": "code",
   "execution_count": 11,
   "metadata": {
    "scrolled": false
   },
   "outputs": [
    {
     "name": "stdout",
     "output_type": "stream",
     "text": [
      "1D array in numpy is [1 4 9 3 2]\n",
      "\n",
      "dtype of the numpy array is int64\n",
      "\n"
     ]
    }
   ],
   "source": [
    "# Initializing from Python List\n",
    "v = np.array([1,4,9,3,2])\n",
    "print ('1D array in numpy is %s\\n'%v)\n",
    "print ('dtype of the numpy array is %s\\n'%str(v.dtype))"
   ]
  },
  {
   "cell_type": "code",
   "execution_count": 12,
   "metadata": {},
   "outputs": [
    {
     "data": {
      "text/plain": [
       "array([32, 56, 67])"
      ]
     },
     "execution_count": 12,
     "metadata": {},
     "output_type": "execute_result"
    }
   ],
   "source": [
    "# Creating a numpy array from python list\n",
    "python_list = [32,56,67]\n",
    "np.array(python_list)"
   ]
  },
  {
   "cell_type": "code",
   "execution_count": 13,
   "metadata": {},
   "outputs": [
    {
     "name": "stdout",
     "output_type": "stream",
     "text": [
      "Zeros Matrix of shape (3, 5) is \n",
      "[[0. 0. 0. 0. 0.]\n",
      " [0. 0. 0. 0. 0.]\n",
      " [0. 0. 0. 0. 0.]]\n",
      "\n",
      "Ones Matrix of shape (2, 3) is \n",
      "[[1. 1. 1.]\n",
      " [1. 1. 1.]]\n",
      "\n"
     ]
    }
   ],
   "source": [
    "# Matrix with zeros\n",
    "mat_zeros = np.zeros(shape=(3,5))\n",
    "print ('Zeros Matrix of shape %s is \\n%s\\n'%(mat_zeros.shape,mat_zeros))\n",
    "mat_ones = np.ones(shape=(2,3))\n",
    "print ('Ones Matrix of shape %s is \\n%s\\n'%(mat_ones.shape,mat_ones))"
   ]
  },
  {
   "cell_type": "code",
   "execution_count": 14,
   "metadata": {},
   "outputs": [
    {
     "data": {
      "text/plain": [
       "array([[0., 0.],\n",
       "       [0., 0.],\n",
       "       [0., 0.],\n",
       "       [0., 0.]])"
      ]
     },
     "execution_count": 14,
     "metadata": {},
     "output_type": "execute_result"
    }
   ],
   "source": [
    "np.zeros(shape = (4, 2))"
   ]
  },
  {
   "cell_type": "code",
   "execution_count": 15,
   "metadata": {},
   "outputs": [
    {
     "data": {
      "text/plain": [
       "array([[1, 1, 1],\n",
       "       [1, 1, 1],\n",
       "       [1, 1, 1]])"
      ]
     },
     "execution_count": 15,
     "metadata": {},
     "output_type": "execute_result"
    }
   ],
   "source": [
    "# Matrix with 1's\n",
    "np.ones(shape = (3, 3), dtype = int)"
   ]
  },
  {
   "cell_type": "code",
   "execution_count": 16,
   "metadata": {},
   "outputs": [
    {
     "data": {
      "text/plain": [
       "array([[8, 8, 8, 8],\n",
       "       [8, 8, 8, 8],\n",
       "       [8, 8, 8, 8],\n",
       "       [8, 8, 8, 8]])"
      ]
     },
     "execution_count": 16,
     "metadata": {},
     "output_type": "execute_result"
    }
   ],
   "source": [
    "# Numpy array of a particular value\n",
    "np.full(shape = (4, 4), fill_value = 8, dtype = int)"
   ]
  },
  {
   "cell_type": "code",
   "execution_count": 17,
   "metadata": {
    "scrolled": false
   },
   "outputs": [
    {
     "data": {
      "text/plain": [
       "array([['Hello', 'Hello', 'Hello', 'Hello'],\n",
       "       ['Hello', 'Hello', 'Hello', 'Hello'],\n",
       "       ['Hello', 'Hello', 'Hello', 'Hello'],\n",
       "       ['Hello', 'Hello', 'Hello', 'Hello']], dtype='<U5')"
      ]
     },
     "execution_count": 17,
     "metadata": {},
     "output_type": "execute_result"
    }
   ],
   "source": [
    "# Numpy array of a particular value\n",
    "np.full(shape = (4, 4), fill_value = 'Hello')"
   ]
  },
  {
   "cell_type": "code",
   "execution_count": 18,
   "metadata": {
    "scrolled": false
   },
   "outputs": [
    {
     "data": {
      "text/plain": [
       "array([[101, 101, 101, 101],\n",
       "       [101, 101, 101, 101],\n",
       "       [101, 101, 101, 101],\n",
       "       [101, 101, 101, 101]])"
      ]
     },
     "execution_count": 18,
     "metadata": {},
     "output_type": "execute_result"
    }
   ],
   "source": [
    "np.full(shape = (4, 4), fill_value = 101, dtype = int)"
   ]
  },
  {
   "cell_type": "code",
   "execution_count": 19,
   "metadata": {},
   "outputs": [],
   "source": [
    "np_array  = np.array([3,5,\"NAas\",6])"
   ]
  },
  {
   "cell_type": "code",
   "execution_count": 20,
   "metadata": {},
   "outputs": [
    {
     "data": {
      "text/plain": [
       "array(['3', '5', 'NAas', '6'], dtype='<U21')"
      ]
     },
     "execution_count": 20,
     "metadata": {},
     "output_type": "execute_result"
    }
   ],
   "source": [
    "np_array"
   ]
  },
  {
   "cell_type": "code",
   "execution_count": 21,
   "metadata": {
    "scrolled": false
   },
   "outputs": [
    {
     "name": "stdout",
     "output_type": "stream",
     "text": [
      "matrix generated from numpy.random.randn is \n",
      "[[ 2.53588583  1.57832764 -0.21445678  0.15863982]\n",
      " [-1.9315059  -1.16662603  0.77820118 -0.37066033]\n",
      " [-1.01140516 -1.2005002  -1.45231684  0.21626133]]\n",
      "\n"
     ]
    }
   ],
   "source": [
    "# Randn\n",
    "mat3 = np.random.randn(3,4)\n",
    "print ('matrix generated from numpy.random.randn is \\n%s\\n'%mat3)"
   ]
  },
  {
   "cell_type": "code",
   "execution_count": 22,
   "metadata": {},
   "outputs": [
    {
     "name": "stdout",
     "output_type": "stream",
     "text": [
      "matrix generated from numpy.random.rand is \n",
      "[[0.04786461 0.62102906 0.5145035 ]\n",
      " [0.49127532 0.77480149 0.10656262]]\n",
      "\n"
     ]
    }
   ],
   "source": [
    "# Rand\n",
    "mat1 = np.random.rand(2,3)\n",
    "print ('matrix generated from numpy.random.rand is \\n%s\\n'%mat1)"
   ]
  },
  {
   "cell_type": "code",
   "execution_count": 23,
   "metadata": {},
   "outputs": [
    {
     "data": {
      "text/plain": [
       "array([[[ 1.76405235,  0.40015721,  0.97873798],\n",
       "        [ 2.2408932 ,  1.86755799, -0.97727788],\n",
       "        [ 0.95008842, -0.15135721, -0.10321885]],\n",
       "\n",
       "       [[ 0.4105985 ,  0.14404357,  1.45427351],\n",
       "        [ 0.76103773,  0.12167502,  0.44386323],\n",
       "        [ 0.33367433,  1.49407907, -0.20515826]],\n",
       "\n",
       "       [[ 0.3130677 , -0.85409574, -2.55298982],\n",
       "        [ 0.6536186 ,  0.8644362 , -0.74216502],\n",
       "        [ 2.26975462, -1.45436567,  0.04575852]]])"
      ]
     },
     "execution_count": 23,
     "metadata": {},
     "output_type": "execute_result"
    }
   ],
   "source": [
    "# Randn\n",
    "np.random.seed(0)\n",
    "np.random.randn(3,3,3)"
   ]
  },
  {
   "cell_type": "code",
   "execution_count": 24,
   "metadata": {
    "scrolled": true
   },
   "outputs": [
    {
     "name": "stdout",
     "output_type": "stream",
     "text": [
      "matrix generated from numpy.random.random is \n",
      "[[0 0 0 1]\n",
      " [1 0 1 0]\n",
      " [0 1 0 1]]\n",
      "\n"
     ]
    }
   ],
   "source": [
    "# Randint\n",
    "mat2 = np.random.randint(low=0,high=2,size=(3,4))\n",
    "print ('matrix generated from numpy.random.random is \\n%s\\n'%mat2)"
   ]
  },
  {
   "cell_type": "code",
   "execution_count": 25,
   "metadata": {},
   "outputs": [
    {
     "data": {
      "text/plain": [
       "array([[1, 7, 1],\n",
       "       [1, 3, 6],\n",
       "       [7, 3, 6]])"
      ]
     },
     "execution_count": 25,
     "metadata": {},
     "output_type": "execute_result"
    }
   ],
   "source": [
    "# Randint\n",
    "np.random.randint(low=0,high=8,size=(3,3))"
   ]
  },
  {
   "cell_type": "code",
   "execution_count": 26,
   "metadata": {},
   "outputs": [
    {
     "data": {
      "text/plain": [
       "array([ 5, 10, 15, 20, 25, 30, 35, 40, 45])"
      ]
     },
     "execution_count": 26,
     "metadata": {},
     "output_type": "execute_result"
    }
   ],
   "source": [
    "# arange()\n",
    "np.arange(start = 5, stop = 50, step = 5, dtype = int)"
   ]
  },
  {
   "cell_type": "code",
   "execution_count": 27,
   "metadata": {},
   "outputs": [
    {
     "name": "stdout",
     "output_type": "stream",
     "text": [
      "Creating a numpy array via arange (stop=5) : [0 1 2 3 4]\n",
      "\n",
      "Creating a numpy array via arange (start=2,stop=5) : [2 3 4]\n",
      "\n",
      "Creating a numpy array via arange (start=0,stop=-10,step=-2) : [ 0 -2 -4 -6 -8]\n",
      "\n"
     ]
    }
   ],
   "source": [
    "# arange()\n",
    "v1 = np.arange(5)\n",
    "print ('Creating a numpy array via arange (stop=5) : %s\\n'%v1)\n",
    "v2 = np.arange(2,5)\n",
    "print ('Creating a numpy array via arange (start=2,stop=5) : %s\\n'%v2)\n",
    "v3 = np.arange(0,-10,-2)\n",
    "print ('Creating a numpy array via arange (start=0,stop=-10,step=-2) : %s\\n'%v3)"
   ]
  },
  {
   "cell_type": "code",
   "execution_count": 28,
   "metadata": {},
   "outputs": [
    {
     "data": {
      "text/plain": [
       "array([  4,   8,  12,  16,  20,  24,  28,  32,  36,  40,  44,  48,  52,\n",
       "        56,  60,  64,  68,  72,  76,  80,  84,  88,  92,  96, 100])"
      ]
     },
     "execution_count": 28,
     "metadata": {},
     "output_type": "execute_result"
    }
   ],
   "source": [
    "# Create the table of 4 using np.arange()\n",
    "np.arange(start = 4, stop = 104, step = 4, dtype = int)"
   ]
  },
  {
   "cell_type": "code",
   "execution_count": 29,
   "metadata": {},
   "outputs": [
    {
     "name": "stdout",
     "output_type": "stream",
     "text": [
      "[0 0 0 1 2 3 4 5 7 7]\n"
     ]
    }
   ],
   "source": [
    "# Padding Example with constant mode\n",
    "arr = [1,2,3,4,5]\n",
    "  \n",
    "# padded array\n",
    "pad_arr = np.pad(arr, (3, 2), 'constant', constant_values=(0, 7))\n",
    "print(pad_arr)"
   ]
  },
  {
   "cell_type": "code",
   "execution_count": 30,
   "metadata": {},
   "outputs": [
    {
     "name": "stdout",
     "output_type": "stream",
     "text": [
      "[-4 -2  0  1  2  3  4  5  6  7]\n"
     ]
    }
   ],
   "source": [
    "# Padding Example with linear_ramp mode\n",
    "arr = [1,2,3,4,5] \n",
    "  \n",
    "# padding array using 'linear_ramp' mode\n",
    "pad_arr = np.pad(arr, (3, 2), 'linear_ramp', end_values=(-4, 7))   \n",
    "print(pad_arr)"
   ]
  },
  {
   "cell_type": "code",
   "execution_count": 31,
   "metadata": {},
   "outputs": [
    {
     "name": "stdout",
     "output_type": "stream",
     "text": [
      "[5 5 1 2 3 4 5 5 5]\n"
     ]
    }
   ],
   "source": [
    "# Padding Example with maximum mode\n",
    "arr = [1,2,3,4,5]\n",
    "  \n",
    "# padding array using 'maximum' mode\n",
    "pad_arr = np.pad(arr, (2,), 'maximum')\n",
    "print(pad_arr)"
   ]
  },
  {
   "cell_type": "code",
   "execution_count": 32,
   "metadata": {},
   "outputs": [
    {
     "name": "stdout",
     "output_type": "stream",
     "text": [
      "Original array : \n",
      " [[ 0  1  2  3  4]\n",
      " [ 5  6  7  8  9]\n",
      " [10 11 12 13 14]\n",
      " [15 16 17 18 19]\n",
      " [20 21 22 23 24]]\n",
      "Processed array : \n",
      " [ 0  1  2  3  4  5  6  7  8  9 10 11 12 13 14 15 16 17 18 19 20 21 22 23\n",
      " 24]\n"
     ]
    }
   ],
   "source": [
    "# Flattening array using np.ravel()\n",
    "array = np.arange(25).reshape(5, 5)\n",
    "print(\"Original array : \\n\", array)\n",
    "print(\"Processed array : \\n\", array.ravel())"
   ]
  },
  {
   "cell_type": "code",
   "execution_count": 33,
   "metadata": {},
   "outputs": [
    {
     "name": "stdout",
     "output_type": "stream",
     "text": [
      "Actual array :\n",
      " [1 2 1 3 1 5 6 3 5 3 6 9 0 2]\n",
      "Count of 1 : 3\n",
      "Count of 5 : 2\n"
     ]
    }
   ],
   "source": [
    "# Getting the Occurence of 1 and 5 in a numpy array\n",
    "arr = np.array([1,2,1,3,1,5,6,3,5,3,6,9,0,2])\n",
    "print(\"Actual array :\\n\", arr)\n",
    "print('Count of 1 :', np.count_nonzero(arr == 1))\n",
    "print('Count of 5 :', np.count_nonzero(arr == 5))"
   ]
  },
  {
   "cell_type": "code",
   "execution_count": 34,
   "metadata": {},
   "outputs": [
    {
     "name": "stdout",
     "output_type": "stream",
     "text": [
      "Today:  2022-11-20\n",
      "Yesterday:  2022-11-19\n",
      "Tomorrow:  2022-11-21\n"
     ]
    }
   ],
   "source": [
    "# Date Time Questions\n",
    "# today\n",
    "today = np.datetime64('today', 'D')\n",
    "print(\"Today: \", today)\n",
    "  \n",
    "# yesterday\n",
    "yesterday = np.datetime64('today', 'D') - np.timedelta64(1, 'D')\n",
    "print(\"Yesterday: \", yesterday)\n",
    "  \n",
    "# for tomorrow\n",
    "tomorrow = np.datetime64('today', 'D') + np.timedelta64(1, 'D')\n",
    "print(\"Tomorrow: \", tomorrow)"
   ]
  },
  {
   "cell_type": "code",
   "execution_count": 35,
   "metadata": {},
   "outputs": [
    {
     "name": "stdout",
     "output_type": "stream",
     "text": [
      "Actual array :\n",
      " [(b'Abhishek', 5, 48.5 ) (b'Shreya', 6, 52.5 ) (b'Shruti', 5, 42.1 )\n",
      " (b'Vijay', 5, 40.11)]\n",
      "Sort by height :\n",
      " [(b'Vijay', 5, 40.11) (b'Shruti', 5, 42.1 ) (b'Abhishek', 5, 48.5 )\n",
      " (b'Shreya', 6, 52.5 )]\n"
     ]
    }
   ],
   "source": [
    "# Sorting based on one feature in numpy array\n",
    "dtype = [('name', 'S20'), ('class', int), ('height', float)]\n",
    "students = [('Abhishek', 5, 48.5), ('Shreya', 6, 52.5),('Shruti', 5, 42.10), ('Vijay', 5, 40.11)]\n",
    "\n",
    "# Creating the actual array\n",
    "students = np.array(students, dtype=dtype)   \n",
    "print(\"Actual array :\\n\", students)\n",
    "\n",
    "# Sorted array\n",
    "print(\"Sort by height :\\n\", np.sort(students, order='height')) "
   ]
  },
  {
   "cell_type": "code",
   "execution_count": 36,
   "metadata": {},
   "outputs": [
    {
     "name": "stdout",
     "output_type": "stream",
     "text": [
      "Original array :\n",
      " [10015 32176 34813 73265 98541 10876 35456]\n",
      "Indices of the sorted elements of a given array : \n",
      " [0 5 1 2 6 3 4]\n"
     ]
    }
   ],
   "source": [
    "# Getting the indices of sorted elements \n",
    "employee_id = np.array([10015, 32176, 34813, 73265, 98541, 10876, 35456])\n",
    "print(\"Original array :\\n\", employee_id)\n",
    "\n",
    "# Getting the indices of sorted elements\n",
    "i = np.argsort(employee_id)\n",
    "print(\"Indices of the sorted elements of a given array : \\n\", i)"
   ]
  },
  {
   "cell_type": "code",
   "execution_count": 37,
   "metadata": {},
   "outputs": [
    {
     "name": "stdout",
     "output_type": "stream",
     "text": [
      "Actual Matrix : \n",
      " [[4, 7], [3, 4]]\n",
      "Actual Matrix : \n",
      " [[2, 8], [1, 6]]\n",
      "Outer product of two vectors : \n",
      " [[ 8 32  4 24]\n",
      " [14 56  7 42]\n",
      " [ 6 24  3 18]\n",
      " [ 8 32  4 24]]\n"
     ]
    }
   ],
   "source": [
    "# Outer Cross Product\n",
    "# Creating numpy arrays\n",
    "a = [[4, 7], [3, 4]]\n",
    "b = [[2, 8], [1, 6]]\n",
    "print(\"Actual Matrix : \\n\", a)\n",
    "print(\"Actual Matrix : \\n\", b)\n",
    "\n",
    "# Outer Cross Product\n",
    "res = np.outer(a, b)\n",
    "print(\"Outer product of two vectors : \\n\", res)"
   ]
  },
  {
   "cell_type": "code",
   "execution_count": 38,
   "metadata": {},
   "outputs": [
    {
     "name": "stdout",
     "output_type": "stream",
     "text": [
      "Actual Matrix : \n",
      " [[4, 7], [3, 4]]\n",
      "Actual Matrix : \n",
      " [[2, 8], [1, 6]]\n",
      "Outer product of two vectors : \n",
      " [[ 8 32  4 24]\n",
      " [14 56  7 42]\n",
      " [ 6 24  3 18]\n",
      " [ 8 32  4 24]]\n"
     ]
    }
   ],
   "source": [
    "# Outer Product\n",
    "# Creating numpy arrays\n",
    "a = [[4, 7], [3, 4]]\n",
    "b = [[2, 8], [1, 6]]\n",
    "print(\"Actual Matrix : \\n\", a)\n",
    "print(\"Actual Matrix : \\n\", b)\n",
    "\n",
    "# Outer Cross Product\n",
    "res = np.outer(a, b)\n",
    "print(\"Outer product of two vectors : \\n\", res)"
   ]
  },
  {
   "cell_type": "code",
   "execution_count": 39,
   "metadata": {},
   "outputs": [
    {
     "name": "stdout",
     "output_type": "stream",
     "text": [
      "Actual Matrix : \n",
      " [[4, 7], [3, 4]]\n",
      "Actual Matrix : \n",
      " [[2, 8], [1, 6]]\n",
      "Cross product of two vectors : \n",
      " [18 14]\n"
     ]
    }
   ],
   "source": [
    "# Cross Product\n",
    "# Creating numpy arrays\n",
    "a = [[4, 7], [3, 4]]\n",
    "b = [[2, 8], [1, 6]]\n",
    "print(\"Actual Matrix : \\n\", a)\n",
    "print(\"Actual Matrix : \\n\", b)\n",
    "\n",
    "# Outer Cross Product\n",
    "res = np.cross(a, b)\n",
    "print(\"Cross product of two vectors : \\n\", res)"
   ]
  },
  {
   "cell_type": "code",
   "execution_count": 40,
   "metadata": {},
   "outputs": [
    {
     "name": "stdout",
     "output_type": "stream",
     "text": [
      "Actual Matrix : \n",
      " [[1 2 3]\n",
      " [4 5 6]\n",
      " [7 8 9]]\n",
      "Trace of given matrix :  15\n",
      "Diagonal elements of given matrix :  [1 5 9]\n",
      "Sum of diagonal elements :  15\n"
     ]
    }
   ],
   "source": [
    "# creating a 3X3 Numpy matrix\n",
    "arr = np.array([[1, 2, 3],\n",
    "                    [4, 5, 6],\n",
    "                    [7, 8, 9]])\n",
    "\n",
    "# Displaying the Matrix\n",
    "print(\"Actual Matrix : \\n\", arr)\n",
    "\n",
    "# Trace of a matrix\n",
    "trace = np.trace(arr)\n",
    "print(\"Trace of given matrix : \", trace)\n",
    "\n",
    "# Diagonal elements of a matrix\n",
    "diag = np.diagonal(arr)\n",
    "print(\"Diagonal elements of given matrix : \", diag)\n",
    "print('Sum of diagonal elements : ', sum(diag))"
   ]
  },
  {
   "cell_type": "code",
   "execution_count": 41,
   "metadata": {},
   "outputs": [
    {
     "name": "stdout",
     "output_type": "stream",
     "text": [
      "Actual array :\n",
      " [ 0  1  2  3  4  5  6  7  8  9 10 11 12 13 14 15]\n",
      "Modified array :\n",
      " [[[ 0  1]\n",
      "  [ 2  3]]\n",
      "\n",
      " [[ 4  5]\n",
      "  [ 6  7]]\n",
      "\n",
      " [[ 8  9]\n",
      "  [10 11]]\n",
      "\n",
      " [[12 13]\n",
      "  [14 15]]]\n"
     ]
    }
   ],
   "source": [
    "# Array Reshaping\n",
    "arr = np.arange(16)\n",
    "print('Actual array :\\n', arr)\n",
    "\n",
    "# Reshaping\n",
    "arr_mod = arr.reshape(4,2,2)\n",
    "print('Modified array :\\n', arr_mod)"
   ]
  },
  {
   "cell_type": "code",
   "execution_count": 42,
   "metadata": {},
   "outputs": [
    {
     "name": "stdout",
     "output_type": "stream",
     "text": [
      "Output array :\n",
      " [[  4   8  12  16  20]\n",
      " [ 24  28  32  36  40]\n",
      " [ 44  48  52  56  60]\n",
      " [ 64  68  72  76  80]\n",
      " [ 84  88  92  96 100]]\n"
     ]
    }
   ],
   "source": [
    "# Elements divisible by 4\n",
    "arr = np.arange(start = 4, stop = 101, step = 4, dtype = int).reshape(5, -1)\n",
    "print('Output array :\\n', arr)"
   ]
  },
  {
   "cell_type": "code",
   "execution_count": 43,
   "metadata": {},
   "outputs": [
    {
     "name": "stdout",
     "output_type": "stream",
     "text": [
      "Common intersecting values : [6]\n"
     ]
    }
   ],
   "source": [
    "# Getting common elements \n",
    "arr1 = np.array([2,4,6,8,10])\n",
    "arr2 = np.array([3,6,9])\n",
    "  \n",
    "# Common values between two arrays\n",
    "print('Common intersecting values :', np.intersect1d(arr1, arr2))"
   ]
  },
  {
   "cell_type": "code",
   "execution_count": 44,
   "metadata": {},
   "outputs": [
    {
     "name": "stdout",
     "output_type": "stream",
     "text": [
      "Data Type of the numpy array 1 :  int64\n",
      "Data Type of the numpy array 2 :  int64\n"
     ]
    }
   ],
   "source": [
    "# Checking the data type of the above arrays\n",
    "print('Data Type of the numpy array 1 : ', arr1.dtype)\n",
    "print('Data Type of the numpy array 2 : ', arr2.dtype)"
   ]
  },
  {
   "cell_type": "code",
   "execution_count": 45,
   "metadata": {},
   "outputs": [
    {
     "name": "stdout",
     "output_type": "stream",
     "text": [
      "Array 1 :\n",
      " [ 2.  4.  6.  8. 10.]\n",
      "Data Type of the numpy array 1 :  float64\n",
      "Array 2 :\n",
      " [3. 6. 9.]\n",
      "Data Type of the numpy array 2 :  float64\n"
     ]
    }
   ],
   "source": [
    "# Converting the data type of above arrays to float\n",
    "arr1 = arr1.astype(float)\n",
    "arr2 = arr2.astype(float)\n",
    "\n",
    "# Checking the data type of the above arrays\n",
    "print('Array 1 :\\n', arr1)\n",
    "print('Data Type of the numpy array 1 : ', arr1.dtype)\n",
    "print('Array 2 :\\n', arr2)\n",
    "print('Data Type of the numpy array 2 : ', arr2.dtype)"
   ]
  },
  {
   "cell_type": "code",
   "execution_count": 46,
   "metadata": {},
   "outputs": [
    {
     "name": "stdout",
     "output_type": "stream",
     "text": [
      "Getting the first 20 elements :\n",
      " [ 0  1  2  3  4  5  6  7  8  9 10 11 12 13 14 15 16 17 18 19]\n",
      "Element at position (1, 2) :  7\n",
      "Elements from 2nd row :\n",
      " [5 6 7 8 9]\n"
     ]
    }
   ],
   "source": [
    "# Slicing Example\n",
    "arr = np.arange(50)\n",
    "print('Getting the first 20 elements :\\n', arr[:20])\n",
    "\n",
    "arr = np.arange(50).reshape(10, 5)\n",
    "print('Element at position (1, 2) : ', arr[1, 2])\n",
    "print('Elements from 2nd row :\\n', arr[1, :])"
   ]
  },
  {
   "cell_type": "code",
   "execution_count": null,
   "metadata": {},
   "outputs": [],
   "source": []
  },
  {
   "cell_type": "code",
   "execution_count": 47,
   "metadata": {},
   "outputs": [
    {
     "name": "stdout",
     "output_type": "stream",
     "text": [
      "Array : \n",
      " [[ 5 10 15]\n",
      " [20 25 20]]\n",
      "Dimensions : \n",
      " 2\n"
     ]
    }
   ],
   "source": [
    "# View the no. of dimensions of the matrix\n",
    "a = np.array([[5,10,15],\n",
    "              [20,25,20]])\n",
    "print('Array :','\\n',a)\n",
    "print('Dimensions :','\\n',a.ndim)"
   ]
  },
  {
   "cell_type": "code",
   "execution_count": 48,
   "metadata": {},
   "outputs": [
    {
     "name": "stdout",
     "output_type": "stream",
     "text": [
      "Array : \n",
      " [[1 2 3]\n",
      " [4 5 6]]\n",
      "Shape : \n",
      " (2, 3)\n",
      "Rows =  2\n",
      "Columns =  3\n"
     ]
    }
   ],
   "source": [
    "# view the no. of rows and columns in matrix\n",
    "a = np.array([[1,2,3],\n",
    "              [4,5,6]])\n",
    "print('Array :','\\n',a)\n",
    "print('Shape :','\\n',a.shape)\n",
    "print('Rows = ',a.shape[0])\n",
    "print('Columns = ',a.shape[1])"
   ]
  },
  {
   "cell_type": "code",
   "execution_count": 49,
   "metadata": {
    "scrolled": true
   },
   "outputs": [
    {
     "name": "stdout",
     "output_type": "stream",
     "text": [
      "Size of array : 6\n"
     ]
    }
   ],
   "source": [
    "a = np.array([[5,10,15],\n",
    "              [20,25,20]])\n",
    "print('Size of array :',a.size)"
   ]
  },
  {
   "cell_type": "code",
   "execution_count": 50,
   "metadata": {},
   "outputs": [
    {
     "name": "stdout",
     "output_type": "stream",
     "text": [
      "Number of elements in a :  27\n"
     ]
    }
   ],
   "source": [
    "# Exercise 1\n",
    "a = np.random.randint(27, size = (3,3,3))\n",
    "print('Number of elements in a : ', a.size)"
   ]
  },
  {
   "cell_type": "code",
   "execution_count": 51,
   "metadata": {},
   "outputs": [
    {
     "name": "stdout",
     "output_type": "stream",
     "text": [
      "Minimum value in b is :  0\n",
      "Maximum value in b is :  99\n"
     ]
    }
   ],
   "source": [
    "# Exercise 2 \n",
    "b = np.random.randint(100, size = (10, 10))\n",
    "print('Minimum value in b is : ', b.min())\n",
    "print('Maximum value in b is : ', b.max())"
   ]
  },
  {
   "cell_type": "code",
   "execution_count": 52,
   "metadata": {},
   "outputs": [],
   "source": [
    "# Difficult Question"
   ]
  },
  {
   "cell_type": "code",
   "execution_count": 53,
   "metadata": {},
   "outputs": [
    {
     "name": "stdout",
     "output_type": "stream",
     "text": [
      "The actual array :\n",
      " [[1. 1. 1. 1. 1. 1. 1.]\n",
      " [1. 1. 1. 1. 1. 1. 1.]\n",
      " [1. 1. 1. 1. 1. 1. 1.]\n",
      " [1. 1. 1. 1. 1. 1. 1.]\n",
      " [1. 1. 1. 1. 1. 1. 1.]\n",
      " [1. 1. 1. 1. 1. 1. 1.]\n",
      " [1. 1. 1. 1. 1. 1. 1.]]\n",
      "The final output array :\n",
      " [[1. 1. 1. 1. 1. 1. 1.]\n",
      " [1. 0. 0. 0. 0. 0. 1.]\n",
      " [1. 0. 0. 0. 0. 0. 1.]\n",
      " [1. 0. 0. 0. 0. 0. 1.]\n",
      " [1. 0. 0. 0. 0. 0. 1.]\n",
      " [1. 0. 0. 0. 0. 0. 1.]\n",
      " [1. 1. 1. 1. 1. 1. 1.]]\n"
     ]
    }
   ],
   "source": [
    "# Indexing Questions\n",
    "a = np.ones((7, 7))\n",
    "print('The actual array :\\n', a)\n",
    "a[1:-1, 1:-1] = 0\n",
    "print('The final output array :\\n', a)"
   ]
  },
  {
   "cell_type": "code",
   "execution_count": 54,
   "metadata": {},
   "outputs": [
    {
     "name": "stdout",
     "output_type": "stream",
     "text": [
      "The actual array :\n",
      " [[33 71 86]\n",
      " [32 14 72]\n",
      " [57 25 80]]\n",
      "Output array :\n",
      " [[ 0  0  0  0  0  0  0]\n",
      " [ 0  0  0  0  0  0  0]\n",
      " [ 0  0 33 71 86  0  0]\n",
      " [ 0  0 32 14 72  0  0]\n",
      " [ 0  0 57 25 80  0  0]\n",
      " [ 0  0  0  0  0  0  0]\n",
      " [ 0  0  0  0  0  0  0]]\n"
     ]
    }
   ],
   "source": [
    "# Padding Example\n",
    "x = np.random.randint(1, 100, 9).reshape(3, 3)\n",
    "print('The actual array :\\n', x)\n",
    "\n",
    "# Processed array\n",
    "y = np.pad(x, pad_width = 2, mode = 'constant', constant_values = 0)\n",
    "print('Output array :\\n', y)"
   ]
  },
  {
   "cell_type": "code",
   "execution_count": 55,
   "metadata": {},
   "outputs": [],
   "source": [
    "# Checker Board Example"
   ]
  },
  {
   "cell_type": "code",
   "execution_count": 56,
   "metadata": {},
   "outputs": [
    {
     "name": "stdout",
     "output_type": "stream",
     "text": [
      "Array with 0s:\n",
      " [[0 0 0 0 0 0 0 0]\n",
      " [0 0 0 0 0 0 0 0]\n",
      " [0 0 0 0 0 0 0 0]\n",
      " [0 0 0 0 0 0 0 0]\n",
      " [0 0 0 0 0 0 0 0]\n",
      " [0 0 0 0 0 0 0 0]\n",
      " [0 0 0 0 0 0 0 0]\n",
      " [0 0 0 0 0 0 0 0]]\n"
     ]
    }
   ],
   "source": [
    "# Creating a matrix with 0 values of shape (8, 8)\n",
    "cb = np.zeros((8, 8), dtype = int)\n",
    "print('Array with 0s:\\n', cb)"
   ]
  },
  {
   "cell_type": "code",
   "execution_count": 57,
   "metadata": {},
   "outputs": [
    {
     "name": "stdout",
     "output_type": "stream",
     "text": [
      "First Process Output :\n",
      " [[0 0 0 0 0 0 0 0]\n",
      " [1 0 1 0 1 0 1 0]\n",
      " [0 0 0 0 0 0 0 0]\n",
      " [1 0 1 0 1 0 1 0]\n",
      " [0 0 0 0 0 0 0 0]\n",
      " [1 0 1 0 1 0 1 0]\n",
      " [0 0 0 0 0 0 0 0]\n",
      " [1 0 1 0 1 0 1 0]]\n"
     ]
    }
   ],
   "source": [
    "# Filling every alternate row with 1\n",
    "cb[1::2, ::2] = 1\n",
    "print('First Process Output :\\n', cb)"
   ]
  },
  {
   "cell_type": "code",
   "execution_count": 58,
   "metadata": {},
   "outputs": [
    {
     "name": "stdout",
     "output_type": "stream",
     "text": [
      "Final Output :\n",
      " [[0 1 0 1 0 1 0 1]\n",
      " [1 0 1 0 1 0 1 0]\n",
      " [0 1 0 1 0 1 0 1]\n",
      " [1 0 1 0 1 0 1 0]\n",
      " [0 1 0 1 0 1 0 1]\n",
      " [1 0 1 0 1 0 1 0]\n",
      " [0 1 0 1 0 1 0 1]\n",
      " [1 0 1 0 1 0 1 0]]\n"
     ]
    }
   ],
   "source": [
    "# Filling every alternate column with 1\n",
    "cb[::2, 1::2] = 1\n",
    "print('Final Output :\\n', cb)"
   ]
  },
  {
   "cell_type": "code",
   "execution_count": 59,
   "metadata": {},
   "outputs": [
    {
     "name": "stdout",
     "output_type": "stream",
     "text": [
      "First array :\n",
      " [[3 9 7]\n",
      " [7 2 7]]\n",
      "Second array :\n",
      " [[18 18 13 12 13]\n",
      " [16 13 16 15 17]\n",
      " [10 18 14 16 15]]\n",
      "Final Output :\n",
      " [[268 297 281 283 297]\n",
      " [228 278 221 226 230]]\n"
     ]
    }
   ],
   "source": [
    "# Matrix Multiplication Example\n",
    "mat_2_by_3 = np.random.randint(1, 10, (2, 3))\n",
    "print('First array :\\n', mat_2_by_3)\n",
    "mat_3_by_5 = np.random.randint(10, 20, (3, 5))\n",
    "print('Second array :\\n', mat_3_by_5)\n",
    "\n",
    "# Product\n",
    "res = np.dot(mat_2_by_3, mat_3_by_5)\n",
    "print('Final Output :\\n', res)"
   ]
  },
  {
   "cell_type": "code",
   "execution_count": 60,
   "metadata": {},
   "outputs": [
    {
     "name": "stdout",
     "output_type": "stream",
     "text": [
      "Original list of tuples:\n",
      " [('Physics', 92), ('Chemistry', 97), ('Maths', 95), ('Biology', 85)]\n",
      "Sorting the List of Tuples:\n",
      " [('Biology', 85), ('Physics', 92), ('Maths', 95), ('Chemistry', 97)]\n"
     ]
    }
   ],
   "source": [
    "# Lambda Function Example 1\n",
    "marks = [('Physics', 92), ('Chemistry', 97), ('Maths', 95), ('Biology', 85)]\n",
    "print(\"Original list of tuples:\\n\", marks)\n",
    "marks.sort(key = lambda x: x[1])\n",
    "print(\"Sorting the List of Tuples:\\n\", marks)"
   ]
  },
  {
   "cell_type": "code",
   "execution_count": 61,
   "metadata": {},
   "outputs": [
    {
     "name": "stdout",
     "output_type": "stream",
     "text": [
      "Current datetime : 2022-11-20 14:42:22.915744\n",
      "Current Year : 2022\n",
      "Current Month : 11\n",
      "Current Day : 20\n",
      "Current Time : 14:42:22.915744\n"
     ]
    }
   ],
   "source": [
    "# Lambda Function Example 2\n",
    "import datetime\n",
    "now = datetime.datetime.now()\n",
    "print('Current datetime :', now)\n",
    "year = lambda x : x.year\n",
    "month = lambda x : x.month\n",
    "day = lambda x : x.day\n",
    "t = lambda x : x.time()\n",
    "print('Current Year :', year(now))\n",
    "print('Current Month :',month(now))\n",
    "print('Current Day :',day(now))\n",
    "print('Current Time :',t(now))"
   ]
  },
  {
   "cell_type": "code",
   "execution_count": 62,
   "metadata": {},
   "outputs": [
    {
     "name": "stdout",
     "output_type": "stream",
     "text": [
      "['VIJAY', 'SHARVARI', 'ABHISHEK', 'RISHAB']\n"
     ]
    }
   ],
   "source": [
    "# Map Function Example \n",
    "team = ['Vijay', 'Sharvari', 'Abhishek', 'Rishab']\n",
    "uppered_team = list(map(str.upper, team))\n",
    "print(uppered_team)"
   ]
  },
  {
   "cell_type": "code",
   "execution_count": 63,
   "metadata": {},
   "outputs": [
    {
     "name": "stdout",
     "output_type": "stream",
     "text": [
      "[90, 88, 81, 92, 85]\n"
     ]
    }
   ],
   "source": [
    "# Filter Function Example\n",
    "# Sample data\n",
    "marks = [66, 90, 68, 59, 76, 60, 88, 74, 81, 65, 92, 85]\n",
    "\n",
    "# Function\n",
    "def is_A_student(mark):\n",
    "    return mark > 80\n",
    "    \n",
    "# Filtering the data\n",
    "A_students = list(filter(is_A_student, marks))\n",
    "print(A_students)"
   ]
  },
  {
   "cell_type": "code",
   "execution_count": 64,
   "metadata": {},
   "outputs": [
    {
     "name": "stdout",
     "output_type": "stream",
     "text": [
      "The maximum element of the list is : 92\n"
     ]
    }
   ],
   "source": [
    "# Reduce Function Example \n",
    "from functools import reduce\n",
    "print(\"The maximum element of the list is : \",end=\"\")\n",
    "print(reduce(lambda a,b : a if a > b else b,marks))"
   ]
  },
  {
   "cell_type": "code",
   "execution_count": null,
   "metadata": {},
   "outputs": [],
   "source": []
  }
 ],
 "metadata": {
  "kernelspec": {
   "display_name": "Python 3",
   "language": "python",
   "name": "python3"
  },
  "language_info": {
   "codemirror_mode": {
    "name": "ipython",
    "version": 3
   },
   "file_extension": ".py",
   "mimetype": "text/x-python",
   "name": "python",
   "nbconvert_exporter": "python",
   "pygments_lexer": "ipython3",
   "version": "3.8.3"
  },
  "toc": {
   "base_numbering": 1,
   "nav_menu": {},
   "number_sections": true,
   "sideBar": true,
   "skip_h1_title": false,
   "title_cell": "Table of Contents",
   "title_sidebar": "Contents",
   "toc_cell": false,
   "toc_position": {},
   "toc_section_display": true,
   "toc_window_display": false
  }
 },
 "nbformat": 4,
 "nbformat_minor": 4
}
