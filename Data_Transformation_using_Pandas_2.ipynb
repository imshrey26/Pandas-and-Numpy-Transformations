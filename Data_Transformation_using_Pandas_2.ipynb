{
 "cells": [
  {
   "cell_type": "code",
   "execution_count": null,
   "metadata": {},
   "outputs": [],
   "source": [
    "# Topics to cover for today -\n",
    "# (1) Label Encoder\n",
    "# (2) One Hot Encoder (Using pd.get_dummies)\n",
    "# (3) Concatenate\n",
    "# (4) Append"
   ]
  },
  {
   "cell_type": "code",
   "execution_count": 6,
   "metadata": {},
   "outputs": [],
   "source": [
    "# Importing important libraries\n",
    "import pandas as pd\n",
    "import numpy as np\n",
    "from sklearn.preprocessing import LabelEncoder"
   ]
  },
  {
   "cell_type": "code",
   "execution_count": 7,
   "metadata": {},
   "outputs": [
    {
     "data": {
      "text/html": [
       "<div>\n",
       "<style scoped>\n",
       "    .dataframe tbody tr th:only-of-type {\n",
       "        vertical-align: middle;\n",
       "    }\n",
       "\n",
       "    .dataframe tbody tr th {\n",
       "        vertical-align: top;\n",
       "    }\n",
       "\n",
       "    .dataframe thead th {\n",
       "        text-align: right;\n",
       "    }\n",
       "</style>\n",
       "<table border=\"1\" class=\"dataframe\">\n",
       "  <thead>\n",
       "    <tr style=\"text-align: right;\">\n",
       "      <th></th>\n",
       "      <th>CustomerID</th>\n",
       "      <th>Genre</th>\n",
       "      <th>Age</th>\n",
       "      <th>Annual Income (k$)</th>\n",
       "      <th>Spending Score (1-100)</th>\n",
       "    </tr>\n",
       "  </thead>\n",
       "  <tbody>\n",
       "    <tr>\n",
       "      <th>0</th>\n",
       "      <td>1</td>\n",
       "      <td>Male</td>\n",
       "      <td>19</td>\n",
       "      <td>15</td>\n",
       "      <td>39</td>\n",
       "    </tr>\n",
       "    <tr>\n",
       "      <th>1</th>\n",
       "      <td>2</td>\n",
       "      <td>Male</td>\n",
       "      <td>21</td>\n",
       "      <td>15</td>\n",
       "      <td>81</td>\n",
       "    </tr>\n",
       "    <tr>\n",
       "      <th>2</th>\n",
       "      <td>3</td>\n",
       "      <td>Female</td>\n",
       "      <td>20</td>\n",
       "      <td>16</td>\n",
       "      <td>6</td>\n",
       "    </tr>\n",
       "    <tr>\n",
       "      <th>3</th>\n",
       "      <td>4</td>\n",
       "      <td>Female</td>\n",
       "      <td>23</td>\n",
       "      <td>16</td>\n",
       "      <td>77</td>\n",
       "    </tr>\n",
       "    <tr>\n",
       "      <th>4</th>\n",
       "      <td>5</td>\n",
       "      <td>Female</td>\n",
       "      <td>31</td>\n",
       "      <td>17</td>\n",
       "      <td>40</td>\n",
       "    </tr>\n",
       "  </tbody>\n",
       "</table>\n",
       "</div>"
      ],
      "text/plain": [
       "   CustomerID   Genre  Age  Annual Income (k$)  Spending Score (1-100)\n",
       "0           1    Male   19                  15                      39\n",
       "1           2    Male   21                  15                      81\n",
       "2           3  Female   20                  16                       6\n",
       "3           4  Female   23                  16                      77\n",
       "4           5  Female   31                  17                      40"
      ]
     },
     "execution_count": 7,
     "metadata": {},
     "output_type": "execute_result"
    }
   ],
   "source": [
    "# Importing the dataset\n",
    "df = pd.read_csv('Mall_Customers_BP.csv')\n",
    "df.head()"
   ]
  },
  {
   "cell_type": "code",
   "execution_count": 8,
   "metadata": {},
   "outputs": [
    {
     "data": {
      "text/plain": [
       "CustomerID                0\n",
       "Genre                     0\n",
       "Age                       0\n",
       "Annual Income (k$)        0\n",
       "Spending Score (1-100)    0\n",
       "dtype: int64"
      ]
     },
     "execution_count": 8,
     "metadata": {},
     "output_type": "execute_result"
    }
   ],
   "source": [
    "# Checking for null values\n",
    "df.isnull().sum()"
   ]
  },
  {
   "cell_type": "code",
   "execution_count": 9,
   "metadata": {},
   "outputs": [
    {
     "data": {
      "text/html": [
       "<div>\n",
       "<style scoped>\n",
       "    .dataframe tbody tr th:only-of-type {\n",
       "        vertical-align: middle;\n",
       "    }\n",
       "\n",
       "    .dataframe tbody tr th {\n",
       "        vertical-align: top;\n",
       "    }\n",
       "\n",
       "    .dataframe thead th {\n",
       "        text-align: right;\n",
       "    }\n",
       "</style>\n",
       "<table border=\"1\" class=\"dataframe\">\n",
       "  <thead>\n",
       "    <tr style=\"text-align: right;\">\n",
       "      <th></th>\n",
       "      <th>CustomerID</th>\n",
       "      <th>Genre</th>\n",
       "      <th>Age</th>\n",
       "      <th>Annual Income (k$)</th>\n",
       "      <th>Spending Score (1-100)</th>\n",
       "    </tr>\n",
       "  </thead>\n",
       "  <tbody>\n",
       "    <tr>\n",
       "      <th>0</th>\n",
       "      <td>1</td>\n",
       "      <td>1</td>\n",
       "      <td>19</td>\n",
       "      <td>15</td>\n",
       "      <td>39</td>\n",
       "    </tr>\n",
       "    <tr>\n",
       "      <th>1</th>\n",
       "      <td>2</td>\n",
       "      <td>1</td>\n",
       "      <td>21</td>\n",
       "      <td>15</td>\n",
       "      <td>81</td>\n",
       "    </tr>\n",
       "    <tr>\n",
       "      <th>2</th>\n",
       "      <td>3</td>\n",
       "      <td>0</td>\n",
       "      <td>20</td>\n",
       "      <td>16</td>\n",
       "      <td>6</td>\n",
       "    </tr>\n",
       "    <tr>\n",
       "      <th>3</th>\n",
       "      <td>4</td>\n",
       "      <td>0</td>\n",
       "      <td>23</td>\n",
       "      <td>16</td>\n",
       "      <td>77</td>\n",
       "    </tr>\n",
       "    <tr>\n",
       "      <th>4</th>\n",
       "      <td>5</td>\n",
       "      <td>0</td>\n",
       "      <td>31</td>\n",
       "      <td>17</td>\n",
       "      <td>40</td>\n",
       "    </tr>\n",
       "  </tbody>\n",
       "</table>\n",
       "</div>"
      ],
      "text/plain": [
       "   CustomerID  Genre  Age  Annual Income (k$)  Spending Score (1-100)\n",
       "0           1      1   19                  15                      39\n",
       "1           2      1   21                  15                      81\n",
       "2           3      0   20                  16                       6\n",
       "3           4      0   23                  16                      77\n",
       "4           5      0   31                  17                      40"
      ]
     },
     "execution_count": 9,
     "metadata": {},
     "output_type": "execute_result"
    }
   ],
   "source": [
    "# Applying label encoding technique on 'genre' column\n",
    "encoder = LabelEncoder()\n",
    "df['Genre'] = encoder.fit_transform(df['Genre'])\n",
    "df.head()"
   ]
  },
  {
   "cell_type": "code",
   "execution_count": 11,
   "metadata": {},
   "outputs": [
    {
     "data": {
      "text/html": [
       "<div>\n",
       "<style scoped>\n",
       "    .dataframe tbody tr th:only-of-type {\n",
       "        vertical-align: middle;\n",
       "    }\n",
       "\n",
       "    .dataframe tbody tr th {\n",
       "        vertical-align: top;\n",
       "    }\n",
       "\n",
       "    .dataframe thead th {\n",
       "        text-align: right;\n",
       "    }\n",
       "</style>\n",
       "<table border=\"1\" class=\"dataframe\">\n",
       "  <thead>\n",
       "    <tr style=\"text-align: right;\">\n",
       "      <th></th>\n",
       "      <th>CustomerID</th>\n",
       "      <th>Genre</th>\n",
       "      <th>Age</th>\n",
       "      <th>Annual Income (k$)</th>\n",
       "      <th>Spending Score (1-100)</th>\n",
       "    </tr>\n",
       "  </thead>\n",
       "  <tbody>\n",
       "    <tr>\n",
       "      <th>0</th>\n",
       "      <td>1</td>\n",
       "      <td>Male</td>\n",
       "      <td>19</td>\n",
       "      <td>15</td>\n",
       "      <td>39</td>\n",
       "    </tr>\n",
       "    <tr>\n",
       "      <th>1</th>\n",
       "      <td>2</td>\n",
       "      <td>Male</td>\n",
       "      <td>21</td>\n",
       "      <td>15</td>\n",
       "      <td>81</td>\n",
       "    </tr>\n",
       "    <tr>\n",
       "      <th>2</th>\n",
       "      <td>3</td>\n",
       "      <td>Female</td>\n",
       "      <td>20</td>\n",
       "      <td>16</td>\n",
       "      <td>6</td>\n",
       "    </tr>\n",
       "    <tr>\n",
       "      <th>3</th>\n",
       "      <td>4</td>\n",
       "      <td>Female</td>\n",
       "      <td>23</td>\n",
       "      <td>16</td>\n",
       "      <td>77</td>\n",
       "    </tr>\n",
       "    <tr>\n",
       "      <th>4</th>\n",
       "      <td>5</td>\n",
       "      <td>Female</td>\n",
       "      <td>31</td>\n",
       "      <td>17</td>\n",
       "      <td>40</td>\n",
       "    </tr>\n",
       "  </tbody>\n",
       "</table>\n",
       "</div>"
      ],
      "text/plain": [
       "   CustomerID   Genre  Age  Annual Income (k$)  Spending Score (1-100)\n",
       "0           1    Male   19                  15                      39\n",
       "1           2    Male   21                  15                      81\n",
       "2           3  Female   20                  16                       6\n",
       "3           4  Female   23                  16                      77\n",
       "4           5  Female   31                  17                      40"
      ]
     },
     "execution_count": 11,
     "metadata": {},
     "output_type": "execute_result"
    }
   ],
   "source": [
    "# Importing the dataset\n",
    "df = pd.read_csv('Mall_Customers_BP.csv')\n",
    "df.head()"
   ]
  },
  {
   "cell_type": "code",
   "execution_count": 17,
   "metadata": {},
   "outputs": [
    {
     "name": "stdout",
     "output_type": "stream",
     "text": [
      "     Female  Male\n",
      "0         0     1\n",
      "1         0     1\n",
      "2         1     0\n",
      "3         1     0\n",
      "4         1     0\n",
      "..      ...   ...\n",
      "195       1     0\n",
      "196       1     0\n",
      "197       0     1\n",
      "198       0     1\n",
      "199       0     1\n",
      "\n",
      "[200 rows x 2 columns]\n"
     ]
    }
   ],
   "source": [
    "# One Hot Encoder with get dummies\n",
    "dummy_gender = pd.get_dummies(df['Genre'])\n",
    "print(dummy_gender)"
   ]
  },
  {
   "cell_type": "code",
   "execution_count": 18,
   "metadata": {},
   "outputs": [
    {
     "name": "stdout",
     "output_type": "stream",
     "text": [
      "     CustomerID   Genre  Age  Annual Income (k$)  Spending Score (1-100)  \\\n",
      "0             1    Male   19                  15                      39   \n",
      "1             2    Male   21                  15                      81   \n",
      "2             3  Female   20                  16                       6   \n",
      "3             4  Female   23                  16                      77   \n",
      "4             5  Female   31                  17                      40   \n",
      "..          ...     ...  ...                 ...                     ...   \n",
      "195         196  Female   35                 120                      79   \n",
      "196         197  Female   45                 126                      28   \n",
      "197         198    Male   32                 126                      74   \n",
      "198         199    Male   32                 137                      18   \n",
      "199         200    Male   30                 137                      83   \n",
      "\n",
      "     Female  Male  \n",
      "0         0     1  \n",
      "1         0     1  \n",
      "2         1     0  \n",
      "3         1     0  \n",
      "4         1     0  \n",
      "..      ...   ...  \n",
      "195       1     0  \n",
      "196       1     0  \n",
      "197       0     1  \n",
      "198       0     1  \n",
      "199       0     1  \n",
      "\n",
      "[200 rows x 7 columns]\n"
     ]
    }
   ],
   "source": [
    "# Merging the two columns\n",
    "df = pd.merge(\n",
    "    left=df,\n",
    "    right=dummy_gender,\n",
    "    left_index=True,\n",
    "    right_index=True,\n",
    ")\n",
    "print(df)"
   ]
  },
  {
   "cell_type": "code",
   "execution_count": 19,
   "metadata": {},
   "outputs": [
    {
     "name": "stdout",
     "output_type": "stream",
     "text": [
      "     Name  Age Address Qualification\n",
      "0  Pranav   27  Nagpur            ME\n",
      "1     Sai   28  Kanpur           MBA\n",
      "2   Niraj   29  Satara           MSC\n",
      "3   Vijay   30    Pune           MCA \n",
      "\n",
      "        Name  Age Address Qualification\n",
      "4     Rahul   22  Mumbai            BE\n",
      "5    Ayushi   23   Delhi            BA\n",
      "6  Sharvari   24  Wardha          BCOM\n",
      "7    Dhiraj   25   Vizag           BCA\n"
     ]
    }
   ],
   "source": [
    "# Creating dataset\n",
    "data1 = {'Name' : ['Pranav', 'Sai', 'Niraj', 'Vijay'],\n",
    "        'Age' : [27,28,29,30],\n",
    "        'Address' : ['Nagpur', 'Kanpur', 'Satara', 'Pune'],\n",
    "        'Qualification' : ['ME', 'MBA', 'MSC', 'MCA']}\n",
    "\n",
    "data2 = {'Name' : ['Rahul', 'Ayushi', 'Sharvari', 'Dhiraj'],\n",
    "        'Age' : [22,23,24,25],\n",
    "        'Address' : ['Mumbai', 'Delhi', 'Wardha', 'Vizag'],\n",
    "        'Qualification' : ['BE', 'BA', 'BCOM', 'BCA']}\n",
    "\n",
    "# Converting dictionaries to dataframes\n",
    "df = pd.DataFrame(data1, index = [0,1,2,3])\n",
    "df1 = pd.DataFrame(data2, index = [4,5,6,7])\n",
    "\n",
    "# Printing the dataset\n",
    "print(df, '\\n\\n', df1)"
   ]
  },
  {
   "cell_type": "code",
   "execution_count": 20,
   "metadata": {},
   "outputs": [
    {
     "data": {
      "text/html": [
       "<div>\n",
       "<style scoped>\n",
       "    .dataframe tbody tr th:only-of-type {\n",
       "        vertical-align: middle;\n",
       "    }\n",
       "\n",
       "    .dataframe tbody tr th {\n",
       "        vertical-align: top;\n",
       "    }\n",
       "\n",
       "    .dataframe thead th {\n",
       "        text-align: right;\n",
       "    }\n",
       "</style>\n",
       "<table border=\"1\" class=\"dataframe\">\n",
       "  <thead>\n",
       "    <tr style=\"text-align: right;\">\n",
       "      <th></th>\n",
       "      <th>Name</th>\n",
       "      <th>Age</th>\n",
       "      <th>Address</th>\n",
       "      <th>Qualification</th>\n",
       "    </tr>\n",
       "  </thead>\n",
       "  <tbody>\n",
       "    <tr>\n",
       "      <th>0</th>\n",
       "      <td>Pranav</td>\n",
       "      <td>27</td>\n",
       "      <td>Nagpur</td>\n",
       "      <td>ME</td>\n",
       "    </tr>\n",
       "    <tr>\n",
       "      <th>1</th>\n",
       "      <td>Sai</td>\n",
       "      <td>28</td>\n",
       "      <td>Kanpur</td>\n",
       "      <td>MBA</td>\n",
       "    </tr>\n",
       "    <tr>\n",
       "      <th>2</th>\n",
       "      <td>Niraj</td>\n",
       "      <td>29</td>\n",
       "      <td>Satara</td>\n",
       "      <td>MSC</td>\n",
       "    </tr>\n",
       "    <tr>\n",
       "      <th>3</th>\n",
       "      <td>Vijay</td>\n",
       "      <td>30</td>\n",
       "      <td>Pune</td>\n",
       "      <td>MCA</td>\n",
       "    </tr>\n",
       "    <tr>\n",
       "      <th>4</th>\n",
       "      <td>Rahul</td>\n",
       "      <td>22</td>\n",
       "      <td>Mumbai</td>\n",
       "      <td>BE</td>\n",
       "    </tr>\n",
       "    <tr>\n",
       "      <th>5</th>\n",
       "      <td>Ayushi</td>\n",
       "      <td>23</td>\n",
       "      <td>Delhi</td>\n",
       "      <td>BA</td>\n",
       "    </tr>\n",
       "    <tr>\n",
       "      <th>6</th>\n",
       "      <td>Sharvari</td>\n",
       "      <td>24</td>\n",
       "      <td>Wardha</td>\n",
       "      <td>BCOM</td>\n",
       "    </tr>\n",
       "    <tr>\n",
       "      <th>7</th>\n",
       "      <td>Dhiraj</td>\n",
       "      <td>25</td>\n",
       "      <td>Vizag</td>\n",
       "      <td>BCA</td>\n",
       "    </tr>\n",
       "  </tbody>\n",
       "</table>\n",
       "</div>"
      ],
      "text/plain": [
       "       Name  Age Address Qualification\n",
       "0    Pranav   27  Nagpur            ME\n",
       "1       Sai   28  Kanpur           MBA\n",
       "2     Niraj   29  Satara           MSC\n",
       "3     Vijay   30    Pune           MCA\n",
       "4     Rahul   22  Mumbai            BE\n",
       "5    Ayushi   23   Delhi            BA\n",
       "6  Sharvari   24  Wardha          BCOM\n",
       "7    Dhiraj   25   Vizag           BCA"
      ]
     },
     "execution_count": 20,
     "metadata": {},
     "output_type": "execute_result"
    }
   ],
   "source": [
    "# Concatenating the two given dataframes\n",
    "frames = [df, df1]\n",
    "res1 = pd.concat(frames)\n",
    "res1"
   ]
  },
  {
   "cell_type": "code",
   "execution_count": null,
   "metadata": {},
   "outputs": [],
   "source": [
    "# Exploring axis and join argument in pd.concat"
   ]
  },
  {
   "cell_type": "code",
   "execution_count": 21,
   "metadata": {},
   "outputs": [
    {
     "name": "stdout",
     "output_type": "stream",
     "text": [
      "     Name  Age Address Qualification\n",
      "0  Pranav   27  Nagpur            ME\n",
      "1     Sai   28  Kanpur           MBA\n",
      "2   Niraj   29  Satara           MSC\n",
      "3   Vijay   30    Pune           MCA \n",
      "\n",
      "        Name  Age Address Qualification\n",
      "2     Rahul   22  Mumbai            BE\n",
      "3    Ayushi   23   Delhi            BA\n",
      "6  Sharvari   24  Wardha          BCOM\n",
      "7    Dhiraj   25   Vizag           BCA\n"
     ]
    }
   ],
   "source": [
    "# Creating dataset\n",
    "data1 = {'Name' : ['Pranav', 'Sai', 'Niraj', 'Vijay'],\n",
    "        'Age' : [27,28,29,30],\n",
    "        'Address' : ['Nagpur', 'Kanpur', 'Satara', 'Pune'],\n",
    "        'Qualification' : ['ME', 'MBA', 'MSC', 'MCA']}\n",
    "\n",
    "data2 = {'Name' : ['Rahul', 'Ayushi', 'Sharvari', 'Dhiraj'],\n",
    "        'Age' : [22,23,24,25],\n",
    "        'Address' : ['Mumbai', 'Delhi', 'Wardha', 'Vizag'],\n",
    "        'Qualification' : ['BE', 'BA', 'BCOM', 'BCA']}\n",
    "\n",
    "# Converting dictionaries to dataframes\n",
    "df = pd.DataFrame(data1, index = [0,1,2,3])\n",
    "df1 = pd.DataFrame(data2, index = [2,3,6,7])\n",
    "\n",
    "# Printing the dataset\n",
    "print(df, '\\n\\n', df1)"
   ]
  },
  {
   "cell_type": "code",
   "execution_count": 22,
   "metadata": {},
   "outputs": [
    {
     "data": {
      "text/html": [
       "<div>\n",
       "<style scoped>\n",
       "    .dataframe tbody tr th:only-of-type {\n",
       "        vertical-align: middle;\n",
       "    }\n",
       "\n",
       "    .dataframe tbody tr th {\n",
       "        vertical-align: top;\n",
       "    }\n",
       "\n",
       "    .dataframe thead th {\n",
       "        text-align: right;\n",
       "    }\n",
       "</style>\n",
       "<table border=\"1\" class=\"dataframe\">\n",
       "  <thead>\n",
       "    <tr style=\"text-align: right;\">\n",
       "      <th></th>\n",
       "      <th>Name</th>\n",
       "      <th>Age</th>\n",
       "      <th>Address</th>\n",
       "      <th>Qualification</th>\n",
       "      <th>Name</th>\n",
       "      <th>Age</th>\n",
       "      <th>Address</th>\n",
       "      <th>Qualification</th>\n",
       "    </tr>\n",
       "  </thead>\n",
       "  <tbody>\n",
       "    <tr>\n",
       "      <th>2</th>\n",
       "      <td>Niraj</td>\n",
       "      <td>29</td>\n",
       "      <td>Satara</td>\n",
       "      <td>MSC</td>\n",
       "      <td>Rahul</td>\n",
       "      <td>22</td>\n",
       "      <td>Mumbai</td>\n",
       "      <td>BE</td>\n",
       "    </tr>\n",
       "    <tr>\n",
       "      <th>3</th>\n",
       "      <td>Vijay</td>\n",
       "      <td>30</td>\n",
       "      <td>Pune</td>\n",
       "      <td>MCA</td>\n",
       "      <td>Ayushi</td>\n",
       "      <td>23</td>\n",
       "      <td>Delhi</td>\n",
       "      <td>BA</td>\n",
       "    </tr>\n",
       "  </tbody>\n",
       "</table>\n",
       "</div>"
      ],
      "text/plain": [
       "    Name  Age Address Qualification    Name  Age Address Qualification\n",
       "2  Niraj   29  Satara           MSC   Rahul   22  Mumbai            BE\n",
       "3  Vijay   30    Pune           MCA  Ayushi   23   Delhi            BA"
      ]
     },
     "execution_count": 22,
     "metadata": {},
     "output_type": "execute_result"
    }
   ],
   "source": [
    "# Concatenating\n",
    "res2 = pd.concat([df, df1], axis = 1, join = 'inner')\n",
    "res2"
   ]
  },
  {
   "cell_type": "code",
   "execution_count": 23,
   "metadata": {},
   "outputs": [
    {
     "data": {
      "text/html": [
       "<div>\n",
       "<style scoped>\n",
       "    .dataframe tbody tr th:only-of-type {\n",
       "        vertical-align: middle;\n",
       "    }\n",
       "\n",
       "    .dataframe tbody tr th {\n",
       "        vertical-align: top;\n",
       "    }\n",
       "\n",
       "    .dataframe thead th {\n",
       "        text-align: right;\n",
       "    }\n",
       "</style>\n",
       "<table border=\"1\" class=\"dataframe\">\n",
       "  <thead>\n",
       "    <tr style=\"text-align: right;\">\n",
       "      <th></th>\n",
       "      <th>Name</th>\n",
       "      <th>Age</th>\n",
       "      <th>Address</th>\n",
       "      <th>Qualification</th>\n",
       "      <th>Name</th>\n",
       "      <th>Age</th>\n",
       "      <th>Address</th>\n",
       "      <th>Qualification</th>\n",
       "    </tr>\n",
       "  </thead>\n",
       "  <tbody>\n",
       "    <tr>\n",
       "      <th>0</th>\n",
       "      <td>Pranav</td>\n",
       "      <td>27.0</td>\n",
       "      <td>Nagpur</td>\n",
       "      <td>ME</td>\n",
       "      <td>NaN</td>\n",
       "      <td>NaN</td>\n",
       "      <td>NaN</td>\n",
       "      <td>NaN</td>\n",
       "    </tr>\n",
       "    <tr>\n",
       "      <th>1</th>\n",
       "      <td>Sai</td>\n",
       "      <td>28.0</td>\n",
       "      <td>Kanpur</td>\n",
       "      <td>MBA</td>\n",
       "      <td>NaN</td>\n",
       "      <td>NaN</td>\n",
       "      <td>NaN</td>\n",
       "      <td>NaN</td>\n",
       "    </tr>\n",
       "    <tr>\n",
       "      <th>2</th>\n",
       "      <td>Niraj</td>\n",
       "      <td>29.0</td>\n",
       "      <td>Satara</td>\n",
       "      <td>MSC</td>\n",
       "      <td>Rahul</td>\n",
       "      <td>22.0</td>\n",
       "      <td>Mumbai</td>\n",
       "      <td>BE</td>\n",
       "    </tr>\n",
       "    <tr>\n",
       "      <th>3</th>\n",
       "      <td>Vijay</td>\n",
       "      <td>30.0</td>\n",
       "      <td>Pune</td>\n",
       "      <td>MCA</td>\n",
       "      <td>Ayushi</td>\n",
       "      <td>23.0</td>\n",
       "      <td>Delhi</td>\n",
       "      <td>BA</td>\n",
       "    </tr>\n",
       "    <tr>\n",
       "      <th>6</th>\n",
       "      <td>NaN</td>\n",
       "      <td>NaN</td>\n",
       "      <td>NaN</td>\n",
       "      <td>NaN</td>\n",
       "      <td>Sharvari</td>\n",
       "      <td>24.0</td>\n",
       "      <td>Wardha</td>\n",
       "      <td>BCOM</td>\n",
       "    </tr>\n",
       "    <tr>\n",
       "      <th>7</th>\n",
       "      <td>NaN</td>\n",
       "      <td>NaN</td>\n",
       "      <td>NaN</td>\n",
       "      <td>NaN</td>\n",
       "      <td>Dhiraj</td>\n",
       "      <td>25.0</td>\n",
       "      <td>Vizag</td>\n",
       "      <td>BCA</td>\n",
       "    </tr>\n",
       "  </tbody>\n",
       "</table>\n",
       "</div>"
      ],
      "text/plain": [
       "     Name   Age Address Qualification      Name   Age Address Qualification\n",
       "0  Pranav  27.0  Nagpur            ME       NaN   NaN     NaN           NaN\n",
       "1     Sai  28.0  Kanpur           MBA       NaN   NaN     NaN           NaN\n",
       "2   Niraj  29.0  Satara           MSC     Rahul  22.0  Mumbai            BE\n",
       "3   Vijay  30.0    Pune           MCA    Ayushi  23.0   Delhi            BA\n",
       "6     NaN   NaN     NaN           NaN  Sharvari  24.0  Wardha          BCOM\n",
       "7     NaN   NaN     NaN           NaN    Dhiraj  25.0   Vizag           BCA"
      ]
     },
     "execution_count": 23,
     "metadata": {},
     "output_type": "execute_result"
    }
   ],
   "source": [
    "# Sort argument in concatenating\n",
    "res2 = pd.concat([df, df1], axis = 1, sort = False)\n",
    "res2"
   ]
  },
  {
   "cell_type": "code",
   "execution_count": null,
   "metadata": {},
   "outputs": [],
   "source": [
    "# append() function"
   ]
  },
  {
   "cell_type": "code",
   "execution_count": 25,
   "metadata": {},
   "outputs": [
    {
     "name": "stdout",
     "output_type": "stream",
     "text": [
      "     Name  Age Address Qualification\n",
      "0  Pranav   27  Nagpur            ME\n",
      "1     Sai   28  Kanpur           MBA\n",
      "2   Niraj   29  Satara           MSC\n",
      "3   Vijay   30    Pune           MCA \n",
      "\n",
      "        Name  Age Address Qualification\n",
      "4     Rahul   22  Mumbai            BE\n",
      "5    Ayushi   23   Delhi            BA\n",
      "6  Sharvari   24  Wardha          BCOM\n",
      "7    Dhiraj   25   Vizag           BCA\n"
     ]
    }
   ],
   "source": [
    "# Creating dataset\n",
    "data1 = {'Name' : ['Pranav', 'Sai', 'Niraj', 'Vijay'],\n",
    "        'Age' : [27,28,29,30],\n",
    "        'Address' : ['Nagpur', 'Kanpur', 'Satara', 'Pune'],\n",
    "        'Qualification' : ['ME', 'MBA', 'MSC', 'MCA']}\n",
    "\n",
    "data2 = {'Name' : ['Rahul', 'Ayushi', 'Sharvari', 'Dhiraj'],\n",
    "        'Age' : [22,23,24,25],\n",
    "        'Address' : ['Mumbai', 'Delhi', 'Wardha', 'Vizag'],\n",
    "        'Qualification' : ['BE', 'BA', 'BCOM', 'BCA']}\n",
    "\n",
    "# Converting dictionaries to dataframes\n",
    "df = pd.DataFrame(data1, index = [0,1,2,3])\n",
    "df1 = pd.DataFrame(data2, index = [4,5,6,7])\n",
    "\n",
    "# Printing the dataset\n",
    "print(df, '\\n\\n', df1)"
   ]
  },
  {
   "cell_type": "code",
   "execution_count": 26,
   "metadata": {},
   "outputs": [
    {
     "data": {
      "text/html": [
       "<div>\n",
       "<style scoped>\n",
       "    .dataframe tbody tr th:only-of-type {\n",
       "        vertical-align: middle;\n",
       "    }\n",
       "\n",
       "    .dataframe tbody tr th {\n",
       "        vertical-align: top;\n",
       "    }\n",
       "\n",
       "    .dataframe thead th {\n",
       "        text-align: right;\n",
       "    }\n",
       "</style>\n",
       "<table border=\"1\" class=\"dataframe\">\n",
       "  <thead>\n",
       "    <tr style=\"text-align: right;\">\n",
       "      <th></th>\n",
       "      <th>Name</th>\n",
       "      <th>Age</th>\n",
       "      <th>Address</th>\n",
       "      <th>Qualification</th>\n",
       "    </tr>\n",
       "  </thead>\n",
       "  <tbody>\n",
       "    <tr>\n",
       "      <th>0</th>\n",
       "      <td>Pranav</td>\n",
       "      <td>27</td>\n",
       "      <td>Nagpur</td>\n",
       "      <td>ME</td>\n",
       "    </tr>\n",
       "    <tr>\n",
       "      <th>1</th>\n",
       "      <td>Sai</td>\n",
       "      <td>28</td>\n",
       "      <td>Kanpur</td>\n",
       "      <td>MBA</td>\n",
       "    </tr>\n",
       "    <tr>\n",
       "      <th>2</th>\n",
       "      <td>Niraj</td>\n",
       "      <td>29</td>\n",
       "      <td>Satara</td>\n",
       "      <td>MSC</td>\n",
       "    </tr>\n",
       "    <tr>\n",
       "      <th>3</th>\n",
       "      <td>Vijay</td>\n",
       "      <td>30</td>\n",
       "      <td>Pune</td>\n",
       "      <td>MCA</td>\n",
       "    </tr>\n",
       "    <tr>\n",
       "      <th>4</th>\n",
       "      <td>Rahul</td>\n",
       "      <td>22</td>\n",
       "      <td>Mumbai</td>\n",
       "      <td>BE</td>\n",
       "    </tr>\n",
       "    <tr>\n",
       "      <th>5</th>\n",
       "      <td>Ayushi</td>\n",
       "      <td>23</td>\n",
       "      <td>Delhi</td>\n",
       "      <td>BA</td>\n",
       "    </tr>\n",
       "    <tr>\n",
       "      <th>6</th>\n",
       "      <td>Sharvari</td>\n",
       "      <td>24</td>\n",
       "      <td>Wardha</td>\n",
       "      <td>BCOM</td>\n",
       "    </tr>\n",
       "    <tr>\n",
       "      <th>7</th>\n",
       "      <td>Dhiraj</td>\n",
       "      <td>25</td>\n",
       "      <td>Vizag</td>\n",
       "      <td>BCA</td>\n",
       "    </tr>\n",
       "  </tbody>\n",
       "</table>\n",
       "</div>"
      ],
      "text/plain": [
       "       Name  Age Address Qualification\n",
       "0    Pranav   27  Nagpur            ME\n",
       "1       Sai   28  Kanpur           MBA\n",
       "2     Niraj   29  Satara           MSC\n",
       "3     Vijay   30    Pune           MCA\n",
       "4     Rahul   22  Mumbai            BE\n",
       "5    Ayushi   23   Delhi            BA\n",
       "6  Sharvari   24  Wardha          BCOM\n",
       "7    Dhiraj   25   Vizag           BCA"
      ]
     },
     "execution_count": 26,
     "metadata": {},
     "output_type": "execute_result"
    }
   ],
   "source": [
    "# Using append function\n",
    "res = df.append(df1)\n",
    "res"
   ]
  },
  {
   "cell_type": "code",
   "execution_count": 27,
   "metadata": {},
   "outputs": [
    {
     "name": "stdout",
     "output_type": "stream",
     "text": [
      "     Name  Age Address Qualification\n",
      "0  Pranav   27  Nagpur            ME\n",
      "1     Sai   28  Kanpur           MBA\n",
      "2   Niraj   29  Satara           MSC\n",
      "3   Vijay   30    Pune           MCA \n",
      "\n",
      "        Name  Age Address Qualification\n",
      "2     Rahul   22  Mumbai            BE\n",
      "3    Ayushi   23   Delhi            BA\n",
      "6  Sharvari   24  Wardha          BCOM\n",
      "7    Dhiraj   25   Vizag           BCA\n"
     ]
    }
   ],
   "source": [
    "# Creating dataset\n",
    "data1 = {'Name' : ['Pranav', 'Sai', 'Niraj', 'Vijay'],\n",
    "        'Age' : [27,28,29,30],\n",
    "        'Address' : ['Nagpur', 'Kanpur', 'Satara', 'Pune'],\n",
    "        'Qualification' : ['ME', 'MBA', 'MSC', 'MCA']}\n",
    "\n",
    "data2 = {'Name' : ['Rahul', 'Ayushi', 'Sharvari', 'Dhiraj'],\n",
    "        'Age' : [22,23,24,25],\n",
    "        'Address' : ['Mumbai', 'Delhi', 'Wardha', 'Vizag'],\n",
    "        'Qualification' : ['BE', 'BA', 'BCOM', 'BCA']}\n",
    "\n",
    "# Converting dictionaries to dataframes\n",
    "df = pd.DataFrame(data1, index = [0,1,2,3])\n",
    "df1 = pd.DataFrame(data2, index = [2,3,6,7])\n",
    "\n",
    "# Printing the dataset\n",
    "print(df, '\\n\\n', df1)"
   ]
  },
  {
   "cell_type": "code",
   "execution_count": 28,
   "metadata": {},
   "outputs": [
    {
     "data": {
      "text/html": [
       "<div>\n",
       "<style scoped>\n",
       "    .dataframe tbody tr th:only-of-type {\n",
       "        vertical-align: middle;\n",
       "    }\n",
       "\n",
       "    .dataframe tbody tr th {\n",
       "        vertical-align: top;\n",
       "    }\n",
       "\n",
       "    .dataframe thead th {\n",
       "        text-align: right;\n",
       "    }\n",
       "</style>\n",
       "<table border=\"1\" class=\"dataframe\">\n",
       "  <thead>\n",
       "    <tr style=\"text-align: right;\">\n",
       "      <th></th>\n",
       "      <th>Name</th>\n",
       "      <th>Age</th>\n",
       "      <th>Address</th>\n",
       "      <th>Qualification</th>\n",
       "    </tr>\n",
       "  </thead>\n",
       "  <tbody>\n",
       "    <tr>\n",
       "      <th>0</th>\n",
       "      <td>Pranav</td>\n",
       "      <td>27</td>\n",
       "      <td>Nagpur</td>\n",
       "      <td>ME</td>\n",
       "    </tr>\n",
       "    <tr>\n",
       "      <th>1</th>\n",
       "      <td>Sai</td>\n",
       "      <td>28</td>\n",
       "      <td>Kanpur</td>\n",
       "      <td>MBA</td>\n",
       "    </tr>\n",
       "    <tr>\n",
       "      <th>2</th>\n",
       "      <td>Niraj</td>\n",
       "      <td>29</td>\n",
       "      <td>Satara</td>\n",
       "      <td>MSC</td>\n",
       "    </tr>\n",
       "    <tr>\n",
       "      <th>3</th>\n",
       "      <td>Vijay</td>\n",
       "      <td>30</td>\n",
       "      <td>Pune</td>\n",
       "      <td>MCA</td>\n",
       "    </tr>\n",
       "    <tr>\n",
       "      <th>4</th>\n",
       "      <td>Rahul</td>\n",
       "      <td>22</td>\n",
       "      <td>Mumbai</td>\n",
       "      <td>BE</td>\n",
       "    </tr>\n",
       "    <tr>\n",
       "      <th>5</th>\n",
       "      <td>Ayushi</td>\n",
       "      <td>23</td>\n",
       "      <td>Delhi</td>\n",
       "      <td>BA</td>\n",
       "    </tr>\n",
       "    <tr>\n",
       "      <th>6</th>\n",
       "      <td>Sharvari</td>\n",
       "      <td>24</td>\n",
       "      <td>Wardha</td>\n",
       "      <td>BCOM</td>\n",
       "    </tr>\n",
       "    <tr>\n",
       "      <th>7</th>\n",
       "      <td>Dhiraj</td>\n",
       "      <td>25</td>\n",
       "      <td>Vizag</td>\n",
       "      <td>BCA</td>\n",
       "    </tr>\n",
       "  </tbody>\n",
       "</table>\n",
       "</div>"
      ],
      "text/plain": [
       "       Name  Age Address Qualification\n",
       "0    Pranav   27  Nagpur            ME\n",
       "1       Sai   28  Kanpur           MBA\n",
       "2     Niraj   29  Satara           MSC\n",
       "3     Vijay   30    Pune           MCA\n",
       "4     Rahul   22  Mumbai            BE\n",
       "5    Ayushi   23   Delhi            BA\n",
       "6  Sharvari   24  Wardha          BCOM\n",
       "7    Dhiraj   25   Vizag           BCA"
      ]
     },
     "execution_count": 28,
     "metadata": {},
     "output_type": "execute_result"
    }
   ],
   "source": [
    "# ignore_index argument \n",
    "res = pd.concat([df, df1], ignore_index = True)\n",
    "res"
   ]
  },
  {
   "cell_type": "code",
   "execution_count": 29,
   "metadata": {},
   "outputs": [
    {
     "name": "stdout",
     "output_type": "stream",
     "text": [
      "     Name  Age Address Qualification\n",
      "0  Pranav   27  Nagpur            ME\n",
      "1     Sai   28  Kanpur           MBA\n",
      "2   Niraj   29  Satara           MSC\n",
      "3   Vijay   30    Pune           MCA \n",
      "\n",
      "        Name  Age Address Qualification\n",
      "4     Rahul   22  Mumbai            BE\n",
      "5    Ayushi   23   Delhi            BA\n",
      "6  Sharvari   24  Wardha          BCOM\n",
      "7    Dhiraj   25   Vizag           BCA\n"
     ]
    }
   ],
   "source": [
    "# Creating dataset\n",
    "data1 = {'Name' : ['Pranav', 'Sai', 'Niraj', 'Vijay'],\n",
    "        'Age' : [27,28,29,30],\n",
    "        'Address' : ['Nagpur', 'Kanpur', 'Satara', 'Pune'],\n",
    "        'Qualification' : ['ME', 'MBA', 'MSC', 'MCA']}\n",
    "\n",
    "data2 = {'Name' : ['Rahul', 'Ayushi', 'Sharvari', 'Dhiraj'],\n",
    "        'Age' : [22,23,24,25],\n",
    "        'Address' : ['Mumbai', 'Delhi', 'Wardha', 'Vizag'],\n",
    "        'Qualification' : ['BE', 'BA', 'BCOM', 'BCA']}\n",
    "\n",
    "# Converting dictionaries to dataframes\n",
    "df = pd.DataFrame(data1, index = [0,1,2,3])\n",
    "df1 = pd.DataFrame(data2, index = [4,5,6,7])\n",
    "\n",
    "# Printing the dataset\n",
    "print(df, '\\n\\n', df1)"
   ]
  },
  {
   "cell_type": "code",
   "execution_count": 30,
   "metadata": {},
   "outputs": [
    {
     "data": {
      "text/html": [
       "<div>\n",
       "<style scoped>\n",
       "    .dataframe tbody tr th:only-of-type {\n",
       "        vertical-align: middle;\n",
       "    }\n",
       "\n",
       "    .dataframe tbody tr th {\n",
       "        vertical-align: top;\n",
       "    }\n",
       "\n",
       "    .dataframe thead th {\n",
       "        text-align: right;\n",
       "    }\n",
       "</style>\n",
       "<table border=\"1\" class=\"dataframe\">\n",
       "  <thead>\n",
       "    <tr style=\"text-align: right;\">\n",
       "      <th></th>\n",
       "      <th></th>\n",
       "      <th>Name</th>\n",
       "      <th>Age</th>\n",
       "      <th>Address</th>\n",
       "      <th>Qualification</th>\n",
       "    </tr>\n",
       "  </thead>\n",
       "  <tbody>\n",
       "    <tr>\n",
       "      <th rowspan=\"4\" valign=\"top\">x</th>\n",
       "      <th>0</th>\n",
       "      <td>Pranav</td>\n",
       "      <td>27</td>\n",
       "      <td>Nagpur</td>\n",
       "      <td>ME</td>\n",
       "    </tr>\n",
       "    <tr>\n",
       "      <th>1</th>\n",
       "      <td>Sai</td>\n",
       "      <td>28</td>\n",
       "      <td>Kanpur</td>\n",
       "      <td>MBA</td>\n",
       "    </tr>\n",
       "    <tr>\n",
       "      <th>2</th>\n",
       "      <td>Niraj</td>\n",
       "      <td>29</td>\n",
       "      <td>Satara</td>\n",
       "      <td>MSC</td>\n",
       "    </tr>\n",
       "    <tr>\n",
       "      <th>3</th>\n",
       "      <td>Vijay</td>\n",
       "      <td>30</td>\n",
       "      <td>Pune</td>\n",
       "      <td>MCA</td>\n",
       "    </tr>\n",
       "    <tr>\n",
       "      <th rowspan=\"4\" valign=\"top\">y</th>\n",
       "      <th>4</th>\n",
       "      <td>Rahul</td>\n",
       "      <td>22</td>\n",
       "      <td>Mumbai</td>\n",
       "      <td>BE</td>\n",
       "    </tr>\n",
       "    <tr>\n",
       "      <th>5</th>\n",
       "      <td>Ayushi</td>\n",
       "      <td>23</td>\n",
       "      <td>Delhi</td>\n",
       "      <td>BA</td>\n",
       "    </tr>\n",
       "    <tr>\n",
       "      <th>6</th>\n",
       "      <td>Sharvari</td>\n",
       "      <td>24</td>\n",
       "      <td>Wardha</td>\n",
       "      <td>BCOM</td>\n",
       "    </tr>\n",
       "    <tr>\n",
       "      <th>7</th>\n",
       "      <td>Dhiraj</td>\n",
       "      <td>25</td>\n",
       "      <td>Vizag</td>\n",
       "      <td>BCA</td>\n",
       "    </tr>\n",
       "  </tbody>\n",
       "</table>\n",
       "</div>"
      ],
      "text/plain": [
       "         Name  Age Address Qualification\n",
       "x 0    Pranav   27  Nagpur            ME\n",
       "  1       Sai   28  Kanpur           MBA\n",
       "  2     Niraj   29  Satara           MSC\n",
       "  3     Vijay   30    Pune           MCA\n",
       "y 4     Rahul   22  Mumbai            BE\n",
       "  5    Ayushi   23   Delhi            BA\n",
       "  6  Sharvari   24  Wardha          BCOM\n",
       "  7    Dhiraj   25   Vizag           BCA"
      ]
     },
     "execution_count": 30,
     "metadata": {},
     "output_type": "execute_result"
    }
   ],
   "source": [
    "# concatenating using keys\n",
    "frames = [df, df1]\n",
    "res = pd.concat(frames, keys = ['x', 'y'])\n",
    "res"
   ]
  },
  {
   "cell_type": "code",
   "execution_count": 31,
   "metadata": {},
   "outputs": [
    {
     "name": "stdout",
     "output_type": "stream",
     "text": [
      "     Name  Age Address Qualification\n",
      "0  Pranav   27  Nagpur            ME\n",
      "1     Sai   28  Kanpur           MBA\n",
      "2   Niraj   29  Satara           MSC\n",
      "3   Vijay   30    Pune           MCA \n",
      "\n",
      " 0    1000\n",
      "1    2000\n",
      "2    3000\n",
      "3    4000\n",
      "Name: Salary, dtype: int64\n"
     ]
    }
   ],
   "source": [
    "# Creating dataset\n",
    "data1 = {'Name' : ['Pranav', 'Sai', 'Niraj', 'Vijay'],\n",
    "        'Age' : [27,28,29,30],\n",
    "        'Address' : ['Nagpur', 'Kanpur', 'Satara', 'Pune'],\n",
    "        'Qualification' : ['ME', 'MBA', 'MSC', 'MCA']}\n",
    "\n",
    "# Converting dictionaries to dataframes\n",
    "df = pd.DataFrame(data1, index = [0,1,2,3])\n",
    "\n",
    "# Creating a series\n",
    "s1 = pd.Series([1000, 2000, 3000, 4000], name = 'Salary')\n",
    "print(df, '\\n\\n', s1)"
   ]
  },
  {
   "cell_type": "code",
   "execution_count": 32,
   "metadata": {},
   "outputs": [
    {
     "data": {
      "text/html": [
       "<div>\n",
       "<style scoped>\n",
       "    .dataframe tbody tr th:only-of-type {\n",
       "        vertical-align: middle;\n",
       "    }\n",
       "\n",
       "    .dataframe tbody tr th {\n",
       "        vertical-align: top;\n",
       "    }\n",
       "\n",
       "    .dataframe thead th {\n",
       "        text-align: right;\n",
       "    }\n",
       "</style>\n",
       "<table border=\"1\" class=\"dataframe\">\n",
       "  <thead>\n",
       "    <tr style=\"text-align: right;\">\n",
       "      <th></th>\n",
       "      <th>Name</th>\n",
       "      <th>Age</th>\n",
       "      <th>Address</th>\n",
       "      <th>Qualification</th>\n",
       "      <th>Salary</th>\n",
       "    </tr>\n",
       "  </thead>\n",
       "  <tbody>\n",
       "    <tr>\n",
       "      <th>0</th>\n",
       "      <td>Pranav</td>\n",
       "      <td>27</td>\n",
       "      <td>Nagpur</td>\n",
       "      <td>ME</td>\n",
       "      <td>1000</td>\n",
       "    </tr>\n",
       "    <tr>\n",
       "      <th>1</th>\n",
       "      <td>Sai</td>\n",
       "      <td>28</td>\n",
       "      <td>Kanpur</td>\n",
       "      <td>MBA</td>\n",
       "      <td>2000</td>\n",
       "    </tr>\n",
       "    <tr>\n",
       "      <th>2</th>\n",
       "      <td>Niraj</td>\n",
       "      <td>29</td>\n",
       "      <td>Satara</td>\n",
       "      <td>MSC</td>\n",
       "      <td>3000</td>\n",
       "    </tr>\n",
       "    <tr>\n",
       "      <th>3</th>\n",
       "      <td>Vijay</td>\n",
       "      <td>30</td>\n",
       "      <td>Pune</td>\n",
       "      <td>MCA</td>\n",
       "      <td>4000</td>\n",
       "    </tr>\n",
       "  </tbody>\n",
       "</table>\n",
       "</div>"
      ],
      "text/plain": [
       "     Name  Age Address Qualification  Salary\n",
       "0  Pranav   27  Nagpur            ME    1000\n",
       "1     Sai   28  Kanpur           MBA    2000\n",
       "2   Niraj   29  Satara           MSC    3000\n",
       "3   Vijay   30    Pune           MCA    4000"
      ]
     },
     "execution_count": 32,
     "metadata": {},
     "output_type": "execute_result"
    }
   ],
   "source": [
    "# Concatenating a dataframe and a series\n",
    "res = pd.concat([df, s1], axis = 1)\n",
    "res"
   ]
  },
  {
   "cell_type": "code",
   "execution_count": 33,
   "metadata": {},
   "outputs": [
    {
     "data": {
      "text/plain": [
       "Name             object\n",
       "Age               int64\n",
       "Address          object\n",
       "Qualification    object\n",
       "Salary            int64\n",
       "dtype: object"
      ]
     },
     "execution_count": 33,
     "metadata": {},
     "output_type": "execute_result"
    }
   ],
   "source": [
    "# Getting the data types\n",
    "res.dtypes"
   ]
  },
  {
   "cell_type": "code",
   "execution_count": 36,
   "metadata": {},
   "outputs": [
    {
     "data": {
      "text/plain": [
       "Name             object\n",
       "Age                int8\n",
       "Address          object\n",
       "Qualification    object\n",
       "Salary            int64\n",
       "dtype: object"
      ]
     },
     "execution_count": 36,
     "metadata": {},
     "output_type": "execute_result"
    }
   ],
   "source": [
    "# Converting int64 to int8\n",
    "res['Age'] = res['Age'].astype(np.int8)\n",
    "res.dtypes"
   ]
  },
  {
   "cell_type": "code",
   "execution_count": 39,
   "metadata": {},
   "outputs": [
    {
     "data": {
      "text/plain": [
       "Name              object\n",
       "Age                 int8\n",
       "Address           object\n",
       "Qualification     object\n",
       "Salary           float64\n",
       "dtype: object"
      ]
     },
     "execution_count": 39,
     "metadata": {},
     "output_type": "execute_result"
    }
   ],
   "source": [
    "# Converting int64 to float\n",
    "res['Salary'] = res['Salary'].astype(float)\n",
    "res.dtypes"
   ]
  },
  {
   "cell_type": "code",
   "execution_count": 40,
   "metadata": {},
   "outputs": [
    {
     "data": {
      "text/html": [
       "<div>\n",
       "<style scoped>\n",
       "    .dataframe tbody tr th:only-of-type {\n",
       "        vertical-align: middle;\n",
       "    }\n",
       "\n",
       "    .dataframe tbody tr th {\n",
       "        vertical-align: top;\n",
       "    }\n",
       "\n",
       "    .dataframe thead th {\n",
       "        text-align: right;\n",
       "    }\n",
       "</style>\n",
       "<table border=\"1\" class=\"dataframe\">\n",
       "  <thead>\n",
       "    <tr style=\"text-align: right;\">\n",
       "      <th></th>\n",
       "      <th>Name</th>\n",
       "      <th>Age</th>\n",
       "      <th>Address</th>\n",
       "      <th>Qualification</th>\n",
       "      <th>Salary</th>\n",
       "    </tr>\n",
       "  </thead>\n",
       "  <tbody>\n",
       "    <tr>\n",
       "      <th>0</th>\n",
       "      <td>Pranav</td>\n",
       "      <td>27</td>\n",
       "      <td>Nagpur</td>\n",
       "      <td>ME</td>\n",
       "      <td>1000</td>\n",
       "    </tr>\n",
       "    <tr>\n",
       "      <th>1</th>\n",
       "      <td>Sai</td>\n",
       "      <td>28</td>\n",
       "      <td>Kanpur</td>\n",
       "      <td>MBA</td>\n",
       "      <td>2000</td>\n",
       "    </tr>\n",
       "    <tr>\n",
       "      <th>2</th>\n",
       "      <td>Niraj</td>\n",
       "      <td>29</td>\n",
       "      <td>Satara</td>\n",
       "      <td>MSC</td>\n",
       "      <td>3000</td>\n",
       "    </tr>\n",
       "    <tr>\n",
       "      <th>3</th>\n",
       "      <td>Vijay</td>\n",
       "      <td>30</td>\n",
       "      <td>Pune</td>\n",
       "      <td>MCA</td>\n",
       "      <td>4000</td>\n",
       "    </tr>\n",
       "  </tbody>\n",
       "</table>\n",
       "</div>"
      ],
      "text/plain": [
       "     Name  Age Address Qualification  Salary\n",
       "0  Pranav   27  Nagpur            ME    1000\n",
       "1     Sai   28  Kanpur           MBA    2000\n",
       "2   Niraj   29  Satara           MSC    3000\n",
       "3   Vijay   30    Pune           MCA    4000"
      ]
     },
     "execution_count": 40,
     "metadata": {},
     "output_type": "execute_result"
    }
   ],
   "source": [
    "# Concatenating a dataframe and a series\n",
    "res = pd.concat([df, s1], axis = 1)\n",
    "res"
   ]
  },
  {
   "cell_type": "code",
   "execution_count": 41,
   "metadata": {},
   "outputs": [
    {
     "data": {
      "text/plain": [
       "Name             object\n",
       "Age               int64\n",
       "Address          object\n",
       "Qualification    object\n",
       "Salary            int64\n",
       "dtype: object"
      ]
     },
     "execution_count": 41,
     "metadata": {},
     "output_type": "execute_result"
    }
   ],
   "source": [
    "# Getting the data types\n",
    "res.dtypes"
   ]
  },
  {
   "cell_type": "code",
   "execution_count": 42,
   "metadata": {},
   "outputs": [
    {
     "data": {
      "text/plain": [
       "Name              object\n",
       "Age              float64\n",
       "Address           object\n",
       "Qualification     object\n",
       "Salary           float64\n",
       "dtype: object"
      ]
     },
     "execution_count": 42,
     "metadata": {},
     "output_type": "execute_result"
    }
   ],
   "source": [
    "# Converting multiple columns\n",
    "res[['Age', 'Salary']] = res[['Age', 'Salary']].astype(float)\n",
    "res.dtypes"
   ]
  },
  {
   "cell_type": "code",
   "execution_count": 43,
   "metadata": {},
   "outputs": [
    {
     "data": {
      "text/html": [
       "<div>\n",
       "<style scoped>\n",
       "    .dataframe tbody tr th:only-of-type {\n",
       "        vertical-align: middle;\n",
       "    }\n",
       "\n",
       "    .dataframe tbody tr th {\n",
       "        vertical-align: top;\n",
       "    }\n",
       "\n",
       "    .dataframe thead th {\n",
       "        text-align: right;\n",
       "    }\n",
       "</style>\n",
       "<table border=\"1\" class=\"dataframe\">\n",
       "  <thead>\n",
       "    <tr style=\"text-align: right;\">\n",
       "      <th></th>\n",
       "      <th>Name</th>\n",
       "      <th>Age</th>\n",
       "      <th>Address</th>\n",
       "      <th>Qualification</th>\n",
       "      <th>Salary</th>\n",
       "    </tr>\n",
       "  </thead>\n",
       "  <tbody>\n",
       "    <tr>\n",
       "      <th>0</th>\n",
       "      <td>Pranav</td>\n",
       "      <td>27</td>\n",
       "      <td>Nagpur</td>\n",
       "      <td>ME</td>\n",
       "      <td>1000</td>\n",
       "    </tr>\n",
       "    <tr>\n",
       "      <th>1</th>\n",
       "      <td>Sai</td>\n",
       "      <td>28</td>\n",
       "      <td>Kanpur</td>\n",
       "      <td>MBA</td>\n",
       "      <td>2000</td>\n",
       "    </tr>\n",
       "    <tr>\n",
       "      <th>2</th>\n",
       "      <td>Niraj</td>\n",
       "      <td>29</td>\n",
       "      <td>Satara</td>\n",
       "      <td>MSC</td>\n",
       "      <td>3000</td>\n",
       "    </tr>\n",
       "    <tr>\n",
       "      <th>3</th>\n",
       "      <td>Vijay</td>\n",
       "      <td>30</td>\n",
       "      <td>Pune</td>\n",
       "      <td>MCA</td>\n",
       "      <td>4000</td>\n",
       "    </tr>\n",
       "  </tbody>\n",
       "</table>\n",
       "</div>"
      ],
      "text/plain": [
       "     Name  Age Address Qualification  Salary\n",
       "0  Pranav   27  Nagpur            ME    1000\n",
       "1     Sai   28  Kanpur           MBA    2000\n",
       "2   Niraj   29  Satara           MSC    3000\n",
       "3   Vijay   30    Pune           MCA    4000"
      ]
     },
     "execution_count": 43,
     "metadata": {},
     "output_type": "execute_result"
    }
   ],
   "source": [
    "# Concatenating a dataframe and a series\n",
    "res = pd.concat([df, s1], axis = 1)\n",
    "res"
   ]
  },
  {
   "cell_type": "code",
   "execution_count": 44,
   "metadata": {},
   "outputs": [
    {
     "data": {
      "text/plain": [
       "Name             object\n",
       "Age               int64\n",
       "Address          object\n",
       "Qualification    object\n",
       "Salary            int64\n",
       "dtype: object"
      ]
     },
     "execution_count": 44,
     "metadata": {},
     "output_type": "execute_result"
    }
   ],
   "source": [
    "# Getting the data types\n",
    "res.dtypes"
   ]
  },
  {
   "cell_type": "code",
   "execution_count": 45,
   "metadata": {},
   "outputs": [
    {
     "data": {
      "text/plain": [
       "Name              object\n",
       "Age              float32\n",
       "Address           object\n",
       "Qualification     object\n",
       "Salary             int64\n",
       "dtype: object"
      ]
     },
     "execution_count": 45,
     "metadata": {},
     "output_type": "execute_result"
    }
   ],
   "source": [
    "# Using downcast argument\n",
    "res['Age'] = pd.to_numeric(res['Age'], downcast = 'float')\n",
    "res.dtypes"
   ]
  },
  {
   "cell_type": "code",
   "execution_count": 46,
   "metadata": {},
   "outputs": [
    {
     "data": {
      "text/html": [
       "<div>\n",
       "<style scoped>\n",
       "    .dataframe tbody tr th:only-of-type {\n",
       "        vertical-align: middle;\n",
       "    }\n",
       "\n",
       "    .dataframe tbody tr th {\n",
       "        vertical-align: top;\n",
       "    }\n",
       "\n",
       "    .dataframe thead th {\n",
       "        text-align: right;\n",
       "    }\n",
       "</style>\n",
       "<table border=\"1\" class=\"dataframe\">\n",
       "  <thead>\n",
       "    <tr style=\"text-align: right;\">\n",
       "      <th></th>\n",
       "      <th>Name</th>\n",
       "      <th>Age</th>\n",
       "      <th>Address</th>\n",
       "      <th>Qualification</th>\n",
       "      <th>Salary</th>\n",
       "    </tr>\n",
       "  </thead>\n",
       "  <tbody>\n",
       "    <tr>\n",
       "      <th>0</th>\n",
       "      <td>Pranav</td>\n",
       "      <td>27</td>\n",
       "      <td>Nagpur</td>\n",
       "      <td>ME</td>\n",
       "      <td>1000</td>\n",
       "    </tr>\n",
       "    <tr>\n",
       "      <th>1</th>\n",
       "      <td>Sai</td>\n",
       "      <td>28</td>\n",
       "      <td>Kanpur</td>\n",
       "      <td>MBA</td>\n",
       "      <td>2000</td>\n",
       "    </tr>\n",
       "    <tr>\n",
       "      <th>2</th>\n",
       "      <td>Niraj</td>\n",
       "      <td>29</td>\n",
       "      <td>Satara</td>\n",
       "      <td>MSC</td>\n",
       "      <td>3000</td>\n",
       "    </tr>\n",
       "    <tr>\n",
       "      <th>3</th>\n",
       "      <td>Vijay</td>\n",
       "      <td>30</td>\n",
       "      <td>Pune</td>\n",
       "      <td>MCA</td>\n",
       "      <td>4000</td>\n",
       "    </tr>\n",
       "  </tbody>\n",
       "</table>\n",
       "</div>"
      ],
      "text/plain": [
       "     Name  Age Address Qualification  Salary\n",
       "0  Pranav   27  Nagpur            ME    1000\n",
       "1     Sai   28  Kanpur           MBA    2000\n",
       "2   Niraj   29  Satara           MSC    3000\n",
       "3   Vijay   30    Pune           MCA    4000"
      ]
     },
     "execution_count": 46,
     "metadata": {},
     "output_type": "execute_result"
    }
   ],
   "source": [
    "# Concatenating a dataframe and a series\n",
    "res = pd.concat([df, s1], axis = 1)\n",
    "res"
   ]
  },
  {
   "cell_type": "code",
   "execution_count": 47,
   "metadata": {},
   "outputs": [
    {
     "data": {
      "text/plain": [
       "Name             object\n",
       "Age               int64\n",
       "Address          object\n",
       "Qualification    object\n",
       "Salary            int64\n",
       "dtype: object"
      ]
     },
     "execution_count": 47,
     "metadata": {},
     "output_type": "execute_result"
    }
   ],
   "source": [
    "# Getting the data types\n",
    "res.dtypes"
   ]
  },
  {
   "cell_type": "code",
   "execution_count": null,
   "metadata": {},
   "outputs": [],
   "source": []
  }
 ],
 "metadata": {
  "kernelspec": {
   "display_name": "Python 3",
   "language": "python",
   "name": "python3"
  },
  "language_info": {
   "codemirror_mode": {
    "name": "ipython",
    "version": 3
   },
   "file_extension": ".py",
   "mimetype": "text/x-python",
   "name": "python",
   "nbconvert_exporter": "python",
   "pygments_lexer": "ipython3",
   "version": "3.8.3"
  }
 },
 "nbformat": 4,
 "nbformat_minor": 4
}
